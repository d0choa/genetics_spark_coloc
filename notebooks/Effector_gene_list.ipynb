{
 "cells": [
  {
   "cell_type": "markdown",
   "metadata": {},
   "source": [
    "Logic for parsing chembl dataset to curate effector gene list\n",
    "Load chembl dataset\n",
    "filter by phase 3+4\n",
    "keep efo-gene pairings which were successful\n",
    "\n",
    "Load L2G feature matrix\n",
    "Load study index\n",
    "Load credible sets # maybe not needed\n",
    "\n",
    "For each efo-gene pairing:\n",
    "    Identify studylocusId-to-gene pairings that match the efo\n",
    "    Select the entry with the least amount of feature missingness\n",
    "\n",
    "Filter entries based on feature strength, do not want entries with 1 feature or 2 features only.\n",
    "    Investigate, how many entries remain after different thresholds? at least 5/4/3 features?\n",
    "\n",
    "This will be the new effector gene list / gold standard positives\n",
    "\n",
    "For the negatives:\n",
    "Join the studylocusId in the entries back to the credible set.\n",
    "    Using the variantId information in the credible set, join with the gene index to identify other nearby genes.\n",
    "    These will become gold standard negatives.\n",
    "    Recycle the logic from current GSN generation to filter using stringDB < 0.7\n",
    "\n",
    "    Furthermore, apply a similar filter on the GSN feature matrix, retaining only top 1/2/3/4/5 entries with at least 3/4/5 features.\n",
    "\n",
    "Investigate the schema required for the gold standards\n",
    "Annotate the GSP + GSN entries accordingly.\n",
    "Modify the code in l2g.py to utilise GSP + GSN input directly, instead of automatically identifying GSNs each run.\n",
    "\n",
    "\n"
   ]
  },
  {
   "cell_type": "code",
   "execution_count": 5,
   "metadata": {},
   "outputs": [
    {
     "name": "stderr",
     "output_type": "stream",
     "text": [
      "[Stage 7:>  (24 + 8) / 89][Stage 10:> (0 + 0) / 200][Stage 12:>   (0 + 0) / 1]\r"
     ]
    }
   ],
   "source": [
    "# Generate new gold standards from chembl:\n",
    "from pyspark.sql import Window\n",
    "from pyspark.sql.types import StructType, StructField, StringType\n",
    "from pyspark.sql import SparkSession\n",
    "\n",
    "from pyspark.sql import Window\n",
    "from pyspark.sql.functions import row_number, desc, col\n",
    "\n",
    "from pyspark.sql.functions import explode\n",
    "import sys\n",
    "from gentropy.common.session import Session\n",
    "from pyspark.sql import functions as f\n",
    "\n",
    "#session=Session(\n",
    "#    extended_spark_conf={\"spark.driver.memory\": \"12g\", \"spark.kryoserializer.buffer.max\": \"500m\",\"spark.driver.maxResultSize\":\"3g\"}\n",
    "#    )\n",
    "\n",
    "from pyspark import SparkConf\n",
    "from pyspark.sql import SparkSession\n",
    "app_name = \"example_app\"\n",
    "CREDENTIALS = \"/Users/xg1/.config/gcloud/service_account_credentials.json\" \n",
    "\n",
    "\n",
    "GCS_CONNECTOR_CONF = {\n",
    "    \"spark.hadoop.fs.gs.impl\": \"com.google.cloud.hadoop.fs.gcs.GoogleHadoopFileSystem\",\n",
    "    \"spark.jars\": \"https://storage.googleapis.com/hadoop-lib/gcs/gcs-connector-hadoop3-latest.jar\",\n",
    "    \"spark.hadoop.google.cloud.auth.service.account.enable\": \"true\",\n",
    "    \"spark.hadoop.google.cloud.auth.service.account.json.keyfile\": CREDENTIALS,\n",
    "}\n",
    "\n",
    "extended_spark_conf = {\n",
    "    \"spark.driver.memory\": \"12g\",\n",
    "    \"spark.kryoserializer.buffer.max\": \"500m\",\n",
    "    \"spark.driver.maxResultSize\": \"3g\",\n",
    "}\n",
    "\n",
    "# Combine both configurations\n",
    "combined_conf = {**GCS_CONNECTOR_CONF, **extended_spark_conf}\n",
    "\n",
    "# Initialize SparkConf with the combined configuration\n",
    "spark_config = SparkConf().setAll(combined_conf.items())\n",
    "\n",
    "# Create the Spark session\n",
    "session = SparkSession.builder.config(conf=spark_config).appName(app_name).getOrCreate()\n",
    "#spark_config = SparkConf().setAll(GCS_CONNECTOR_CONF.items())\n",
    "#session = SparkSession.builder.config(conf=spark_config).appName(\"example\").getOrCreate()\n",
    "\n",
    "def TA_OncoOrNot (diseases):\n",
    "    ### create a dataframe asigning TA code, names and Oncology/Other \n",
    "    taDf = session.createDataFrame(\n",
    "        data=[\n",
    "            (\"MONDO_0045024\", \"cell proliferation disorder\", \"Oncology\"),\n",
    "            (\"EFO_0005741\", \"infectious disease\", \"Other\"),\n",
    "            (\"OTAR_0000014\", \"pregnancy or perinatal disease\", \"Other\"),\n",
    "            (\"EFO_0005932\", \"animal disease\", \"Other\"),\n",
    "            (\"MONDO_0024458\", \"disease of visual system\", \"Other\"),\n",
    "            (\"EFO_0000319\", \"cardiovascular disease\", \"Other\"),\n",
    "            (\"EFO_0009605\", \"pancreas disease\", \"Other\"),\n",
    "            (\"EFO_0010282\", \"gastrointestinal disease\", \"Other\"),\n",
    "            (\"OTAR_0000017\", \"reproductive system or breast disease\", \"Other\"),\n",
    "            (\"EFO_0010285\", \"integumentary system disease\", \"Other\"),\n",
    "            (\"EFO_0001379\", \"endocrine system disease\", \"Other\"),\n",
    "            (\"OTAR_0000010\", \"respiratory or thoracic disease\", \"Other\"),\n",
    "            (\"EFO_0009690\", \"urinary system disease\", \"Other\"),\n",
    "            (\"OTAR_0000006\", \"musculoskeletal or connective tissue disease\", \"Other\"),\n",
    "            (\"MONDO_0021205\", \"disease of ear\", \"Other\"),\n",
    "            (\"EFO_0000540\", \"immune system disease\", \"Other\"),\n",
    "            (\"EFO_0005803\", \"hematologic disease\", \"Other\"),\n",
    "            (\"EFO_0000618\", \"nervous system disease\", \"Other\"),\n",
    "            (\"MONDO_0002025\", \"psychiatric disorder\", \"Other\"),\n",
    "            (\"MONDO_0024297\", \"nutritional or metabolic disease\", \"Other\"),\n",
    "            (\"OTAR_0000018\", \"genetic, familial or congenital disease\", \"Other\"),\n",
    "            (\"OTAR_0000009\", \"injury, poisoning or other complication\", \"Other\"),\n",
    "            (\"EFO_0000651\", \"phenotype\", \"Other\"),\n",
    "            (\"EFO_0001444\", \"measurement\", \"Other\"),\n",
    "            (\"GO_0008150\", \"biological process\", \"Other\"),\n",
    "        ],\n",
    "        schema=StructType(\n",
    "            [\n",
    "                StructField(\"taId\", StringType(), True),\n",
    "                StructField(\"taLabel\", StringType(), True),\n",
    "                StructField(\"taLabelSimple\", StringType(), True),\n",
    "            ]\n",
    "        ),\n",
    "    ).withColumn(\"taRank\", f.monotonically_increasing_id())\n",
    "\n",
    "    ### window over disease to take Oncology VS non oncology\n",
    "    wByDisease = Window.partitionBy(\"diseaseId\")\n",
    "  ### explode therapy areas of diseases and joining the dataframe, categorise them between Onco or Others\n",
    "    return (\n",
    "        diseases.withColumn(\"taId\", f.explode(\"therapeuticAreas\"))\n",
    "        .select(f.col(\"id\").alias(\"diseaseId\"), \"taId\", \"parents\")\n",
    "        .join(taDf, on=\"taId\", how=\"left\")\n",
    "        .withColumn(\"minRank\", f.min(\"taRank\").over(wByDisease))\n",
    "        .filter(f.col(\"taRank\") == f.col(\"minRank\"))\n",
    "        .drop(\"taRank\", \"minRank\")\n",
    "    )\n",
    "\n",
    "diseases=session.read.parquet(\"/Users/xg1/Downloads/otg_releases/diseases.parquet\")\n",
    "TA_diseases=TA_OncoOrNot(diseases).select(\"diseaseId\", \"taLabelSimple\").persist()\n",
    "\n",
    "windowSpec = Window.partitionBy(\"diseaseFromSourceMappedId\", \"targetId\")"
   ]
  },
  {
   "cell_type": "code",
   "execution_count": 2,
   "metadata": {},
   "outputs": [
    {
     "name": "stderr",
     "output_type": "stream",
     "text": [
      "                                                                                \r"
     ]
    },
    {
     "data": {
      "text/plain": [
       "14874"
      ]
     },
     "execution_count": 2,
     "metadata": {},
     "output_type": "execute_result"
    }
   ],
   "source": [
    "sys.path.append(\"../../gentropy/src/\")\n",
    "release_path=\"../../otg_releases\"\n",
    "release_ver=\"2406\"\n",
    "\n",
    "\n",
    "chembl_evidence=session.read.parquet(\n",
    "    \"/Users/xg1/Downloads/platform_2409_evidence/evidence/sourceId\\=chembl\").select(\n",
    "        \"targetId\", \"drugId\", \"clinicalPhase\", \n",
    "        \"diseaseFromSourceMappedId\", \n",
    "        \"diseaseFromSource\", \n",
    "        \"clinicalStatus\").withColumn(\n",
    "            \"maxClinicalPhase\", f.max(\"clinicalPhase\").over(windowSpec)).filter(\n",
    "                f.col(\"clinicalPhase\") == f.col(\"maxClinicalPhase\")).drop(\"clinicalPhase\", \"drugId\").distinct()\n",
    "\n",
    "chembl_evidence_noOncology=chembl_evidence.join(TA_diseases.withColumnRenamed(\n",
    "    \"diseaseId\", \"diseaseFromSourceMappedId\"), on=\"diseaseFromSourceMappedId\", how=\"inner\").filter(\n",
    "    (f.col(\"taLabelSimple\") != \"Oncology\") | f.col(\"taLabelSimple\").isNull())\n",
    "\n",
    "chembl_evidence_noOncology.withColumnRenamed(\n",
    "    \"diseaseFromSourceMappedId\", \"efo_terms\").withColumnRenamed(\n",
    "        \"targetId\", \"geneId\").filter(f.col(\"maxClinicalPhase\") >= 3).filter(f.col(\"clinicalStatus\") == \"Completed\").select(\"efo_terms\", \"geneId\").distinct().count()"
   ]
  },
  {
   "cell_type": "code",
   "execution_count": 3,
   "metadata": {},
   "outputs": [],
   "source": [
    "GS=session.read.json(\n",
    "    f\"{release_path}/{release_ver}/locus_to_gene_gold_standard.json\")\n",
    "\n",
    "selected_df = GS.filter(f.col(\"gold_standard_info.highest_confidence\").isin([\"High\", \"Medium\"])).select(\n",
    "    \"gold_standard_info.gene_id\",\n",
    "    \"trait_info.ontology\",\n",
    "    \"trait_info.reported_trait_name\"\n",
    ").withColumnRenamed(\n",
    "    \"ontology\", \"efo_terms\").withColumnRenamed(\n",
    "        \"gene_id\", \"geneId\").withColumnRenamed(\n",
    "            \"reported_trait_name\", \"diseaseFromSource\").select(\n",
    "                \"efo_terms\", \"geneId\", \"diseaseFromSource\").withColumn(\n",
    "                    \"GS_source\", f.lit(\"old_otg_gs\"))\n",
    "\n",
    "chembl_GS=chembl_evidence_noOncology.withColumnRenamed(\n",
    "    \"diseaseFromSourceMappedId\", \"efo_terms\").withColumnRenamed(\n",
    "        \"targetId\", \"geneId\").filter(f.col(\"maxClinicalPhase\") >= 3).filter(f.col(\"clinicalStatus\") == \"Completed\").select(\"efo_terms\", \"geneId\", \"diseaseFromSource\").distinct().withColumn(\n",
    "                    \"GS_source\", f.lit(\"chembl_p3_p4_2409\"))\n",
    "\n",
    "expanded_df = selected_df.withColumn(\"efo_terms\", f.explode(\"efo_terms\"))\n",
    "new_egl=expanded_df.unionByName(chembl_GS)\n",
    "\n",
    "#new_egl.write.parquet(\"/Users/xg1/Downloads/Effector_gene_list.parquet\")"
   ]
  },
  {
   "cell_type": "code",
   "execution_count": 2,
   "metadata": {},
   "outputs": [
    {
     "name": "stderr",
     "output_type": "stream",
     "text": [
      "                                                                                \r"
     ]
    }
   ],
   "source": [
    "new_egl=session.read.parquet(\"/Users/xg1/Downloads/Effector_gene_list.parquet\")\n",
    "fm=session.read.parquet(\"gs://ot_orchestration/releases/24.10_freeze4/locus_to_gene_feature_matrix\")\n",
    "study_index=session.read.parquet(\"gs://ot_orchestration/releases/24.10_freeze4/study_index\")\n",
    "credible_set=session.read.parquet(\"gs://ot_orchestration/releases/24.10_freeze4/credible_set\")"
   ]
  },
  {
   "cell_type": "code",
   "execution_count": 3,
   "metadata": {},
   "outputs": [
    {
     "name": "stderr",
     "output_type": "stream",
     "text": [
      "[Stage 5:=======================================================> (34 + 1) / 35]\r"
     ]
    },
    {
     "name": "stdout",
     "output_type": "stream",
     "text": [
      "+--------------------+--------------------+--------------------+-----------------------+\n",
      "|             studyId|        studyLocusId|     traitFromSource|traitFromSourceMappedId|\n",
      "+--------------------+--------------------+--------------------+-----------------------+\n",
      "|FINNGEN_R11_H7_CO...|bba52052adb27be98...|Convergent concom...|             HP_0000486|\n",
      "|FINNGEN_R11_I9_HY...|11aa030e604b3aa3e...|Hypertension, ess...|            EFO_0000537|\n",
      "|FINNGEN_R11_I9_HY...|53a324ea198571dfc...|Hypertension, ess...|            EFO_0000537|\n",
      "|FINNGEN_R11_I9_HY...|b8d0c1771bffcd371...|Hypertension, ess...|            EFO_0000537|\n",
      "|FINNGEN_R11_I9_HY...|05d95d399ce46a802...|Hypertension, ess...|            EFO_0000537|\n",
      "|FINNGEN_R11_I9_HY...|0afe4f019d1c9a08e...|Hypertension, ess...|            EFO_0000537|\n",
      "|FINNGEN_R11_I9_HY...|114b72c0f9c2af406...|Hypertension, ess...|            EFO_0000537|\n",
      "|FINNGEN_R11_I9_HY...|2f116bb8a31b6bbf5...|Hypertension, ess...|            EFO_0000537|\n",
      "|FINNGEN_R11_I9_HY...|f6d4fd56ab70320f4...|Hypertension, ess...|            EFO_0000537|\n",
      "|FINNGEN_R11_I9_HY...|cac1a08f8558092df...|Hypertension, ess...|            EFO_0000537|\n",
      "|FINNGEN_R11_I9_HY...|3962e07103d0a916d...|Hypertension, ess...|            EFO_0000537|\n",
      "|FINNGEN_R11_I9_HY...|dedb93f8f6f67ea7c...|Hypertension, ess...|            EFO_0000537|\n",
      "|FINNGEN_R11_I9_HY...|543a3210a5066f40c...|Hypertension, ess...|            EFO_0000537|\n",
      "|FINNGEN_R11_I9_HY...|0ab1c8f59bde1c496...|Hypertension, ess...|            EFO_0000537|\n",
      "|FINNGEN_R11_I9_HY...|229b7648344a0e2da...|Hypertension, ess...|            EFO_0000537|\n",
      "|FINNGEN_R11_I9_HY...|4e2d513fc478bf22b...|Hypertension, ess...|            EFO_0000537|\n",
      "|FINNGEN_R11_I9_HY...|dd9ad60ead26955ca...|Hypertension, ess...|            EFO_0000537|\n",
      "|FINNGEN_R11_I9_HY...|c02370aacc9209e21...|Hypertension, ess...|            EFO_0000537|\n",
      "|FINNGEN_R11_I9_HY...|b869727ece547e4ea...|Hypertension, ess...|            EFO_0000537|\n",
      "|FINNGEN_R11_I9_HY...|c855f7dd373a7c7aa...|Hypertension, ess...|            EFO_0000537|\n",
      "+--------------------+--------------------+--------------------+-----------------------+\n",
      "only showing top 20 rows\n",
      "\n"
     ]
    },
    {
     "name": "stderr",
     "output_type": "stream",
     "text": [
      "                                                                                \r"
     ]
    }
   ],
   "source": [
    "study_to_credible_set=credible_set.select(\"studyLocusId\", \"studyId\").join(\n",
    "    study_index.filter(f.col(\"studyType\") == \"gwas\").select(\"studyId\", \"traitFromSource\", \"traitFromSourceMappedIds\").withColumn(\"traitFromSourceMappedId\", f.explode(\"traitFromSourceMappedIds\")).drop(\"traitFromSourceMappedIds\"), on=\"studyId\", how=\"inner\").persist()\n",
    "#study_to_credible_set.show()"
   ]
  },
  {
   "cell_type": "code",
   "execution_count": 4,
   "metadata": {},
   "outputs": [
    {
     "name": "stdout",
     "output_type": "stream",
     "text": [
      "24/11/04 21:38:30 WARN package: Truncated the string representation of a plan since it was too large. This behavior can be adjusted by setting 'spark.sql.debug.maxToStringFields'.\n"
     ]
    },
    {
     "name": "stderr",
     "output_type": "stream",
     "text": [
      "ERROR:root:KeyboardInterrupt while sending command.               (0 + 0) / 200]\n",
      "Traceback (most recent call last):\n",
      "  File \"/Users/xg1/Library/Caches/pypoetry/virtualenvs/gentropy-NMtW8s8F-py3.10/lib/python3.10/site-packages/py4j/java_gateway.py\", line 1038, in send_command\n",
      "    response = connection.send_command(command)\n",
      "  File \"/Users/xg1/Library/Caches/pypoetry/virtualenvs/gentropy-NMtW8s8F-py3.10/lib/python3.10/site-packages/py4j/clientserver.py\", line 511, in send_command\n",
      "    answer = smart_decode(self.stream.readline()[:-1])\n",
      "  File \"/Users/xg1/.pyenv/versions/3.10.8/lib/python3.10/socket.py\", line 705, in readinto\n",
      "    return self._sock.recv_into(b)\n",
      "KeyboardInterrupt\n"
     ]
    },
    {
     "ename": "KeyboardInterrupt",
     "evalue": "",
     "output_type": "error",
     "traceback": [
      "\u001b[0;31m---------------------------------------------------------------------------\u001b[0m",
      "\u001b[0;31mKeyboardInterrupt\u001b[0m                         Traceback (most recent call last)",
      "Cell \u001b[0;32mIn[4], line 2\u001b[0m\n\u001b[1;32m      1\u001b[0m study_to_credible_set_fm\u001b[38;5;241m=\u001b[39mstudy_to_credible_set\u001b[38;5;241m.\u001b[39mjoin(fm, on\u001b[38;5;241m=\u001b[39m\u001b[38;5;124m\"\u001b[39m\u001b[38;5;124mstudyLocusId\u001b[39m\u001b[38;5;124m\"\u001b[39m, how\u001b[38;5;241m=\u001b[39m\u001b[38;5;124m\"\u001b[39m\u001b[38;5;124minner\u001b[39m\u001b[38;5;124m\"\u001b[39m)\u001b[38;5;241m.\u001b[39mpersist()\n\u001b[0;32m----> 2\u001b[0m \u001b[43mstudy_to_credible_set_fm\u001b[49m\u001b[38;5;241;43m.\u001b[39;49m\u001b[43mshow\u001b[49m\u001b[43m(\u001b[49m\u001b[43m)\u001b[49m\n",
      "File \u001b[0;32m~/Library/Caches/pypoetry/virtualenvs/gentropy-NMtW8s8F-py3.10/lib/python3.10/site-packages/pyspark/sql/dataframe.py:606\u001b[0m, in \u001b[0;36mDataFrame.show\u001b[0;34m(self, n, truncate, vertical)\u001b[0m\n\u001b[1;32m    603\u001b[0m     \u001b[38;5;28;01mraise\u001b[39;00m \u001b[38;5;167;01mTypeError\u001b[39;00m(\u001b[38;5;124m\"\u001b[39m\u001b[38;5;124mParameter \u001b[39m\u001b[38;5;124m'\u001b[39m\u001b[38;5;124mvertical\u001b[39m\u001b[38;5;124m'\u001b[39m\u001b[38;5;124m must be a bool\u001b[39m\u001b[38;5;124m\"\u001b[39m)\n\u001b[1;32m    605\u001b[0m \u001b[38;5;28;01mif\u001b[39;00m \u001b[38;5;28misinstance\u001b[39m(truncate, \u001b[38;5;28mbool\u001b[39m) \u001b[38;5;129;01mand\u001b[39;00m truncate:\n\u001b[0;32m--> 606\u001b[0m     \u001b[38;5;28mprint\u001b[39m(\u001b[38;5;28;43mself\u001b[39;49m\u001b[38;5;241;43m.\u001b[39;49m\u001b[43m_jdf\u001b[49m\u001b[38;5;241;43m.\u001b[39;49m\u001b[43mshowString\u001b[49m\u001b[43m(\u001b[49m\u001b[43mn\u001b[49m\u001b[43m,\u001b[49m\u001b[43m \u001b[49m\u001b[38;5;241;43m20\u001b[39;49m\u001b[43m,\u001b[49m\u001b[43m \u001b[49m\u001b[43mvertical\u001b[49m\u001b[43m)\u001b[49m)\n\u001b[1;32m    607\u001b[0m \u001b[38;5;28;01melse\u001b[39;00m:\n\u001b[1;32m    608\u001b[0m     \u001b[38;5;28;01mtry\u001b[39;00m:\n",
      "File \u001b[0;32m~/Library/Caches/pypoetry/virtualenvs/gentropy-NMtW8s8F-py3.10/lib/python3.10/site-packages/py4j/java_gateway.py:1320\u001b[0m, in \u001b[0;36mJavaMember.__call__\u001b[0;34m(self, *args)\u001b[0m\n\u001b[1;32m   1313\u001b[0m args_command, temp_args \u001b[38;5;241m=\u001b[39m \u001b[38;5;28mself\u001b[39m\u001b[38;5;241m.\u001b[39m_build_args(\u001b[38;5;241m*\u001b[39margs)\n\u001b[1;32m   1315\u001b[0m command \u001b[38;5;241m=\u001b[39m proto\u001b[38;5;241m.\u001b[39mCALL_COMMAND_NAME \u001b[38;5;241m+\u001b[39m\\\n\u001b[1;32m   1316\u001b[0m     \u001b[38;5;28mself\u001b[39m\u001b[38;5;241m.\u001b[39mcommand_header \u001b[38;5;241m+\u001b[39m\\\n\u001b[1;32m   1317\u001b[0m     args_command \u001b[38;5;241m+\u001b[39m\\\n\u001b[1;32m   1318\u001b[0m     proto\u001b[38;5;241m.\u001b[39mEND_COMMAND_PART\n\u001b[0;32m-> 1320\u001b[0m answer \u001b[38;5;241m=\u001b[39m \u001b[38;5;28;43mself\u001b[39;49m\u001b[38;5;241;43m.\u001b[39;49m\u001b[43mgateway_client\u001b[49m\u001b[38;5;241;43m.\u001b[39;49m\u001b[43msend_command\u001b[49m\u001b[43m(\u001b[49m\u001b[43mcommand\u001b[49m\u001b[43m)\u001b[49m\n\u001b[1;32m   1321\u001b[0m return_value \u001b[38;5;241m=\u001b[39m get_return_value(\n\u001b[1;32m   1322\u001b[0m     answer, \u001b[38;5;28mself\u001b[39m\u001b[38;5;241m.\u001b[39mgateway_client, \u001b[38;5;28mself\u001b[39m\u001b[38;5;241m.\u001b[39mtarget_id, \u001b[38;5;28mself\u001b[39m\u001b[38;5;241m.\u001b[39mname)\n\u001b[1;32m   1324\u001b[0m \u001b[38;5;28;01mfor\u001b[39;00m temp_arg \u001b[38;5;129;01min\u001b[39;00m temp_args:\n",
      "File \u001b[0;32m~/Library/Caches/pypoetry/virtualenvs/gentropy-NMtW8s8F-py3.10/lib/python3.10/site-packages/py4j/java_gateway.py:1038\u001b[0m, in \u001b[0;36mGatewayClient.send_command\u001b[0;34m(self, command, retry, binary)\u001b[0m\n\u001b[1;32m   1036\u001b[0m connection \u001b[38;5;241m=\u001b[39m \u001b[38;5;28mself\u001b[39m\u001b[38;5;241m.\u001b[39m_get_connection()\n\u001b[1;32m   1037\u001b[0m \u001b[38;5;28;01mtry\u001b[39;00m:\n\u001b[0;32m-> 1038\u001b[0m     response \u001b[38;5;241m=\u001b[39m \u001b[43mconnection\u001b[49m\u001b[38;5;241;43m.\u001b[39;49m\u001b[43msend_command\u001b[49m\u001b[43m(\u001b[49m\u001b[43mcommand\u001b[49m\u001b[43m)\u001b[49m\n\u001b[1;32m   1039\u001b[0m     \u001b[38;5;28;01mif\u001b[39;00m binary:\n\u001b[1;32m   1040\u001b[0m         \u001b[38;5;28;01mreturn\u001b[39;00m response, \u001b[38;5;28mself\u001b[39m\u001b[38;5;241m.\u001b[39m_create_connection_guard(connection)\n",
      "File \u001b[0;32m~/Library/Caches/pypoetry/virtualenvs/gentropy-NMtW8s8F-py3.10/lib/python3.10/site-packages/py4j/clientserver.py:511\u001b[0m, in \u001b[0;36mClientServerConnection.send_command\u001b[0;34m(self, command)\u001b[0m\n\u001b[1;32m    509\u001b[0m \u001b[38;5;28;01mtry\u001b[39;00m:\n\u001b[1;32m    510\u001b[0m     \u001b[38;5;28;01mwhile\u001b[39;00m \u001b[38;5;28;01mTrue\u001b[39;00m:\n\u001b[0;32m--> 511\u001b[0m         answer \u001b[38;5;241m=\u001b[39m smart_decode(\u001b[38;5;28;43mself\u001b[39;49m\u001b[38;5;241;43m.\u001b[39;49m\u001b[43mstream\u001b[49m\u001b[38;5;241;43m.\u001b[39;49m\u001b[43mreadline\u001b[49m\u001b[43m(\u001b[49m\u001b[43m)\u001b[49m[:\u001b[38;5;241m-\u001b[39m\u001b[38;5;241m1\u001b[39m])\n\u001b[1;32m    512\u001b[0m         logger\u001b[38;5;241m.\u001b[39mdebug(\u001b[38;5;124m\"\u001b[39m\u001b[38;5;124mAnswer received: \u001b[39m\u001b[38;5;132;01m{0}\u001b[39;00m\u001b[38;5;124m\"\u001b[39m\u001b[38;5;241m.\u001b[39mformat(answer))\n\u001b[1;32m    513\u001b[0m         \u001b[38;5;66;03m# Happens when a the other end is dead. There might be an empty\u001b[39;00m\n\u001b[1;32m    514\u001b[0m         \u001b[38;5;66;03m# answer before the socket raises an error.\u001b[39;00m\n",
      "File \u001b[0;32m~/.pyenv/versions/3.10.8/lib/python3.10/socket.py:705\u001b[0m, in \u001b[0;36mSocketIO.readinto\u001b[0;34m(self, b)\u001b[0m\n\u001b[1;32m    703\u001b[0m \u001b[38;5;28;01mwhile\u001b[39;00m \u001b[38;5;28;01mTrue\u001b[39;00m:\n\u001b[1;32m    704\u001b[0m     \u001b[38;5;28;01mtry\u001b[39;00m:\n\u001b[0;32m--> 705\u001b[0m         \u001b[38;5;28;01mreturn\u001b[39;00m \u001b[38;5;28;43mself\u001b[39;49m\u001b[38;5;241;43m.\u001b[39;49m\u001b[43m_sock\u001b[49m\u001b[38;5;241;43m.\u001b[39;49m\u001b[43mrecv_into\u001b[49m\u001b[43m(\u001b[49m\u001b[43mb\u001b[49m\u001b[43m)\u001b[49m\n\u001b[1;32m    706\u001b[0m     \u001b[38;5;28;01mexcept\u001b[39;00m timeout:\n\u001b[1;32m    707\u001b[0m         \u001b[38;5;28mself\u001b[39m\u001b[38;5;241m.\u001b[39m_timeout_occurred \u001b[38;5;241m=\u001b[39m \u001b[38;5;28;01mTrue\u001b[39;00m\n",
      "\u001b[0;31mKeyboardInterrupt\u001b[0m: "
     ]
    }
   ],
   "source": [
    "study_to_credible_set_fm=study_to_credible_set.join(fm, on=\"studyLocusId\", how=\"inner\").persist()\n",
    "#study_to_credible_set_fm.show()"
   ]
  },
  {
   "cell_type": "code",
   "execution_count": 7,
   "metadata": {},
   "outputs": [],
   "source": [
    "GS_fm=study_to_credible_set_fm.join(new_egl.withColumnRenamed(\"efo_terms\", \"traitFromSourceMappedId\"), on=[\"traitFromSourceMappedId\", \"geneId\"], how=\"inner\").persist()"
   ]
  },
  {
   "cell_type": "code",
   "execution_count": 8,
   "metadata": {},
   "outputs": [
    {
     "name": "stderr",
     "output_type": "stream",
     "text": [
      "                                                                                \r"
     ]
    },
    {
     "data": {
      "text/plain": [
       "32563"
      ]
     },
     "execution_count": 8,
     "metadata": {},
     "output_type": "execute_result"
    }
   ],
   "source": [
    "GS_fm.count()"
   ]
  },
  {
   "cell_type": "markdown",
   "metadata": {},
   "source": [
    "32563 rows in the feature matrix for 21603 unique efo-gene-traitname effector gene list."
   ]
  },
  {
   "cell_type": "code",
   "execution_count": 9,
   "metadata": {},
   "outputs": [
    {
     "name": "stderr",
     "output_type": "stream",
     "text": [
      "                                                                                \r"
     ]
    },
    {
     "data": {
      "text/plain": [
       "1282"
      ]
     },
     "execution_count": 9,
     "metadata": {},
     "output_type": "execute_result"
    }
   ],
   "source": [
    "GS_fm.select(\"traitFromSourceMappedId\", \"geneId\").distinct().count()"
   ]
  },
  {
   "cell_type": "markdown",
   "metadata": {},
   "source": [
    "This comprised of 1282 efo-gene pairings from the EGL.\n",
    "272 from old otg gold standards.\n",
    "1077 from chembl \n",
    "\n",
    "so there is an overlap of 67 efo-gene pairings."
   ]
  },
  {
   "cell_type": "code",
   "execution_count": 15,
   "metadata": {},
   "outputs": [
    {
     "name": "stdout",
     "output_type": "stream",
     "text": [
      "root\n",
      " |-- traitFromSourceMappedId: string (nullable = true)\n",
      " |-- geneId: string (nullable = true)\n",
      " |-- studyLocusId: string (nullable = true)\n",
      " |-- studyId: string (nullable = true)\n",
      " |-- traitFromSource: string (nullable = true)\n",
      " |-- distanceFootprintMean: float (nullable = true)\n",
      " |-- distanceFootprintMeanNeighbourhood: float (nullable = true)\n",
      " |-- distanceSentinelFootprint: float (nullable = true)\n",
      " |-- distanceSentinelFootprintNeighbourhood: float (nullable = true)\n",
      " |-- distanceSentinelTss: float (nullable = true)\n",
      " |-- distanceSentinelTssNeighbourhood: float (nullable = true)\n",
      " |-- distanceTssMean: float (nullable = true)\n",
      " |-- distanceTssMeanNeighbourhood: float (nullable = true)\n",
      " |-- eQtlColocClppMaximum: float (nullable = true)\n",
      " |-- eQtlColocClppMaximumNeighbourhood: float (nullable = true)\n",
      " |-- eQtlColocH4Maximum: float (nullable = true)\n",
      " |-- eQtlColocH4MaximumNeighbourhood: float (nullable = true)\n",
      " |-- pQtlColocClppMaximum: float (nullable = true)\n",
      " |-- pQtlColocClppMaximumNeighbourhood: float (nullable = true)\n",
      " |-- pQtlColocH4Maximum: float (nullable = true)\n",
      " |-- pQtlColocH4MaximumNeighbourhood: float (nullable = true)\n",
      " |-- regional_mean: float (nullable = true)\n",
      " |-- sQtlColocClppMaximum: float (nullable = true)\n",
      " |-- sQtlColocClppMaximumNeighbourhood: float (nullable = true)\n",
      " |-- sQtlColocH4Maximum: float (nullable = true)\n",
      " |-- sQtlColocH4MaximumNeighbourhood: float (nullable = true)\n",
      " |-- vepMaximum: float (nullable = true)\n",
      " |-- vepMaximumNeighbourhood: float (nullable = true)\n",
      " |-- vepMean: float (nullable = true)\n",
      " |-- vepMeanNeighbourhood: float (nullable = true)\n",
      " |-- diseaseFromSource: string (nullable = true)\n",
      "\n"
     ]
    }
   ],
   "source": [
    "GS_fm.printSchema()"
   ]
  },
  {
   "cell_type": "code",
   "execution_count": 10,
   "metadata": {},
   "outputs": [
    {
     "name": "stderr",
     "output_type": "stream",
     "text": [
      "[Stage 71:=====================================================>(197 + 3) / 200]\r"
     ]
    },
    {
     "name": "stdout",
     "output_type": "stream",
     "text": [
      "Number of studyLocusIds where all rows have zero or null values: 3289\n"
     ]
    },
    {
     "name": "stderr",
     "output_type": "stream",
     "text": [
      "                                                                                \r"
     ]
    }
   ],
   "source": [
    "# exclude_columns = [\"traitFromSourceMappedId\", \"geneId\", \"studyLocusId\", \"studyId\", \"traitFromSource\", \"diseaseFromSource\"]\n",
    "exclude_columns = [\"traitFromSourceMappedId\", \"geneId\", \"studyLocusId\", \"studyId\", \"traitFromSource\", \"diseaseFromSource\", \"distanceFootprintMean\", \"distanceFootprintMeanNeighbourhood\", \"distanceSentinelFootprint\", \"distanceSentinelFootprintNeighbourhood\", \"distanceSentinelTss\", \"distanceSentinelTssNeighbourhood\", \"distanceTssMean\", \"distanceTssMeanNeighbourhood\", ]\n",
    "columns_to_check = [col for col in GS_fm.columns if col not in exclude_columns]\n",
    "\n",
    "non_zero_condition = sum(f.when((f.col(c) != 0) & (f.col(c).isNotNull()), 1).otherwise(0) for c in columns_to_check) == 0\n",
    "\n",
    "filtered_df = GS_fm.groupBy(\"studyLocusId\").agg(f.max(non_zero_condition.cast(\"int\")).alias(\"all_zeros_or_nulls\"))\n",
    "\n",
    "result_count = filtered_df.filter(f.col(\"all_zeros_or_nulls\") == 1).count()\n",
    "\n",
    "print(f\"Number of studyLocusIds where all rows have zero or null values: {result_count}\")"
   ]
  },
  {
   "cell_type": "code",
   "execution_count": null,
   "metadata": {},
   "outputs": [],
   "source": [
    "# Define specific columns to exclude\n",
    "specific_exclude_columns = [\"traitFromSourceMappedId\", \"geneId\", \"studyLocusId\", \"studyId\", \"traitFromSource\", \"diseaseFromSource\"]\n",
    "\n",
    "# Dynamically exclude columns containing \"Neighbourhood\"\n",
    "exclude_columns = specific_exclude_columns + [col for col in GS_fm.columns if \"Neighbourhood\" in col]\n",
    "\n",
    "# Filter the columns based on the exclude list\n",
    "columns_to_check = [col for col in GS_fm.columns if col not in exclude_columns]\n",
    "\n",
    "# Define the non-zero condition for the selected columns\n",
    "non_zero_condition = sum(f.when((f.col(c) != 0) & (f.col(c).isNotNull()), 1).otherwise(0) for c in columns_to_check) == 0\n",
    "\n",
    "# Perform the aggregation and filtering\n",
    "filtered_df = GS_fm.groupBy(\"studyLocusId\").agg(f.max(non_zero_condition.cast(\"int\")).alias(\"all_zeros_or_nulls\"))\n",
    "\n",
    "# Count the result\n",
    "result_count = filtered_df.filter(f.col(\"all_zeros_or_nulls\") == 1).count()\n",
    "\n",
    "print(f\"Number of studyLocusIds where all rows have zero or null values: {result_count}\")"
   ]
  },
  {
   "cell_type": "markdown",
   "metadata": {},
   "source": [
    "3289 rows can be excluded as they have no features other than distance based featured."
   ]
  },
  {
   "cell_type": "code",
   "execution_count": 13,
   "metadata": {},
   "outputs": [
    {
     "name": "stderr",
     "output_type": "stream",
     "text": [
      "                                                                                \r"
     ]
    },
    {
     "data": {
      "text/plain": [
       "272"
      ]
     },
     "execution_count": 13,
     "metadata": {},
     "output_type": "execute_result"
    }
   ],
   "source": [
    "GS_fm.filter(f.col(\"GS_source\") == \"old_otg_gs\").select(\"traitFromSourceMappedId\", \"geneId\").distinct().count()"
   ]
  },
  {
   "cell_type": "code",
   "execution_count": 14,
   "metadata": {},
   "outputs": [
    {
     "name": "stderr",
     "output_type": "stream",
     "text": [
      "                                                                                \r"
     ]
    },
    {
     "data": {
      "text/plain": [
       "1077"
      ]
     },
     "execution_count": 14,
     "metadata": {},
     "output_type": "execute_result"
    }
   ],
   "source": [
    "GS_fm.filter(f.col(\"GS_source\") == \"chembl_p3_p4_2409\").select(\"traitFromSourceMappedId\", \"geneId\").distinct().count()"
   ]
  },
  {
   "cell_type": "code",
   "execution_count": 16,
   "metadata": {},
   "outputs": [
    {
     "name": "stdout",
     "output_type": "stream",
     "text": [
      "+-----------------------+---------------+--------------------+------------+--------------------+---------------------+----------------------------------+-------------------------+--------------------------------------+-------------------+--------------------------------+---------------+----------------------------+--------------------+---------------------------------+------------------+-------------------------------+--------------------+---------------------------------+------------------+-------------------------------+-------------+--------------------+---------------------------------+------------------+-------------------------------+----------+-----------------------+-----------+--------------------+--------------------+----------+-----------------------+\n",
      "|traitFromSourceMappedId|         geneId|        studyLocusId|     studyId|     traitFromSource|distanceFootprintMean|distanceFootprintMeanNeighbourhood|distanceSentinelFootprint|distanceSentinelFootprintNeighbourhood|distanceSentinelTss|distanceSentinelTssNeighbourhood|distanceTssMean|distanceTssMeanNeighbourhood|eQtlColocClppMaximum|eQtlColocClppMaximumNeighbourhood|eQtlColocH4Maximum|eQtlColocH4MaximumNeighbourhood|pQtlColocClppMaximum|pQtlColocClppMaximumNeighbourhood|pQtlColocH4Maximum|pQtlColocH4MaximumNeighbourhood|regional_mean|sQtlColocClppMaximum|sQtlColocClppMaximumNeighbourhood|sQtlColocH4Maximum|sQtlColocH4MaximumNeighbourhood|vepMaximum|vepMaximumNeighbourhood|    vepMean|vepMeanNeighbourhood|   diseaseFromSource| GS_source|non_zero_non_null_count|\n",
      "+-----------------------+---------------+--------------------+------------+--------------------+---------------------+----------------------------------+-------------------------+--------------------------------------+-------------------+--------------------------------+---------------+----------------------------+--------------------+---------------------------------+------------------+-------------------------------+--------------------+---------------------------------+------------------+-------------------------------+-------------+--------------------+---------------------------------+------------------+-------------------------------+----------+-----------------------+-----------+--------------------+--------------------+----------+-----------------------+\n",
      "|            EFO_0000305|ENSG00000135111|a3fed5141dcb54090...|  GCST010099|Invasive breast c...|            4.5913563|                        0.21425985|                 5.698971|                            0.21761566|          5.6867766|                      0.20727819|       4.580504|                  0.20518537|                null|                             null|              null|                           null|                null|                             null|              null|                           null|  0.007615025|                null|                             null|              null|                           null|       0.1|                   0.05| 0.01523005|         0.007615025|    Breast carcinoma|old_otg_gs|                     13|\n",
      "|            EFO_0000305|ENSG00000135111|07b09e544da94bdae...|  GCST010098|       Breast cancer|            4.5177493|                        0.21425985|                 5.698971|                            0.21761566|          5.6867766|                      0.20727819|       4.506897|                  0.20518537|                null|                             null|              null|                           null|                null|                             null|              null|                           null|  0.007799472|                null|                             null|              null|                           null|       0.1|                   0.05|0.015598944|         0.007799472|    Breast carcinoma|old_otg_gs|                     13|\n",
      "|            EFO_0000305|ENSG00000135111|-3269682916626637251|  GCST004988|       Breast cancer|             4.933968|                        0.21675994|                5.6977777|                            0.21611406|           5.685481|                      0.20567922|        4.92348|                  0.20802939|                null|                             null|              null|                           null|                null|                             null|              null|                           null|         0.05|                null|                             null|              null|                           null|       0.1|                   0.05|0.010801954|         0.005400977|    Breast carcinoma|old_otg_gs|                     13|\n",
      "|            EFO_0000305|ENSG00000135111|1b5865e2ca931058b...|  GCST003845|       Breast cancer|            3.1285958|                      -0.039867908|                5.2727327|                          -0.010246001|           5.239209|                     -0.01680843|      3.0925035|                 -0.05957496|                null|                             null|              null|                           null|                null|                             null|              null|                           null|  0.033333335|                null|                             null|              null|                           null|       0.0|           -0.033333335|        0.0|         -8.81189E-4|    Breast carcinoma|old_otg_gs|                     11|\n",
      "|            EFO_0001071|ENSG00000142319|bbea85bea6e0fc890...|  GCST004748|         Lung cancer|            3.9924574|                        0.33004597|                5.6307726|                             0.3190224|          5.5736756|                      0.28171638|       3.936891|                  0.29411152|                null|                             null|              null|                           null|                null|                             null|              null|                           null| 3.1114364E-4|                null|                             null|              null|                           null|       0.0|           -0.025384616|        0.0|       -3.1114364E-4|Cancer (pleiotrop...|old_otg_gs|                     11|\n",
      "|            EFO_0001071|ENSG00000142319|bbea85bea6e0fc890...|  GCST004748|         Lung cancer|            3.9924574|                        0.33004597|                5.6307726|                             0.3190224|          5.5736756|                      0.28171638|       3.936891|                  0.29411152|                null|                             null|              null|                           null|                null|                             null|              null|                           null| 3.1114364E-4|                null|                             null|              null|                           null|       0.0|           -0.025384616|        0.0|       -3.1114364E-4|         Lung cancer|old_otg_gs|                     11|\n",
      "|            EFO_0001071|ENSG00000142319|bbea85bea6e0fc890...|  GCST004748|         Lung cancer|            3.9924574|                        0.33004597|                5.6307726|                             0.3190224|          5.5736756|                      0.28171638|       3.936891|                  0.29411152|                null|                             null|              null|                           null|                null|                             null|              null|                           null| 3.1114364E-4|                null|                             null|              null|                           null|       0.0|           -0.025384616|        0.0|       -3.1114364E-4|         Lung cancer|old_otg_gs|                     11|\n",
      "|            EFO_0001071|ENSG00000142319|bbea85bea6e0fc890...|  GCST004748|         Lung cancer|            3.9924574|                        0.33004597|                5.6307726|                             0.3190224|          5.5736756|                      0.28171638|       3.936891|                  0.29411152|                null|                             null|              null|                           null|                null|                             null|              null|                           null| 3.1114364E-4|                null|                             null|              null|                           null|       0.0|           -0.025384616|        0.0|       -3.1114364E-4|         Lung cancer|old_otg_gs|                     11|\n",
      "|            EFO_0001071|ENSG00000142319|bbea85bea6e0fc890...|  GCST004748|         Lung cancer|            3.9924574|                        0.33004597|                5.6307726|                             0.3190224|          5.5736756|                      0.28171638|       3.936891|                  0.29411152|                null|                             null|              null|                           null|                null|                             null|              null|                           null| 3.1114364E-4|                null|                             null|              null|                           null|       0.0|           -0.025384616|        0.0|       -3.1114364E-4|         Lung cancer|old_otg_gs|                     11|\n",
      "|            EFO_0001071|ENSG00000142319|bbea85bea6e0fc890...|  GCST004748|         Lung cancer|            3.9924574|                        0.33004597|                5.6307726|                             0.3190224|          5.5736756|                      0.28171638|       3.936891|                  0.29411152|                null|                             null|              null|                           null|                null|                             null|              null|                           null| 3.1114364E-4|                null|                             null|              null|                           null|       0.0|           -0.025384616|        0.0|       -3.1114364E-4|Lung cancer in ev...|old_otg_gs|                     11|\n",
      "|            EFO_0001071|ENSG00000142319|bbea85bea6e0fc890...|  GCST004748|         Lung cancer|            3.9924574|                        0.33004597|                5.6307726|                             0.3190224|          5.5736756|                      0.28171638|       3.936891|                  0.29411152|                null|                             null|              null|                           null|                null|                             null|              null|                           null| 3.1114364E-4|                null|                             null|              null|                           null|       0.0|           -0.025384616|        0.0|       -3.1114364E-4|         Lung cancer|old_otg_gs|                     11|\n",
      "|            EFO_0001071|ENSG00000142319|bbea85bea6e0fc890...|  GCST004748|         Lung cancer|            3.9924574|                        0.33004597|                5.6307726|                             0.3190224|          5.5736756|                      0.28171638|       3.936891|                  0.29411152|                null|                             null|              null|                           null|                null|                             null|              null|                           null| 3.1114364E-4|                null|                             null|              null|                           null|       0.0|           -0.025384616|        0.0|       -3.1114364E-4|         Lung cancer|old_otg_gs|                     11|\n",
      "|            EFO_0001071|ENSG00000142319|bbea85bea6e0fc890...|  GCST004748|         Lung cancer|            3.9924574|                        0.33004597|                5.6307726|                             0.3190224|          5.5736756|                      0.28171638|       3.936891|                  0.29411152|                null|                             null|              null|                           null|                null|                             null|              null|                           null| 3.1114364E-4|                null|                             null|              null|                           null|       0.0|           -0.025384616|        0.0|       -3.1114364E-4|Lung cancer | ill...|old_otg_gs|                     11|\n",
      "|            EFO_0001071|ENSG00000142319| 6577162438265834699|GCST90018875|         Lung cancer|             5.632631|                        0.31996953|                5.6326385|                            0.31996953|          5.5758033|                      0.28285116|      5.5757957|                  0.28285116|                null|                             null|              null|                           null|                null|                             null|              null|                           null| 0.0076921764|                null|                             null|              null|                           null|       0.0|          -0.0076923077|        0.0|       -0.0076921764|Cancer (pleiotrop...|old_otg_gs|                     11|\n",
      "|            EFO_0001071|ENSG00000142319| 6577162438265834699|GCST90018875|         Lung cancer|             5.632631|                        0.31996953|                5.6326385|                            0.31996953|          5.5758033|                      0.28285116|      5.5757957|                  0.28285116|                null|                             null|              null|                           null|                null|                             null|              null|                           null| 0.0076921764|                null|                             null|              null|                           null|       0.0|          -0.0076923077|        0.0|       -0.0076921764|         Lung cancer|old_otg_gs|                     11|\n",
      "|            EFO_0001071|ENSG00000142319| 6577162438265834699|GCST90018875|         Lung cancer|             5.632631|                        0.31996953|                5.6326385|                            0.31996953|          5.5758033|                      0.28285116|      5.5757957|                  0.28285116|                null|                             null|              null|                           null|                null|                             null|              null|                           null| 0.0076921764|                null|                             null|              null|                           null|       0.0|          -0.0076923077|        0.0|       -0.0076921764|         Lung cancer|old_otg_gs|                     11|\n",
      "|            EFO_0001071|ENSG00000142319| 6577162438265834699|GCST90018875|         Lung cancer|             5.632631|                        0.31996953|                5.6326385|                            0.31996953|          5.5758033|                      0.28285116|      5.5757957|                  0.28285116|                null|                             null|              null|                           null|                null|                             null|              null|                           null| 0.0076921764|                null|                             null|              null|                           null|       0.0|          -0.0076923077|        0.0|       -0.0076921764|         Lung cancer|old_otg_gs|                     11|\n",
      "|            EFO_0001071|ENSG00000142319| 6577162438265834699|GCST90018875|         Lung cancer|             5.632631|                        0.31996953|                5.6326385|                            0.31996953|          5.5758033|                      0.28285116|      5.5757957|                  0.28285116|                null|                             null|              null|                           null|                null|                             null|              null|                           null| 0.0076921764|                null|                             null|              null|                           null|       0.0|          -0.0076923077|        0.0|       -0.0076921764|         Lung cancer|old_otg_gs|                     11|\n",
      "|            EFO_0001071|ENSG00000142319| 6577162438265834699|GCST90018875|         Lung cancer|             5.632631|                        0.31996953|                5.6326385|                            0.31996953|          5.5758033|                      0.28285116|      5.5757957|                  0.28285116|                null|                             null|              null|                           null|                null|                             null|              null|                           null| 0.0076921764|                null|                             null|              null|                           null|       0.0|          -0.0076923077|        0.0|       -0.0076921764|Lung cancer in ev...|old_otg_gs|                     11|\n",
      "|            EFO_0001071|ENSG00000142319| 6577162438265834699|GCST90018875|         Lung cancer|             5.632631|                        0.31996953|                5.6326385|                            0.31996953|          5.5758033|                      0.28285116|      5.5757957|                  0.28285116|                null|                             null|              null|                           null|                null|                             null|              null|                           null| 0.0076921764|                null|                             null|              null|                           null|       0.0|          -0.0076923077|        0.0|       -0.0076921764|         Lung cancer|old_otg_gs|                     11|\n",
      "+-----------------------+---------------+--------------------+------------+--------------------+---------------------+----------------------------------+-------------------------+--------------------------------------+-------------------+--------------------------------+---------------+----------------------------+--------------------+---------------------------------+------------------+-------------------------------+--------------------+---------------------------------+------------------+-------------------------------+-------------+--------------------+---------------------------------+------------------+-------------------------------+----------+-----------------------+-----------+--------------------+--------------------+----------+-----------------------+\n",
      "only showing top 20 rows\n",
      "\n"
     ]
    }
   ],
   "source": [
    "from pyspark.sql import functions as f\n",
    "\n",
    "exclude_columns = [\"traitFromSourceMappedId\", \"geneId\", \"studyLocusId\", \"studyId\", \"traitFromSource\", \"diseaseFromSource\"]\n",
    "columns_to_check = [col for col in GS_fm.columns if col not in exclude_columns]\n",
    "\n",
    "non_zero_count_per_row = sum(f.when((f.col(c) != 0) & (f.col(c).isNotNull()), 1).otherwise(0) for c in columns_to_check)\n",
    "\n",
    "GS_fm_with_count = GS_fm.withColumn(\"non_zero_non_null_count\", non_zero_count_per_row)\n",
    "\n",
    "aggregated_df = GS_fm_with_count.groupBy(\"studyLocusId\").agg(f.sum(\"non_zero_non_null_count\").alias(\"total_non_zero_non_null_count\"))\n",
    "\n",
    "GS_fm_with_count.show()"
   ]
  },
  {
   "cell_type": "code",
   "execution_count": 17,
   "metadata": {},
   "outputs": [
    {
     "name": "stdout",
     "output_type": "stream",
     "text": [
      "+-----------------------+---------------+--------------------+--------------------+--------------------+---------------------+----------------------------------+-------------------------+--------------------------------------+-------------------+--------------------------------+---------------+----------------------------+--------------------+---------------------------------+------------------+-------------------------------+--------------------+---------------------------------+------------------+-------------------------------+-------------+--------------------+---------------------------------+------------------+-------------------------------+----------+-----------------------+------------+--------------------+--------------------+-----------------+-----------------------+\n",
      "|traitFromSourceMappedId|         geneId|        studyLocusId|             studyId|     traitFromSource|distanceFootprintMean|distanceFootprintMeanNeighbourhood|distanceSentinelFootprint|distanceSentinelFootprintNeighbourhood|distanceSentinelTss|distanceSentinelTssNeighbourhood|distanceTssMean|distanceTssMeanNeighbourhood|eQtlColocClppMaximum|eQtlColocClppMaximumNeighbourhood|eQtlColocH4Maximum|eQtlColocH4MaximumNeighbourhood|pQtlColocClppMaximum|pQtlColocClppMaximumNeighbourhood|pQtlColocH4Maximum|pQtlColocH4MaximumNeighbourhood|regional_mean|sQtlColocClppMaximum|sQtlColocClppMaximumNeighbourhood|sQtlColocH4Maximum|sQtlColocH4MaximumNeighbourhood|vepMaximum|vepMaximumNeighbourhood|     vepMean|vepMeanNeighbourhood|   diseaseFromSource|        GS_source|non_zero_non_null_count|\n",
      "+-----------------------+---------------+--------------------+--------------------+--------------------+---------------------+----------------------------------+-------------------------+--------------------------------------+-------------------+--------------------------------+---------------+----------------------------+--------------------+---------------------------------+------------------+-------------------------------+--------------------+---------------------------------+------------------+-------------------------------+-------------+--------------------+---------------------------------+------------------+-------------------------------+----------+-----------------------+------------+--------------------+--------------------+-----------------+-----------------------+\n",
      "|            EFO_0000305|ENSG00000135111|a3fed5141dcb54090...|          GCST010099|Invasive breast c...|            4.5913563|                        0.21425985|                 5.698971|                            0.21761566|          5.6867766|                      0.20727819|       4.580504|                  0.20518537|                null|                             null|              null|                           null|                null|                             null|              null|                           null|  0.007615025|                null|                             null|              null|                           null|       0.1|                   0.05|  0.01523005|         0.007615025|    Breast carcinoma|       old_otg_gs|                     13|\n",
      "|            EFO_0001071|ENSG00000142319|bbea85bea6e0fc890...|          GCST004748|         Lung cancer|            3.9924574|                        0.33004597|                5.6307726|                             0.3190224|          5.5736756|                      0.28171638|       3.936891|                  0.29411152|                null|                             null|              null|                           null|                null|                             null|              null|                           null| 3.1114364E-4|                null|                             null|              null|                           null|       0.0|           -0.025384616|         0.0|       -3.1114364E-4|Cancer (pleiotrop...|       old_otg_gs|                     11|\n",
      "|            EFO_0001663|ENSG00000249859|0fb1aed1957e91fbf...|        GCST90274715|     Prostate cancer|            5.6989384|                        0.22781323|                 5.698971|                            0.22781323|            5.40823|                    -0.045875493|       5.408197|                -0.045875493|                null|                             null|              null|                           null|                null|                             null|              null|                           null|          0.0|                null|                             null|              null|                           null|       0.1|                    0.1|  0.09999248|          0.09999248|  Prostate carcinoma|       old_otg_gs|                     12|\n",
      "|            EFO_0004507|ENSG00000117525|9c384fdc437585a88...|          GCST001049|      D-dimer levels|            4.1087584|                         0.3501648|                5.6570206|                            0.33825117|          5.6570206|                       0.4160344|      4.1087584|                  0.42486885|                null|                             null|              null|                           null|                null|                             null|              null|                           null|          0.0|                null|                             null|              null|                           null|       0.0|                    0.0|         0.0|                 0.0|      D-dimer levels|       old_otg_gs|                      8|\n",
      "|          MONDO_0005090|ENSG00000140009|6785f0ca2bcd95f6f...|          GCST008595|Cognitive ability...|             3.166886|                        0.60937124|                 5.698971|                            0.45039287|          5.6678405|                      0.41802123|      3.1391287|                   0.6009039|           0.2084214|                       0.13853905|              null|                           null|                null|                             null|              null|                           null| 2.7512744E-4|         6.367601E-4|                      -0.05113371|              null|                           null|       0.1|                   0.09|0.0027512743|         0.002476147|       Schizophrenia|chembl_p3_p4_2409|                     17|\n",
      "|          MONDO_0005148|ENSG00000151577|4023be006cf28f749...|FINNGEN_R11_T2D_WIDE|Type 2 diabetes, ...|             2.023285|                       0.039181575|                     null|                                  null|               null|                            null|       2.042152|                   0.1064118|                null|                             null|              null|                           null|                null|                             null|              null|                           null|1.39569165E-5|                null|                             null|              null|                           null|       0.1|           0.0073333317|6.0146135E-7|       -1.3355455E-5|Diabetes Mellitus...|chembl_p3_p4_2409|                      9|\n",
      "|            EFO_0000319|ENSG00000015520|7463858310cdd9420...|          GCST007072|Cardiovascular di...|              4.20774|                        0.46748564|                 5.524287|                            0.25355086|          5.4851832|                      0.19952716|      4.1728516|                  0.45232642|                null|                             null|              null|                           null|                null|                             null|              null|                           null|  2.744577E-5|                null|                             null|              null|                           null|       0.0|          -0.0045454544|         0.0|        -2.744577E-5|Cardiovascular di...|       old_otg_gs|                     11|\n",
      "|            EFO_0000537|ENSG00000196876|-1160075537556039908|        GCST90044351|Vascular/heart pr...|            3.7140954|                         -1.390493|                 4.234036|                            -1.1795045|           4.234036|                      -1.1713514|      3.7140954|                  -1.3817793|                null|                             null|              null|                           null|                null|                             null|              null|                           null| 0.0029150906|                null|                             null|              null|                           null|       0.0|           -0.005882353|         0.0|       -0.0029150906|                null|chembl_p3_p4_2409|                     11|\n",
      "|            EFO_0000676|ENSG00000096968|97e55958b34a537ba...|          GCST005537|Chronic inflammat...|            5.6953535|                        0.32578123|                 5.695771|                            0.32578123|           5.695771|                       0.3460493|      5.6953535|                   0.3460493|          0.77654016|                              0.0|              null|                           null|                null|                             null|              null|                           null|          0.0|                null|                             null|              null|                           null|       0.0|                    0.0|         0.0|                 0.0|           Psoriasis|chembl_p3_p4_2409|                      9|\n",
      "|            EFO_0001645|ENSG00000140009|3f75d8df6eb3a7e66...|          GCST005196|Coronary artery d...|                 null|                              null|                     null|                                  null|               null|                            null|           null|                        null|                null|                             null|              null|                           null|                null|                             null|              null|                           null|         null|         0.006431228|                      -0.02647233|              null|                           null|      null|                   null|        null|                null|                null|chembl_p3_p4_2409|                      2|\n",
      "|             HP_0000964|ENSG00000105639|18700d5155e88ebd7...|          GCST009716|Allergic disease ...|            2.6527789|                         -1.546071|                     null|                                  null|               null|                            null|      2.6527789|                  -1.5292689|                null|                             null|              null|                           null|                null|                             null|              null|                           null| 3.9619056E-4|                null|                             null|              null|                           null|       0.0|          -0.0030303032|         0.0|       -3.9619056E-4| Chronic Hand Eczema|chembl_p3_p4_2409|                      7|\n",
      "|          MONDO_0002009|ENSG00000166736|020318af5d845dc46...|        GCST90449000|Lifetime major de...|            2.3519542|                       -0.78669477|                4.6043773|                           -0.78341615|          4.6043773|                     -0.76684564|      2.3519542|                  -0.7190538|                null|                             null|              null|                           null|                null|                             null|              null|                           null|         0.01|                null|                             null|              null|                           null|       0.0|                  -0.01|         0.0|       -1.6169386E-5|Major Depressive ...|chembl_p3_p4_2409|                     11|\n",
      "|          MONDO_0004985|ENSG00000138735|6e78919de94f8265b...|          GCST012088|Neuropsychiatric ...|                 null|                              null|                     null|                                  null|               null|                            null|           null|                        null|                null|                             null|              null|                           null|            0.947065|                     -9.399218E-4|              null|                           null|         null|                null|                             null|              null|                           null|      null|                   null|        null|                null|               Mania|chembl_p3_p4_2409|                      2|\n",
      "|          MONDO_0005148|ENSG00000126218|f1cf1ff4a054d8199...|FINNGEN_R11_T2D_WIDE|Type 2 diabetes, ...|                 null|                              null|                     null|                                  null|               null|                            null|           null|                        null|                null|                             null|              null|                           null|         0.016624862|                     -0.050266284|        0.94605905|                   -0.030922253|         null|                null|                             null|              null|                           null|      null|                   null|        null|                null|Type 2 Diabetic P...|chembl_p3_p4_2409|                      4|\n",
      "|          MONDO_0005301|ENSG00000170989|fb1148f59ec70e918...|          GCST001198|  Multiple sclerosis|             3.396005|                        0.16238058|                5.3116374|                           -0.04868217|          5.3116374|                     -0.06254895|      3.3960047|                  0.18381506|                null|                             null|              null|                           null|                null|                             null|              null|                           null| 2.0909513E-4|                null|                             null|              null|                           null|       0.0|           -0.028571429|         0.0|       -2.0909513E-4|Relapsing Multipl...|chembl_p3_p4_2409|                     11|\n",
      "|            EFO_0002609|ENSG00000160712|abc34b3b941031100...|        GCST90010715|Arthritis (juveni...|            4.0072446|                        0.37500057|                 5.637583|                            0.27009985|           5.637583|                      0.27126005|      4.0067787|                   0.4000919|         0.051114295|                              0.0|              null|                           null|                null|                             null|              null|                           null|  0.008695653|                null|                             null|              null|                           null|       0.1|             0.09130435|1.0493048E-4|         3.705204E-5|Juvenile Idiopath...|chembl_p3_p4_2409|                     14|\n",
      "|            EFO_0008506|ENSG00000036828|f03b0f09dec8b3c57...|FINNGEN_R11_E4_HY...| Hyperparathyroidism|            3.9719982|                          0.318423|                 5.698971|                            0.31880128|           5.593967|                      0.22489572|      3.8576515|                   0.2587424|                null|                             null|              null|                           null|                null|                             null|              null|                           null|   0.08352941|                null|                             null|              null|                           null|      0.66|              0.5764706|0.0016129861|        0.0014665981| Hyperparathyroidism|chembl_p3_p4_2409|                     13|\n",
      "|            EFO_0000275|ENSG00000180210|0d6b5152cd94f7735...|          GCST004045|Age-related disea...|                 null|                              null|                     null|                                  null|               null|                            null|           null|                        null|                null|                             null|              null|                           null|           0.6455623|                       0.56603736|              null|                           null|         null|                null|                             null|              null|                           null|      null|                   null|        null|                null| Atrial Fibrillation|chembl_p3_p4_2409|                      2|\n",
      "|            EFO_0000341|ENSG00000172572|9e3622ebe47f8a4a9...|        GCST90244098|Chronic obstructi...|            4.3249645|                        0.17353699|                5.5625143|                             0.1689474|          5.5625143|                      0.26377916|      4.3249645|                  0.28547904|                null|                             null|              null|                           null|                null|                             null|              null|                           null|          0.0|                null|                             null|              null|                           null|       0.0|                    0.0|         0.0|                 0.0|Chronic Obstructi...|chembl_p3_p4_2409|                      8|\n",
      "|            EFO_0000612|ENSG00000126218|217f27e5c8a032aad...|FINNGEN_R11_I9_MI...|Myocardial infarc...|            3.5663795|                        0.26463744|                5.5490413|                            0.20937128|          5.5490413|                        0.211679|      3.5663795|                  0.27243942|                null|                             null|              null|                           null|                null|                             null|              null|                           null| 2.7498437E-4|                null|                             null|              null|                           null|       0.0|           -0.008333334|         0.0|       -2.7498437E-4|Myocardial Infarc...|chembl_p3_p4_2409|                     11|\n",
      "+-----------------------+---------------+--------------------+--------------------+--------------------+---------------------+----------------------------------+-------------------------+--------------------------------------+-------------------+--------------------------------+---------------+----------------------------+--------------------+---------------------------------+------------------+-------------------------------+--------------------+---------------------------------+------------------+-------------------------------+-------------+--------------------+---------------------------------+------------------+-------------------------------+----------+-----------------------+------------+--------------------+--------------------+-----------------+-----------------------+\n",
      "only showing top 20 rows\n",
      "\n"
     ]
    }
   ],
   "source": [
    "from pyspark.sql import Window\n",
    "\n",
    "window_spec = Window.partitionBy(\"traitFromSourceMappedId\", \"geneId\").orderBy(f.col(\"non_zero_non_null_count\").desc())\n",
    "ranked_df = GS_fm_with_count.withColumn(\"row_number\", f.row_number().over(window_spec))\n",
    "filtered_df = ranked_df.filter(f.col(\"row_number\") == 1).drop(\"row_number\")\n",
    "\n",
    "filtered_df.show()"
   ]
  },
  {
   "cell_type": "code",
   "execution_count": 20,
   "metadata": {},
   "outputs": [
    {
     "name": "stderr",
     "output_type": "stream",
     "text": [
      "[Stage 224:===============================================>     (179 + 8) / 200]\r"
     ]
    },
    {
     "name": "stdout",
     "output_type": "stream",
     "text": [
      "+-----------------------+-----+\n",
      "|non_zero_non_null_count|count|\n",
      "+-----------------------+-----+\n",
      "|                      1|    3|\n",
      "|                      2|   54|\n",
      "|                      4|   62|\n",
      "|                      5|    4|\n",
      "|                      6|    1|\n",
      "|                      7|   60|\n",
      "|                      8|  139|\n",
      "|                      9|   30|\n",
      "|                     10|    6|\n",
      "|                     11|  494|\n",
      "|                     12|    8|\n",
      "|                     13|  159|\n",
      "|                     14|   29|\n",
      "|                     15|   81|\n",
      "|                     16|   11|\n",
      "|                     17|   71|\n",
      "|                     18|    1|\n",
      "|                     19|   22|\n",
      "|                     21|   40|\n",
      "|                     23|    4|\n",
      "|                     25|    3|\n",
      "+-----------------------+-----+\n",
      "\n"
     ]
    },
    {
     "name": "stderr",
     "output_type": "stream",
     "text": [
      "                                                                                \r"
     ]
    }
   ],
   "source": [
    "gs_source_counts = filtered_df.groupBy(\"non_zero_non_null_count\").count()\n",
    "\n",
    "# Show the result\n",
    "gs_source_counts.orderBy(f.col(\"non_zero_non_null_count\")).show(50)"
   ]
  },
  {
   "cell_type": "markdown",
   "metadata": {},
   "source": [
    "Given that there are 8 distance based features which should be available for all.\n",
    "\n",
    "Filter the Gold standard set using a count > 10 ?\n",
    "\n",
    "Can be revised later.\n",
    "\n",
    "Based on and Feature matrix freeze 4, this returns 923 Goldstandard positives.\n",
    "    Of which 695 from chembl, 228 from Old OTG GS."
   ]
  },
  {
   "cell_type": "code",
   "execution_count": 30,
   "metadata": {},
   "outputs": [
    {
     "name": "stderr",
     "output_type": "stream",
     "text": [
      "                                                                                \r"
     ]
    }
   ],
   "source": [
    ".write.parquet(\"/Users/xg1/Downloads/feature_matrix_gsp.parquet\")filtered_df.filter(f.col(\"non_zero_non_null_count\") > 10)"
   ]
  },
  {
   "cell_type": "code",
   "execution_count": 32,
   "metadata": {},
   "outputs": [
    {
     "name": "stderr",
     "output_type": "stream",
     "text": [
      "                                                                                \r"
     ]
    }
   ],
   "source": [
    "filtered_df.filter(f.col(\"non_zero_non_null_count\") > 10).select(\"traitFromSourceMappedId\", \"geneId\", \"studyLocusId\", \"studyId\", \"traitFromSource\", \"GS_source\").write.parquet(\"/Users/xg1/Downloads/EGL_GSP.parquet\")"
   ]
  },
  {
   "cell_type": "markdown",
   "metadata": {},
   "source": [
    "Join back to feature matrix, identify all gold standard negatives at each studylocusId"
   ]
  },
  {
   "cell_type": "code",
   "execution_count": 22,
   "metadata": {},
   "outputs": [
    {
     "name": "stderr",
     "output_type": "stream",
     "text": [
      "                                                                                \r"
     ]
    },
    {
     "data": {
      "text/plain": [
       "923"
      ]
     },
     "execution_count": 22,
     "metadata": {},
     "output_type": "execute_result"
    }
   ],
   "source": [
    "filtered_df.filter(f.col(\"non_zero_non_null_count\") > 10).count()"
   ]
  },
  {
   "cell_type": "code",
   "execution_count": 24,
   "metadata": {},
   "outputs": [
    {
     "name": "stderr",
     "output_type": "stream",
     "text": [
      "[Stage 302:===================================================> (196 + 4) / 200]\r"
     ]
    },
    {
     "name": "stdout",
     "output_type": "stream",
     "text": [
      "+-----------------+-----+\n",
      "|        GS_source|count|\n",
      "+-----------------+-----+\n",
      "|chembl_p3_p4_2409|  695|\n",
      "|       old_otg_gs|  228|\n",
      "+-----------------+-----+\n",
      "\n"
     ]
    },
    {
     "name": "stderr",
     "output_type": "stream",
     "text": [
      "                                                                                \r"
     ]
    }
   ],
   "source": [
    "filtered_df.filter(f.col(\"non_zero_non_null_count\") > 10).groupBy(\"GS_source\").count().show()"
   ]
  },
  {
   "cell_type": "code",
   "execution_count": 28,
   "metadata": {},
   "outputs": [
    {
     "name": "stderr",
     "output_type": "stream",
     "text": [
      "[Stage 320:>                                                        (0 + 1) / 1]\r"
     ]
    },
    {
     "name": "stdout",
     "output_type": "stream",
     "text": [
      "+--------------------+---------------+-----+\n",
      "|             geneIdA|        geneIdB|score|\n",
      "+--------------------+---------------+-----+\n",
      "|ENSANAG00000012804.1|ENSG00000122180| null|\n",
      "|ENSANAG00000014030.1|ENSG00000185591| null|\n",
      "|ENSBIXG00005022251.1|ENSG00000168769| null|\n",
      "|ENSBMUG00000010571.1|ENSG00000168769| null|\n",
      "|ENSCAFG00845002382.1|ENSG00000168769| null|\n",
      "|ENSCANG00000005717.1|ENSG00000185591| null|\n",
      "|ENSCANG00000006865.1|ENSG00000102935| null|\n",
      "|ENSCATG00000015753.1|ENSG00000168769| null|\n",
      "|ENSCATG00000016993.1|ENSG00000009709| null|\n",
      "|ENSCATG00000017690.1|           null| 0.28|\n",
      "|ENSCATG00000019377.1|ENSG00000106511| null|\n",
      "|ENSCATG00000019782.1|ENSG00000140443| null|\n",
      "|ENSCHIG00000002081.1|           null| 0.28|\n",
      "|ENSCHIG00000009164.1|ENSG00000168769| null|\n",
      "|ENSCJAG00000029861.3|ENSG00000122180| null|\n",
      "|ENSCLAG00000020885.1|ENSG00000168769| null|\n",
      "|ENSCSAG00000020610.1|ENSG00000122691| null|\n",
      "|ENSCSAG00000022699.1|ENSG00000009709| null|\n",
      "|ENSCWAG00000006152.1|ENSG00000122180| null|\n",
      "|ENSEASG00005002631.1|ENSG00000168769| null|\n",
      "+--------------------+---------------+-----+\n",
      "only showing top 20 rows\n",
      "\n"
     ]
    },
    {
     "name": "stderr",
     "output_type": "stream",
     "text": [
      "                                                                                \r"
     ]
    }
   ],
   "source": [
    "# Use functions from l2g.py to generate GSN:\n",
    "\n",
    "from gentropy.common.spark_helpers import get_record_with_maximum_value\n",
    "\n",
    "gene_interactions=session.read.parquet(\"gs://genetics_etl_python_playground/static_assets/interaction/\")\n",
    "gene_interactions_formatted=get_record_with_maximum_value(\n",
    "            gene_interactions,\n",
    "            [\"targetA\", \"targetB\"],\n",
    "            \"scoring\",\n",
    "        ).selectExpr(\n",
    "            \"targetA as geneIdA\",\n",
    "            \"targetB as geneIdB\",\n",
    "            \"scoring as score\",\n",
    "        )\n",
    "gene_interactions_formatted.show()"
   ]
  },
  {
   "cell_type": "code",
   "execution_count": 29,
   "metadata": {},
   "outputs": [
    {
     "name": "stderr",
     "output_type": "stream",
     "text": [
      "                                                                                \r"
     ]
    },
    {
     "data": {
      "text/plain": [
       "13303672"
      ]
     },
     "execution_count": 29,
     "metadata": {},
     "output_type": "execute_result"
    }
   ],
   "source": [
    "gene_interactions_formatted.count()"
   ]
  },
  {
   "cell_type": "code",
   "execution_count": null,
   "metadata": {},
   "outputs": [],
   "source": []
  },
  {
   "cell_type": "code",
   "execution_count": 27,
   "metadata": {},
   "outputs": [
    {
     "name": "stderr",
     "output_type": "stream",
     "text": [
      "[Stage 316:>                                                        (0 + 1) / 1]\r"
     ]
    },
    {
     "name": "stdout",
     "output_type": "stream",
     "text": [
      "+--------------------+------------+-----------------+----------+---------+--------------------+----+-------------------+--------------+--------------+-------------------------------+-------------+-------------------+--------------------+-----------------+----------------+------------------+------------------+-------------------+----------+---------+----------+--------------------+--------------------+--------------------+---------+\n",
      "|        studyLocusId|     studyId|        variantId|chromosome| position|              region|beta|             zScore|pValueMantissa|pValueExponent|effectAlleleFrequencyFromSource|standardError|subStudyDescription|     qualityControls|finemappingMethod|credibleSetIndex|credibleSetlog10BF|      purityMeanR2|        purityMinR2|locusStart| locusEnd|sampleSize|               ldSet|               locus|          confidence|studyType|\n",
      "+--------------------+------------+-----------------+----------+---------+--------------------+----+-------------------+--------------+--------------+-------------------------------+-------------+-------------------+--------------------+-----------------+----------------+------------------+------------------+-------------------+----------+---------+----------+--------------------+--------------------+--------------------+---------+\n",
      "|-1012890197918192042|GCST90025957|  19_44911194_T_C|        19| 44911194|19:44286807-45441392|null| 39.502962154577695|     1.0120113|          -323|                           null|         null|               null|[Variant not foun...|        SuSiE-inf|               5| 732.4085579995622|               1.0|                1.0|  44286807| 45441392|      null|[{19_44911194_T_C...|[{true, true, 169...|SuSiE fine-mapped...|     gwas|\n",
      "|-1026070076830627482|GCST90025966|   1_23430202_A_G|         1| 23430202| 1:22830777-23662605|null| 12.223067013030898|     4.2719765|           -34|                           null|         null|               null|[Variant not foun...|        SuSiE-inf|               2| 16.23541684204393|0.9658209399613981| 0.9377129469192579|  22830777| 23662605|      null|[{1_23430202_A_G,...|[{true, true, 42....|SuSiE fine-mapped...|     gwas|\n",
      "|-1051026219323545530|GCST90092853|   7_21646383_C_T|         7| 21646383| 7:21372306-21774616|null|  6.438681545081546|       8.29767|           -10|                           null|         null|               null|[Variant not foun...|        SuSiE-inf|               1| 4.584141529645875|0.8188805895125076|0.42288880969338866|  21372306| 21774616|      null|[{7_21646383_C_T,...|[{true, true, 16....|SuSiE fine-mapped...|     gwas|\n",
      "|-1056194113103456762|GCST90092879| 10_114026474_G_A|        10|114026474|10:113925486-1143...|null|  7.343027439742609|      4.788912|           -13|                           null|         null|               null|[Variant not foun...|        SuSiE-inf|               1|7.5534431194964045|0.9734130518220756| 0.9066222712729548| 113925486|114367796|      null|[{10_114026474_G_...|[{true, true, 22....|SuSiE fine-mapped...|     gwas|\n",
      "|-1067464939618451622|GCST90024861|  11_61814184_G_A|        11| 61814184|11:61455360-62044003|null|               15.5|     2.8827403|           -54|                           null|         null|               null|[Variant not foun...|        SuSiE-inf|               4| 802.3523954658289|               1.0|                1.0|  61455360| 62044003|      null|[{11_61814184_G_A...|[{true, true, 185...|SuSiE fine-mapped...|     gwas|\n",
      "|-1078328959429467241|GCST90018951| 16_47198674_GT_G|        16| 47198674|16:46917081-48126656|null| -4.633333333333333|     2.7791328|            -6|                           null|         null|               null|[Variant not foun...|        SuSiE-inf|              10| 240.0455313758435|0.9928017805651133|  0.981957619571934|  46917081| 48126656|      null|[{16_47198674_GT_...|[{true, true, 558...|SuSiE fine-mapped...|     gwas|\n",
      "|-1118036872237296411|GCST90093008|  15_58282767_T_C|        15| 58282767|15:57681740-59181740|null| -14.28501606749933|     3.6853194|           -46|                           null|         null|               null|[Variant not foun...|        SuSiE-inf|               8|33.602838051488355|               1.0|                1.0|  57681740| 59181740|      null|[{15_58282767_T_C...|[{true, true, 85....|SuSiE fine-mapped...|     gwas|\n",
      "|-1127781996934510123|  GCST006804|    5_1098805_T_A|         5|  1098805|    5:453680-1333822|null|-16.284155741418974|     7.8197207|           -59|                           null|         null|               null|[Variant not foun...|        SuSiE-inf|               9| 42.84528557734795|               1.0|                1.0|    453680|  1333822|      null|[{5_1098805_T_A, ...|[{true, true, 106...|SuSiE fine-mapped...|     gwas|\n",
      "|-1134354875783327777|GCST90038664|  2_102315366_C_G|         2|102315366|2:101985948-10274...|null|  9.145822322785229|       1.68982|           -20|                           null|         null|               null|[Variant not foun...|        SuSiE-inf|               5| 707.5323648238191|               1.0|                1.0| 101985948|102745594|      null|[{2_102315366_C_G...|[{true, true, 163...|SuSiE fine-mapped...|     gwas|\n",
      "|-1139550312279229666|GCST90018978|  3_128633535_C_T|         3|128633535|3:128594471-13009...|null|-11.307692307692308|      8.318801|           -29|                           null|         null|               null|[Variant not foun...|        SuSiE-inf|               8|138.24531901024238|               1.0|                1.0| 128594471|130094471|      null|[{3_128633535_C_T...|[{true, true, 326...|SuSiE fine-mapped...|     gwas|\n",
      "|-1163099532197268445|GCST90269669|   17_7160331_T_C|        17|  7160331|  17:6951979-7461007|null| -8.627384768394384|     1.5930994|           -18|                           null|         null|               null|[Variant not foun...|        SuSiE-inf|               2|15.592900338034969| 0.943378944887344| 0.8867578897746881|   6951979|  7461007|      null|[{17_7160331_T_C,...|[{true, true, 42....|SuSiE fine-mapped...|     gwas|\n",
      "|-1169739251702548306|GCST90092825| 11_47256654_T_TA|        11| 47256654|11:47246803-48746803|null|  7.585559523497252|     3.0206435|           -14|                           null|         null|               null|[Variant not foun...|        SuSiE-inf|              10| 29.77684553082949|               1.0|                1.0|  47246803| 48746803|      null|[{11_47256654_T_T...|[{true, true, 77....|SuSiE fine-mapped...|     gwas|\n",
      "|-1173479195232165385|GCST90269688|  2_21155141_C_CA|         2| 21155141| 2:20683563-21450216|null|  9.625083895672805|     1.5960221|           -22|                           null|         null|               null|[Variant not foun...|        SuSiE-inf|               1| 2349.890897025245| 0.989386905312417|  0.978773810624834|  20683563| 21450216|      null|[{2_21155141_C_CA...|[{true, true, 541...|SuSiE fine-mapped...|     gwas|\n",
      "|-1178409895412463124|GCST90043946|  11_89284793_G_A|        11| 89284793|11:88525376-89529007|null|  7.488509905355014|     1.4355454|           -14|                           null|         null|               null|[Variant not foun...|        SuSiE-inf|               1|  8.49924390336429| 0.910561897556114| 0.6797196282559302|  88525376| 89529007|      null|[{11_89284793_G_A...|[{true, true, 26....|SuSiE fine-mapped...|     gwas|\n",
      "|-1179846123852776096|GCST90270865|  17_58841521_C_A|        17| 58841521|17:58161440-59661440|null|-11.466296038915912|      5.132919|           -30|                           null|         null|               null|[Variant not foun...|        SuSiE-inf|               9|19.636674295423454|               1.0|                1.0|  58161440| 59661440|      null|[{17_58841521_C_A...|[{true, true, 53....|SuSiE fine-mapped...|     gwas|\n",
      "|-1185401290714946326|GCST90018988|  1_115221069_T_C|         1|115221069|1:115054503-11553...|null| 6.9156626506024095|     2.1473908|           -12|                           null|         null|               null|[Variant not foun...|        SuSiE-inf|              10| 65.06751223276343|               1.0|                1.0| 115054503|115533427|      null|[{1_115221069_T_C...|[{true, true, 157...|SuSiE fine-mapped...|     gwas|\n",
      "|-1185780411391826781|GCST90310295|   1_11827246_A_G|         1| 11827246| 1:11663270-12607178|null| -22.99019607843137|     1.7116014|          -117|                           null|         null|               null|[Variant not foun...|        SuSiE-inf|               9| 267.5808105548067|               1.0|                1.0|  11663270| 12607178|      null|[{1_11827246_A_G,...|[{true, true, 623...|SuSiE fine-mapped...|     gwas|\n",
      "| -118817618989546772|GCST90013974|  14_79470919_T_A|        14| 79470919|14:78887519-79711557|null|  8.092613574314731|     1.7123902|           -16|                           null|         null|               null|[Variant not foun...|        SuSiE-inf|               2| 20.77424792534589|0.8222824519496559|0.33122663521251355|  78887519| 79711557|      null|[{14_79470919_T_A...|[{true, true, 55....|SuSiE fine-mapped...|     gwas|\n",
      "|  -12002407157511294|GCST90019017|16_11256954_CTG_C|        16| 11256954|16:10898531-11462136|null| -6.456140350877193|       9.31038|           -10|                           null|         null|               null|[Variant not foun...|        SuSiE-inf|               1| 4.748633700140006|0.9224022534310836| 0.8468047130916491|  10898531| 11462136|      null|[{16_11256954_CTG...|[{true, true, 17....|SuSiE fine-mapped...|     gwas|\n",
      "|-1271479641833228718|GCST90002363|  11_95153468_T_C|        11| 95153468|11:95051209-95253642|null|  6.504746835443038|     1.2849451|           -11|                           null|         null|               null|[Variant not foun...|        SuSiE-inf|               1|5.8025545223861075|0.8515258526257756| 0.7214482843692916|  95051209| 95253642|      null|[{11_95153468_T_C...|[{true, true, 19....|SuSiE fine-mapped...|     gwas|\n",
      "+--------------------+------------+-----------------+----------+---------+--------------------+----+-------------------+--------------+--------------+-------------------------------+-------------+-------------------+--------------------+-----------------+----------------+------------------+------------------+-------------------+----------+---------+----------+--------------------+--------------------+--------------------+---------+\n",
      "only showing top 20 rows\n",
      "\n"
     ]
    },
    {
     "name": "stderr",
     "output_type": "stream",
     "text": [
      "                                                                                \r"
     ]
    }
   ],
   "source": [
    "credible_set.show()"
   ]
  },
  {
   "cell_type": "code",
   "execution_count": 8,
   "metadata": {},
   "outputs": [
    {
     "name": "stdout",
     "output_type": "stream",
     "text": [
      "+--------------------+---------------+-----------+---------+--------------------+------------------------+---------------------+--------+----------------+----------------------+---------------+------------------+----------------------------------+-----------------+------+---------+--------+-------+---------------------+----------------+------------------+---------------+-------------+--------------------+-----------+--------------------+------------------+---------------+----------+--------------------+-----------+\n",
      "|             studyId|         geneId|  projectId|studyType|     traitFromSource|traitFromSourceMappedIds|biosampleFromSourceId|pubmedId|publicationTitle|publicationFirstAuthor|publicationDate|publicationJournal|backgroundTraitFromSourceMappedIds|initialSampleSize|nCases|nControls|nSamples|cohorts|ldPopulationStructure|discoverySamples|replicationSamples|qualityControls|analysisFlags|summarystatsLocation|hasSumstats|           condition|sumStatQCPerformed|sumStatQCValues|diseaseIds|backgroundDiseaseIds|biosampleId|\n",
      "+--------------------+---------------+-----------+---------+--------------------+------------------------+---------------------+--------+----------------+----------------------+---------------+------------------+----------------------------------+-----------------+------+---------+--------+-------+---------------------+----------------+------------------+---------------+-------------+--------------------+-----------+--------------------+------------------+---------------+----------+--------------------+-----------+\n",
      "|Alasoo_2018_exon_...|ENSG00000087460|Alasoo_2018|   sceqtl|ENSG00000087460.2...|                    null|           CL_0000235|29379200|            null|                  null|           null|              null|                              null|             null|  null|     null|      84|   null|                 null|            null|              null|             []|         null|https://ftp.ebi.a...|       true|IFNg_18h+Salmonel...|              null|           null|        []|                  []| CL_0000235|\n",
      "|Alasoo_2018_exon_...|ENSG00000120539|Alasoo_2018|   sceqtl|ENSG00000120539.1...|                    null|           CL_0000235|29379200|            null|                  null|           null|              null|                              null|             null|  null|     null|      84|   null|                 null|            null|              null|             []|         null|https://ftp.ebi.a...|       true|IFNg_18h+Salmonel...|              null|           null|        []|                  []| CL_0000235|\n",
      "|Alasoo_2018_exon_...|ENSG00000140400|Alasoo_2018|   sceqtl|ENSG00000140400.1...|                    null|           CL_0000235|29379200|            null|                  null|           null|              null|                              null|             null|  null|     null|      84|   null|                 null|            null|              null|             []|         null|https://ftp.ebi.a...|       true|IFNg_18h+Salmonel...|              null|           null|        []|                  []| CL_0000235|\n",
      "|Alasoo_2018_exon_...|ENSG00000149196|Alasoo_2018|   sceqtl|ENSG00000149196.1...|                    null|           CL_0000235|29379200|            null|                  null|           null|              null|                              null|             null|  null|     null|      84|   null|                 null|            null|              null|             []|         null|https://ftp.ebi.a...|       true|IFNg_18h+Salmonel...|              null|           null|        []|                  []| CL_0000235|\n",
      "|Alasoo_2018_exon_...|ENSG00000152219|Alasoo_2018|   sceqtl|ENSG00000152219.5...|                    null|           CL_0000235|29379200|            null|                  null|           null|              null|                              null|             null|  null|     null|      84|   null|                 null|            null|              null|             []|         null|https://ftp.ebi.a...|       true|IFNg_18h+Salmonel...|              null|           null|        []|                  []| CL_0000235|\n",
      "|Alasoo_2018_exon_...|ENSG00000168994|Alasoo_2018|   sceqtl|ENSG00000168994.1...|                    null|           CL_0000235|29379200|            null|                  null|           null|              null|                              null|             null|  null|     null|      84|   null|                 null|            null|              null|             []|         null|https://ftp.ebi.a...|       true|IFNg_18h+Salmonel...|              null|           null|        []|                  []| CL_0000235|\n",
      "|Alasoo_2018_exon_...|ENSG00000266714|Alasoo_2018|   sceqtl|ENSG00000266714.1...|                    null|           CL_0000235|29379200|            null|                  null|           null|              null|                              null|             null|  null|     null|      84|   null|                 null|            null|              null|             []|         null|https://ftp.ebi.a...|       true|IFNg_18h+Salmonel...|              null|           null|        []|                  []| CL_0000235|\n",
      "|Alasoo_2018_exon_...|ENSG00000010270|Alasoo_2018|   sceqtl|ENSG00000010270.1...|                    null|           CL_0000235|29379200|            null|                  null|           null|              null|                              null|             null|  null|     null|      84|   null|                 null|            null|              null|             []|         null|https://ftp.ebi.a...|       true|            IFNg_18h|              null|           null|        []|                  []| CL_0000235|\n",
      "|Alasoo_2018_exon_...|ENSG00000072364|Alasoo_2018|   sceqtl|ENSG00000072364.1...|                    null|           CL_0000235|29379200|            null|                  null|           null|              null|                              null|             null|  null|     null|      84|   null|                 null|            null|              null|             []|         null|https://ftp.ebi.a...|       true|            IFNg_18h|              null|           null|        []|                  []| CL_0000235|\n",
      "|Alasoo_2018_exon_...|ENSG00000114554|Alasoo_2018|   sceqtl|ENSG00000114554.1...|                    null|           CL_0000235|29379200|            null|                  null|           null|              null|                              null|             null|  null|     null|      84|   null|                 null|            null|              null|             []|         null|https://ftp.ebi.a...|       true|            IFNg_18h|              null|           null|        []|                  []| CL_0000235|\n",
      "|Alasoo_2018_exon_...|ENSG00000115525|Alasoo_2018|   sceqtl|ENSG00000115525.1...|                    null|           CL_0000235|29379200|            null|                  null|           null|              null|                              null|             null|  null|     null|      84|   null|                 null|            null|              null|             []|         null|https://ftp.ebi.a...|       true|            IFNg_18h|              null|           null|        []|                  []| CL_0000235|\n",
      "|Alasoo_2018_exon_...|ENSG00000128604|Alasoo_2018|   sceqtl|ENSG00000128604.2...|                    null|           CL_0000235|29379200|            null|                  null|           null|              null|                              null|             null|  null|     null|      84|   null|                 null|            null|              null|             []|         null|https://ftp.ebi.a...|       true|            IFNg_18h|              null|           null|        []|                  []| CL_0000235|\n",
      "|Alasoo_2018_exon_...|ENSG00000130348|Alasoo_2018|   sceqtl|ENSG00000130348.1...|                    null|           CL_0000235|29379200|            null|                  null|           null|              null|                              null|             null|  null|     null|      84|   null|                 null|            null|              null|             []|         null|https://ftp.ebi.a...|       true|            IFNg_18h|              null|           null|        []|                  []| CL_0000235|\n",
      "|Alasoo_2018_exon_...|ENSG00000136436|Alasoo_2018|   sceqtl|ENSG00000136436.1...|                    null|           CL_0000235|29379200|            null|                  null|           null|              null|                              null|             null|  null|     null|      84|   null|                 null|            null|              null|             []|         null|https://ftp.ebi.a...|       true|            IFNg_18h|              null|           null|        []|                  []| CL_0000235|\n",
      "|Alasoo_2018_exon_...|ENSG00000143401|Alasoo_2018|   sceqtl|ENSG00000143401.1...|                    null|           CL_0000235|29379200|            null|                  null|           null|              null|                              null|             null|  null|     null|      84|   null|                 null|            null|              null|             []|         null|https://ftp.ebi.a...|       true|            IFNg_18h|              null|           null|        []|                  []| CL_0000235|\n",
      "|Alasoo_2018_exon_...|ENSG00000172661|Alasoo_2018|   sceqtl|ENSG00000172661.2...|                    null|           CL_0000235|29379200|            null|                  null|           null|              null|                              null|             null|  null|     null|      84|   null|                 null|            null|              null|             []|         null|https://ftp.ebi.a...|       true|            IFNg_18h|              null|           null|        []|                  []| CL_0000235|\n",
      "|Alasoo_2018_exon_...|ENSG00000184227|Alasoo_2018|   sceqtl|ENSG00000184227.8...|                    null|           CL_0000235|29379200|            null|                  null|           null|              null|                              null|             null|  null|     null|      84|   null|                 null|            null|              null|             []|         null|https://ftp.ebi.a...|       true|            IFNg_18h|              null|           null|        []|                  []| CL_0000235|\n",
      "|Alasoo_2018_exon_...|ENSG00000188185|Alasoo_2018|   sceqtl|ENSG00000188185.1...|                    null|           CL_0000235|29379200|            null|                  null|           null|              null|                              null|             null|  null|     null|      84|   null|                 null|            null|              null|             []|         null|https://ftp.ebi.a...|       true|            IFNg_18h|              null|           null|        []|                  []| CL_0000235|\n",
      "|Alasoo_2018_exon_...|ENSG00000188659|Alasoo_2018|   sceqtl|ENSG00000188659.1...|                    null|           CL_0000235|29379200|            null|                  null|           null|              null|                              null|             null|  null|     null|      84|   null|                 null|            null|              null|             []|         null|https://ftp.ebi.a...|       true|            IFNg_18h|              null|           null|        []|                  []| CL_0000235|\n",
      "|Alasoo_2018_exon_...|ENSG00000130340|Alasoo_2018|   sceqtl|ENSG00000130340.1...|                    null|           CL_0000235|29379200|            null|                  null|           null|              null|                              null|             null|  null|     null|      84|   null|                 null|            null|              null|             []|         null|https://ftp.ebi.a...|       true|       Salmonella_5h|              null|           null|        []|                  []| CL_0000235|\n",
      "+--------------------+---------------+-----------+---------+--------------------+------------------------+---------------------+--------+----------------+----------------------+---------------+------------------+----------------------------------+-----------------+------+---------+--------+-------+---------------------+----------------+------------------+---------------+-------------+--------------------+-----------+--------------------+------------------+---------------+----------+--------------------+-----------+\n",
      "only showing top 20 rows\n",
      "\n"
     ]
    },
    {
     "name": "stderr",
     "output_type": "stream",
     "text": [
      "                                                                                \r"
     ]
    }
   ],
   "source": [
    "study_index.show()"
   ]
  },
  {
   "cell_type": "code",
   "execution_count": 5,
   "metadata": {},
   "outputs": [
    {
     "name": "stdout",
     "output_type": "stream",
     "text": [
      "24/10/29 14:13:07 WARN package: Truncated the string representation of a plan since it was too large. This behavior can be adjusted by setting 'spark.sql.debug.maxToStringFields'.\n"
     ]
    },
    {
     "name": "stderr",
     "output_type": "stream",
     "text": [
      "[Stage 16:>                                                         (0 + 1) / 1]\r"
     ]
    },
    {
     "name": "stdout",
     "output_type": "stream",
     "text": [
      "+--------------------+---------------+---------------------+----------------------------------+-------------------------+--------------------------------------+-------------------+--------------------------------+---------------+----------------------------+--------------------+---------------------------------+------------------+-------------------------------+--------------------+---------------------------------+------------------+-------------------------------+-------------+--------------------+---------------------------------+------------------+-------------------------------+----------+-----------------------+------------+--------------------+\n",
      "|        studyLocusId|         geneId|distanceFootprintMean|distanceFootprintMeanNeighbourhood|distanceSentinelFootprint|distanceSentinelFootprintNeighbourhood|distanceSentinelTss|distanceSentinelTssNeighbourhood|distanceTssMean|distanceTssMeanNeighbourhood|eQtlColocClppMaximum|eQtlColocClppMaximumNeighbourhood|eQtlColocH4Maximum|eQtlColocH4MaximumNeighbourhood|pQtlColocClppMaximum|pQtlColocClppMaximumNeighbourhood|pQtlColocH4Maximum|pQtlColocH4MaximumNeighbourhood|regional_mean|sQtlColocClppMaximum|sQtlColocClppMaximumNeighbourhood|sQtlColocH4Maximum|sQtlColocH4MaximumNeighbourhood|vepMaximum|vepMaximumNeighbourhood|     vepMean|vepMeanNeighbourhood|\n",
      "+--------------------+---------------+---------------------+----------------------------------+-------------------------+--------------------------------------+-------------------+--------------------------------+---------------+----------------------------+--------------------+---------------------------------+------------------+-------------------------------+--------------------+---------------------------------+------------------+-------------------------------+-------------+--------------------+---------------------------------+------------------+-------------------------------+----------+-----------------------+------------+--------------------+\n",
      "| 6748387770042433691|ENSG00000149090|                 null|                              null|                     null|                                  null|               null|                            null|           null|                        null|                null|                             null|              null|                           null|          0.68356735|                     -0.025178062|         0.9995457|                    0.001979124|         null|                null|                             null|              null|                           null|      null|                   null|        null|                null|\n",
      "|0cc9821ad1447d6b5...|ENSG00000222414|            4.0008574|                       -0.23091748|                5.2574553|                           -0.23592024|           5.256999|                     -0.27047935|       4.000398|                 -0.26843953|                null|                             null|              null|                           null|                null|                             null|              null|                           null|  3.411584E-5|                null|                             null|              null|                           null|       0.0|          -0.0076923077|         0.0|        -3.411584E-5|\n",
      "|66a7cc5f9aa1efac6...|ENSG00000271557|            4.0707226|                      -0.012821832|                5.2740793|                           -0.09572757|          5.2740793|                      -0.0880399|      4.0707226|                -0.008636823|                null|                             null|              null|                           null|                null|                             null|              null|                           null| 2.1628712E-4|                null|                             null|              null|                           null|       0.0|           -0.013043478|         0.0|       -2.1628712E-4|\n",
      "|28e5f41224863c701...|ENSG00000183313|             4.546873|                         0.0661347|                  5.26392|                            0.06842084|          5.2613273|                     0.023581216|       4.544273|                   0.0204583|                null|                             null|              null|                           null|                null|                             null|              null|                           null| 4.7143255E-4|                null|                             null|              null|                           null|       0.0|          -0.0024390244|         0.0|       -4.7143255E-4|\n",
      "|2dcee3d3465940956...|ENSG00000150048|            3.0610814|                        0.11388494|                5.2625933|                           0.079722255|          5.2625933|                      0.08295613|      3.0610814|                  0.12099712|                null|                             null|              null|                           null|                null|                             null|              null|                           null| 1.1396563E-5|                null|                             null|              null|                           null|       0.0|           -0.012903226|         0.0|       -1.1396563E-5|\n",
      "|de0c62c663267e754...|ENSG00000136051|            4.1109676|                        0.52364635|                 5.698971|                            0.31388605|          5.6717715|                      0.29284212|      4.0559425|                  0.49374315|                null|                             null|              null|                           null|                null|                             null|              null|                           null|   0.07571429|                null|                             null|              null|                           null|       0.1|            0.024285713|0.0017627215|        0.0014193967|\n",
      "|b166511c8f39335e2...|ENSG00000278973|             4.963399|                       -0.09373061|                 5.319071|                           -0.09389977|           5.319071|                    -0.090664886|       4.963399|                -0.090493344|                null|                             null|              null|                           null|                null|                             null|              null|                           null|   0.04714286|                null|                             null|              null|                           null|       0.0|            -0.04714286|         0.0|        -0.018592542|\n",
      "|b85e9c54a2727e13a...|ENSG00000162086|            4.4914274|                       -0.05273748|                5.0997047|                          -0.083717816|           5.050971|                     -0.16809522|      4.4462123|                -0.093730345|                null|                             null|              null|                           null|                null|                             null|              null|                           null|  0.004761905|                null|                             null|              null|                           null|       0.0|           -0.004761905|         0.0|       -0.0011920321|\n",
      "|006760f8b603c15fe...|ENSG00000261056|            1.8270094|                       -0.93344873|                     null|                                  null|               null|                            null|      1.7422347|                   -1.001128|                null|                             null|              null|                           null|                null|                             null|              null|                           null|  0.016666668|                null|                             null|              null|                           null|       0.0|           -0.016666668|         0.0|       -1.8967413E-4|\n",
      "|a38919ae2e59e72f8...|ENSG00000276101|            3.2141004|                      -0.058498263|                5.1089606|                            -0.1097497|           5.106898|                     -0.11097587|       3.212269|                 -0.07430174|                null|                             null|              null|                           null|                null|                             null|              null|                           null|  0.009772727|                null|                             null|              null|                           null|       0.0|           -0.009772727|         0.0|       -2.6221986E-5|\n",
      "|2327b1f7425929aad...|ENSG00000039987|            3.4404967|                        0.07247762|                5.4542274|                            0.07735175|          5.4439325|                       0.0726073|      3.4274116|                 0.080162235|                null|                             null|              null|                           null|                null|                             null|              null|                           null| 2.1960948E-5|                null|                             null|              null|                           null|       0.0|           -0.008108108|         0.0|       -2.1960948E-5|\n",
      "|c08563c197ac8ceaa...|ENSG00000126266|            3.8880265|                       -0.21667024|                5.0424848|                           -0.26594362|           5.018347|                     -0.26813123|      3.8637846|                 -0.21862596|                null|                             null|              null|                           null|                null|                             null|              null|                           null| 1.5646288E-4|                null|                             null|              null|                           null|       0.0|           -0.011538462|         0.0|       -1.5646288E-4|\n",
      "|33496b5875787d64d...|ENSG00000267345|            3.3173935|                       0.018119242|                  5.10242|                            -0.1665723|           5.090272|                     -0.16895999|      3.2978811|                 0.010448174|                null|                             null|              null|                           null|                null|                             null|              null|                           null|        0.052|                null|                             null|              null|                           null|       0.0|                 -0.052|         0.0|       -1.7878808E-4|\n",
      "|a127a5cd7f43389f0...|ENSG00000076356|            3.4437895|                         0.2228111|                5.6506066|                            0.24752438|           5.352503|                    -0.033660565|      3.1358376|                  0.05828941|                null|                             null|              null|                           null|                null|                             null|              null|                           null|          0.0|                null|                             null|              null|                           null|       0.0|                    0.0|         0.0|                 0.0|\n",
      "|454e8496a9dbc70fd...|ENSG00000157193|            4.3776374|                        0.37694716|                 5.698971|                            0.31727815|          5.6221995|                        0.280072|       4.309484|                  0.29611304|                null|                             null|              null|                           null|                null|                             null|              null|                           null| 0.0057877246|                null|                             null|              null|                           null|      0.66|              0.6092308|  0.07524042|         0.069452696|\n",
      "|03be7a3a3982595e0...|ENSG00000289982|             3.649067|                        0.47578079|                5.5661087|                            0.21065204|          5.5661087|                      0.21737285|      3.6490667|                  0.43272197|                null|                             null|              null|                           null|                null|                             null|              null|                           null| 2.3102793E-5|                null|                             null|              null|                           null|       0.0|                  -0.01|         0.0|       -2.3102793E-5|\n",
      "|bc64f376c18afab04...|ENSG00000156959|            3.8503964|                        0.63778764|                5.6006484|                             0.4146335|           5.535599|                       0.3696187|      3.7855499|                  0.62905437|                null|                             null|              null|                           null|                null|                             null|              null|                           null|         0.01|                null|                             null|              null|                           null|       0.0|                  -0.01|         0.0|       -5.4018103E-5|\n",
      "|3461d0ff4502d52c6...|ENSG00000109132|             2.647892|                       0.057573445|                 5.103294|                           -0.23899214|           5.103294|                     -0.23344879|      2.6478918|                  0.20822892|                null|                             null|              null|                           null|                null|                             null|              null|                           null| 3.8148377E-5|                null|                             null|              null|                           null|       0.0|               -0.13625|         0.0|       -3.8148377E-5|\n",
      "|2a2d3ef1ee7aa9fcb...|ENSG00000260428|            2.9732785|                        0.18886961|                5.2601595|                          0.0062945215|          5.2601595|                      0.02453083|      2.9732783|                   0.2341151|                null|                             null|              null|                           null|                null|                             null|              null|                           null|       0.0152|                null|                             null|              null|                           null|       0.0|                -0.0152|         0.0|       -1.4535245E-5|\n",
      "|b9ed382307efd9092...|ENSG00000264217|             4.102397|                         0.2654122|                5.3474274|                            0.21365458|          5.3474274|                      0.20651732|       4.102397|                  0.26434287|                null|                             null|              null|                           null|                null|                             null|              null|                           null| 6.4361806E-4|                null|                             null|              null|                           null|       0.0|           -0.011111111|         0.0|       -6.4361806E-4|\n",
      "+--------------------+---------------+---------------------+----------------------------------+-------------------------+--------------------------------------+-------------------+--------------------------------+---------------+----------------------------+--------------------+---------------------------------+------------------+-------------------------------+--------------------+---------------------------------+------------------+-------------------------------+-------------+--------------------+---------------------------------+------------------+-------------------------------+----------+-----------------------+------------+--------------------+\n",
      "only showing top 20 rows\n",
      "\n"
     ]
    },
    {
     "name": "stderr",
     "output_type": "stream",
     "text": [
      "                                                                                \r"
     ]
    }
   ],
   "source": [
    "fm.show()"
   ]
  },
  {
   "cell_type": "code",
   "execution_count": 1,
   "metadata": {},
   "outputs": [
    {
     "data": {
      "text/html": [
       "    <style>\n",
       "        .bk-notebook-logo {\n",
       "            display: block;\n",
       "            width: 20px;\n",
       "            height: 20px;\n",
       "            background-image: url(data:image/png;base64,iVBORw0KGgoAAAANSUhEUgAAABQAAAAUCAYAAACNiR0NAAAABHNCSVQICAgIfAhkiAAAAAlwSFlzAAALEgAACxIB0t1+/AAAABx0RVh0U29mdHdhcmUAQWRvYmUgRmlyZXdvcmtzIENTNui8sowAAAOkSURBVDiNjZRtaJVlGMd/1/08zzln5zjP1LWcU9N0NkN8m2CYjpgQYQXqSs0I84OLIC0hkEKoPtiH3gmKoiJDU7QpLgoLjLIQCpEsNJ1vqUOdO7ppbuec5+V+rj4ctwzd8IIbbi6u+8f1539dt3A78eXC7QizUF7gyV1fD1Yqg4JWz84yffhm0qkFqBogB9rM8tZdtwVsPUhWhGcFJngGeWrPzHm5oaMmkfEg1usvLFyc8jLRqDOMru7AyC8saQr7GG7f5fvDeH7Ej8CM66nIF+8yngt6HWaKh7k49Soy9nXurCi1o3qUbS3zWfrYeQDTB/Qj6kX6Ybhw4B+bOYoLKCC9H3Nu/leUTZ1JdRWkkn2ldcCamzrcf47KKXdAJllSlxAOkRgyHsGC/zRday5Qld9DyoM4/q/rUoy/CXh3jzOu3bHUVZeU+DEn8FInkPBFlu3+nW3Nw0mk6vCDiWg8CeJaxEwuHS3+z5RgY+YBR6V1Z1nxSOfoaPa4LASWxxdNp+VWTk7+4vzaou8v8PN+xo+KY2xsw6une2frhw05CTYOmQvsEhjhWjn0bmXPjpE1+kplmmkP3suftwTubK9Vq22qKmrBhpY4jvd5afdRA3wGjFAgcnTK2s4hY0/GPNIb0nErGMCRxWOOX64Z8RAC4oCXdklmEvcL8o0BfkNK4lUg9HTl+oPlQxdNo3Mg4Nv175e/1LDGzZen30MEjRUtmXSfiTVu1kK8W4txyV6BMKlbgk3lMwYCiusNy9fVfvvwMxv8Ynl6vxoByANLTWplvuj/nF9m2+PDtt1eiHPBr1oIfhCChQMBw6Aw0UulqTKZdfVvfG7VcfIqLG9bcldL/+pdWTLxLUy8Qq38heUIjh4XlzZxzQm19lLFlr8vdQ97rjZVOLf8nclzckbcD4wxXMidpX30sFd37Fv/GtwwhzhxGVAprjbg0gCAEeIgwCZyTV2Z1REEW8O4py0wsjeloKoMr6iCY6dP92H6Vw/oTyICIthibxjm/DfN9lVz8IqtqKYLUXfoKVMVQVVJOElGjrnnUt9T9wbgp8AyYKaGlqingHZU/uG2NTZSVqwHQTWkx9hxjkpWDaCg6Ckj5qebgBVbT3V3NNXMSiWSDdGV3hrtzla7J+duwPOToIg42ChPQOQjspnSlp1V+Gjdged7+8UN5CRAV7a5EdFNwCjEaBR27b3W890TE7g24NAP/mMDXRWrGoFPQI9ls/MWO2dWFAar/xcOIImbbpA3zgAAAABJRU5ErkJggg==);\n",
       "        }\n",
       "    </style>\n",
       "    <div>\n",
       "        <a href=\"https://bokeh.org\" target=\"_blank\" class=\"bk-notebook-logo\"></a>\n",
       "        <span id=\"b18216cd-4917-4290-ab09-962b55cac8a6\">Loading BokehJS ...</span>\n",
       "    </div>\n"
      ]
     },
     "metadata": {},
     "output_type": "display_data"
    },
    {
     "data": {
      "application/javascript": "'use strict';\n(function(root) {\n  function now() {\n    return new Date();\n  }\n\n  const force = true;\n\n  if (typeof root._bokeh_onload_callbacks === \"undefined\" || force === true) {\n    root._bokeh_onload_callbacks = [];\n    root._bokeh_is_loading = undefined;\n  }\n\nconst JS_MIME_TYPE = 'application/javascript';\n  const HTML_MIME_TYPE = 'text/html';\n  const EXEC_MIME_TYPE = 'application/vnd.bokehjs_exec.v0+json';\n  const CLASS_NAME = 'output_bokeh rendered_html';\n\n  /**\n   * Render data to the DOM node\n   */\n  function render(props, node) {\n    const script = document.createElement(\"script\");\n    node.appendChild(script);\n  }\n\n  /**\n   * Handle when an output is cleared or removed\n   */\n  function handleClearOutput(event, handle) {\n    function drop(id) {\n      const view = Bokeh.index.get_by_id(id)\n      if (view != null) {\n        view.model.document.clear()\n        Bokeh.index.delete(view)\n      }\n    }\n\n    const cell = handle.cell;\n\n    const id = cell.output_area._bokeh_element_id;\n    const server_id = cell.output_area._bokeh_server_id;\n\n    // Clean up Bokeh references\n    if (id != null) {\n      drop(id)\n    }\n\n    if (server_id !== undefined) {\n      // Clean up Bokeh references\n      const cmd_clean = \"from bokeh.io.state import curstate; print(curstate().uuid_to_server['\" + server_id + \"'].get_sessions()[0].document.roots[0]._id)\";\n      cell.notebook.kernel.execute(cmd_clean, {\n        iopub: {\n          output: function(msg) {\n            const id = msg.content.text.trim()\n            drop(id)\n          }\n        }\n      });\n      // Destroy server and session\n      const cmd_destroy = \"import bokeh.io.notebook as ion; ion.destroy_server('\" + server_id + \"')\";\n      cell.notebook.kernel.execute(cmd_destroy);\n    }\n  }\n\n  /**\n   * Handle when a new output is added\n   */\n  function handleAddOutput(event, handle) {\n    const output_area = handle.output_area;\n    const output = handle.output;\n\n    // limit handleAddOutput to display_data with EXEC_MIME_TYPE content only\n    if ((output.output_type != \"display_data\") || (!Object.prototype.hasOwnProperty.call(output.data, EXEC_MIME_TYPE))) {\n      return\n    }\n\n    const toinsert = output_area.element.find(\".\" + CLASS_NAME.split(' ')[0]);\n\n    if (output.metadata[EXEC_MIME_TYPE][\"id\"] !== undefined) {\n      toinsert[toinsert.length - 1].firstChild.textContent = output.data[JS_MIME_TYPE];\n      // store reference to embed id on output_area\n      output_area._bokeh_element_id = output.metadata[EXEC_MIME_TYPE][\"id\"];\n    }\n    if (output.metadata[EXEC_MIME_TYPE][\"server_id\"] !== undefined) {\n      const bk_div = document.createElement(\"div\");\n      bk_div.innerHTML = output.data[HTML_MIME_TYPE];\n      const script_attrs = bk_div.children[0].attributes;\n      for (let i = 0; i < script_attrs.length; i++) {\n        toinsert[toinsert.length - 1].firstChild.setAttribute(script_attrs[i].name, script_attrs[i].value);\n        toinsert[toinsert.length - 1].firstChild.textContent = bk_div.children[0].textContent\n      }\n      // store reference to server id on output_area\n      output_area._bokeh_server_id = output.metadata[EXEC_MIME_TYPE][\"server_id\"];\n    }\n  }\n\n  function register_renderer(events, OutputArea) {\n\n    function append_mime(data, metadata, element) {\n      // create a DOM node to render to\n      const toinsert = this.create_output_subarea(\n        metadata,\n        CLASS_NAME,\n        EXEC_MIME_TYPE\n      );\n      this.keyboard_manager.register_events(toinsert);\n      // Render to node\n      const props = {data: data, metadata: metadata[EXEC_MIME_TYPE]};\n      render(props, toinsert[toinsert.length - 1]);\n      element.append(toinsert);\n      return toinsert\n    }\n\n    /* Handle when an output is cleared or removed */\n    events.on('clear_output.CodeCell', handleClearOutput);\n    events.on('delete.Cell', handleClearOutput);\n\n    /* Handle when a new output is added */\n    events.on('output_added.OutputArea', handleAddOutput);\n\n    /**\n     * Register the mime type and append_mime function with output_area\n     */\n    OutputArea.prototype.register_mime_type(EXEC_MIME_TYPE, append_mime, {\n      /* Is output safe? */\n      safe: true,\n      /* Index of renderer in `output_area.display_order` */\n      index: 0\n    });\n  }\n\n  // register the mime type if in Jupyter Notebook environment and previously unregistered\n  if (root.Jupyter !== undefined) {\n    const events = require('base/js/events');\n    const OutputArea = require('notebook/js/outputarea').OutputArea;\n\n    if (OutputArea.prototype.mime_types().indexOf(EXEC_MIME_TYPE) == -1) {\n      register_renderer(events, OutputArea);\n    }\n  }\n  if (typeof (root._bokeh_timeout) === \"undefined\" || force === true) {\n    root._bokeh_timeout = Date.now() + 5000;\n    root._bokeh_failed_load = false;\n  }\n\n  const NB_LOAD_WARNING = {'data': {'text/html':\n     \"<div style='background-color: #fdd'>\\n\"+\n     \"<p>\\n\"+\n     \"BokehJS does not appear to have successfully loaded. If loading BokehJS from CDN, this \\n\"+\n     \"may be due to a slow or bad network connection. Possible fixes:\\n\"+\n     \"</p>\\n\"+\n     \"<ul>\\n\"+\n     \"<li>re-rerun `output_notebook()` to attempt to load from CDN again, or</li>\\n\"+\n     \"<li>use INLINE resources instead, as so:</li>\\n\"+\n     \"</ul>\\n\"+\n     \"<code>\\n\"+\n     \"from bokeh.resources import INLINE\\n\"+\n     \"output_notebook(resources=INLINE)\\n\"+\n     \"</code>\\n\"+\n     \"</div>\"}};\n\n  function display_loaded(error = null) {\n    const el = document.getElementById(\"b18216cd-4917-4290-ab09-962b55cac8a6\");\n    if (el != null) {\n      const html = (() => {\n        if (typeof root.Bokeh === \"undefined\") {\n          if (error == null) {\n            return \"BokehJS is loading ...\";\n          } else {\n            return \"BokehJS failed to load.\";\n          }\n        } else {\n          const prefix = `BokehJS ${root.Bokeh.version}`;\n          if (error == null) {\n            return `${prefix} successfully loaded.`;\n          } else {\n            return `${prefix} <b>encountered errors</b> while loading and may not function as expected.`;\n          }\n        }\n      })();\n      el.innerHTML = html;\n\n      if (error != null) {\n        const wrapper = document.createElement(\"div\");\n        wrapper.style.overflow = \"auto\";\n        wrapper.style.height = \"5em\";\n        wrapper.style.resize = \"vertical\";\n        const content = document.createElement(\"div\");\n        content.style.fontFamily = \"monospace\";\n        content.style.whiteSpace = \"pre-wrap\";\n        content.style.backgroundColor = \"rgb(255, 221, 221)\";\n        content.textContent = error.stack ?? error.toString();\n        wrapper.append(content);\n        el.append(wrapper);\n      }\n    } else if (Date.now() < root._bokeh_timeout) {\n      setTimeout(() => display_loaded(error), 100);\n    }\n  }\n\n  function run_callbacks() {\n    try {\n      root._bokeh_onload_callbacks.forEach(function(callback) {\n        if (callback != null)\n          callback();\n      });\n    } finally {\n      delete root._bokeh_onload_callbacks\n    }\n    console.debug(\"Bokeh: all callbacks have finished\");\n  }\n\n  function load_libs(css_urls, js_urls, callback) {\n    if (css_urls == null) css_urls = [];\n    if (js_urls == null) js_urls = [];\n\n    root._bokeh_onload_callbacks.push(callback);\n    if (root._bokeh_is_loading > 0) {\n      console.debug(\"Bokeh: BokehJS is being loaded, scheduling callback at\", now());\n      return null;\n    }\n    if (js_urls == null || js_urls.length === 0) {\n      run_callbacks();\n      return null;\n    }\n    console.debug(\"Bokeh: BokehJS not loaded, scheduling load and callback at\", now());\n    root._bokeh_is_loading = css_urls.length + js_urls.length;\n\n    function on_load() {\n      root._bokeh_is_loading--;\n      if (root._bokeh_is_loading === 0) {\n        console.debug(\"Bokeh: all BokehJS libraries/stylesheets loaded\");\n        run_callbacks()\n      }\n    }\n\n    function on_error(url) {\n      console.error(\"failed to load \" + url);\n    }\n\n    for (let i = 0; i < css_urls.length; i++) {\n      const url = css_urls[i];\n      const element = document.createElement(\"link\");\n      element.onload = on_load;\n      element.onerror = on_error.bind(null, url);\n      element.rel = \"stylesheet\";\n      element.type = \"text/css\";\n      element.href = url;\n      console.debug(\"Bokeh: injecting link tag for BokehJS stylesheet: \", url);\n      document.body.appendChild(element);\n    }\n\n    for (let i = 0; i < js_urls.length; i++) {\n      const url = js_urls[i];\n      const element = document.createElement('script');\n      element.onload = on_load;\n      element.onerror = on_error.bind(null, url);\n      element.async = false;\n      element.src = url;\n      console.debug(\"Bokeh: injecting script tag for BokehJS library: \", url);\n      document.head.appendChild(element);\n    }\n  };\n\n  function inject_raw_css(css) {\n    const element = document.createElement(\"style\");\n    element.appendChild(document.createTextNode(css));\n    document.body.appendChild(element);\n  }\n\n  const js_urls = [\"https://cdn.bokeh.org/bokeh/release/bokeh-3.4.1.min.js\", \"https://cdn.bokeh.org/bokeh/release/bokeh-gl-3.4.1.min.js\", \"https://cdn.bokeh.org/bokeh/release/bokeh-widgets-3.4.1.min.js\", \"https://cdn.bokeh.org/bokeh/release/bokeh-tables-3.4.1.min.js\", \"https://cdn.bokeh.org/bokeh/release/bokeh-mathjax-3.4.1.min.js\"];\n  const css_urls = [];\n\n  const inline_js = [    function(Bokeh) {\n      Bokeh.set_log_level(\"info\");\n    },\nfunction(Bokeh) {\n    }\n  ];\n\n  function run_inline_js() {\n    if (root.Bokeh !== undefined || force === true) {\n      try {\n            for (let i = 0; i < inline_js.length; i++) {\n      inline_js[i].call(root, root.Bokeh);\n    }\n\n      } catch (error) {display_loaded(error);throw error;\n      }if (force === true) {\n        display_loaded();\n      }} else if (Date.now() < root._bokeh_timeout) {\n      setTimeout(run_inline_js, 100);\n    } else if (!root._bokeh_failed_load) {\n      console.log(\"Bokeh: BokehJS failed to load within specified timeout.\");\n      root._bokeh_failed_load = true;\n    } else if (force !== true) {\n      const cell = $(document.getElementById(\"b18216cd-4917-4290-ab09-962b55cac8a6\")).parents('.cell').data().cell;\n      cell.output_area.append_execute_result(NB_LOAD_WARNING)\n    }\n  }\n\n  if (root._bokeh_is_loading === 0) {\n    console.debug(\"Bokeh: BokehJS loaded, going straight to plotting\");\n    run_inline_js();\n  } else {\n    load_libs(css_urls, js_urls, function() {\n      console.debug(\"Bokeh: BokehJS plotting callback run at\", now());\n      run_inline_js();\n    });\n  }\n}(window));",
      "application/vnd.bokehjs_load.v0+json": ""
     },
     "metadata": {},
     "output_type": "display_data"
    },
    {
     "name": "stderr",
     "output_type": "stream",
     "text": [
      "Setting default log level to \"WARN\".\n",
      "To adjust logging level use sc.setLogLevel(newLevel). For SparkR, use setLogLevel(newLevel).\n"
     ]
    },
    {
     "name": "stdout",
     "output_type": "stream",
     "text": [
      "24/10/28 14:41:28 WARN NativeCodeLoader: Unable to load native-hadoop library for your platform... using builtin-java classes where applicable\n"
     ]
    },
    {
     "name": "stderr",
     "output_type": "stream",
     "text": [
      "                                                                                \r"
     ]
    },
    {
     "data": {
      "text/plain": [
       "925"
      ]
     },
     "execution_count": 1,
     "metadata": {},
     "output_type": "execute_result"
    },
    {
     "name": "stderr",
     "output_type": "stream",
     "text": [
      "----------------------------------------\n",
      "Exception occurred during processing of request from ('127.0.0.1', 49887)\n",
      "Traceback (most recent call last):\n",
      "  File \"/Users/xg1/.pyenv/versions/3.10.8/lib/python3.10/socketserver.py\", line 316, in _handle_request_noblock\n",
      "    self.process_request(request, client_address)\n",
      "  File \"/Users/xg1/.pyenv/versions/3.10.8/lib/python3.10/socketserver.py\", line 347, in process_request\n",
      "    self.finish_request(request, client_address)\n",
      "  File \"/Users/xg1/.pyenv/versions/3.10.8/lib/python3.10/socketserver.py\", line 360, in finish_request\n",
      "    self.RequestHandlerClass(request, client_address, self)\n",
      "  File \"/Users/xg1/.pyenv/versions/3.10.8/lib/python3.10/socketserver.py\", line 747, in __init__\n",
      "    self.handle()\n",
      "  File \"/Users/xg1/Library/Caches/pypoetry/virtualenvs/gentropy-NMtW8s8F-py3.10/lib/python3.10/site-packages/pyspark/accumulators.py\", line 281, in handle\n",
      "    poll(accum_updates)\n",
      "  File \"/Users/xg1/Library/Caches/pypoetry/virtualenvs/gentropy-NMtW8s8F-py3.10/lib/python3.10/site-packages/pyspark/accumulators.py\", line 253, in poll\n",
      "    if func():\n",
      "  File \"/Users/xg1/Library/Caches/pypoetry/virtualenvs/gentropy-NMtW8s8F-py3.10/lib/python3.10/site-packages/pyspark/accumulators.py\", line 257, in accum_updates\n",
      "    num_updates = read_int(self.rfile)\n",
      "  File \"/Users/xg1/Library/Caches/pypoetry/virtualenvs/gentropy-NMtW8s8F-py3.10/lib/python3.10/site-packages/pyspark/serializers.py\", line 595, in read_int\n",
      "    raise EOFError\n",
      "EOFError\n",
      "----------------------------------------\n"
     ]
    }
   ],
   "source": [
    "from pyspark.sql import Window\n",
    "from pyspark.sql.functions import row_number, desc, col\n",
    "\n",
    "from pyspark.sql.functions import explode\n",
    "import sys\n",
    "from gentropy.common.session import Session\n",
    "from pyspark.sql import functions as f\n",
    "\n",
    "sys.path.append(\"../../gentropy/src/\")\n",
    "release_path=\"../../otg_releases\"\n",
    "release_ver=\"2406\"\n",
    "\n",
    "session=Session(\n",
    "    extended_spark_conf={\"spark.driver.memory\": \"12g\", \"spark.kryoserializer.buffer.max\": \"500m\",\"spark.driver.maxResultSize\":\"3g\"}\n",
    "    )\n",
    "\n",
    "study_index_path=f\"{release_path}/{release_ver}/study_index/\"\n",
    "\n",
    "# load prev. study index\n",
    "prev_study_index_path=\"/Users/xg1/prev_studies.parquet/\"\n",
    "prev_study_index=session.spark.read.parquet(prev_study_index_path, recursiveFileLookup=True)\n",
    "# 57k studies (57,246), of which, 56k have EFO mappings (56,262).\n",
    "\n",
    "# Recover finngen EFOs from prev.release\n",
    "    # 2.8k finngen studies from prev.release\n",
    "    # 2.4k finngen studies from current release.\n",
    "\n",
    "prev_study_index = prev_study_index.withColumn(\n",
    "    \"study_id\",\n",
    "    f.regexp_replace(f.col(\"study_id\"), \"FINNGEN_R6\", \"FINNGEN_R10\")\n",
    ")\n",
    "finngen_study_index=session.spark.read.parquet(study_index_path+\"finngen/\", recursiveFileLookup=True)\n",
    "finngen_study_index=finngen_study_index.join(\n",
    "    prev_study_index.withColumnRenamed(\n",
    "        \"study_id\", \"studyId\").withColumnRenamed(\n",
    "            \"trait_efos\", \"traitFromSourceMappedIds\")\n",
    "        .select(\"studyId\", \n",
    "                \"n_initial\", \n",
    "                \"traitFromSourceMappedIds\", \n",
    "                \"trait_reported\"), \n",
    "                on=\"studyId\", how=\"inner\").select(\n",
    "             \"studyId\", \n",
    "             f.col(\"n_initial\").alias(\"nSamples\"), \n",
    "             f.col(\"trait_reported\").alias(\"traitFromSource\"), \n",
    "             \"traitFromSourceMappedIds\", \n",
    "             \"hasSumstats\")\n",
    "\n",
    "# 1,858 finngen studies maps directly. (~75%)\n",
    "\n",
    "gwascat_study_index=session.spark.read.parquet(\n",
    "    study_index_path+\"gwas_catalog/\", recursiveFileLookup=True).select(\n",
    "        \"studyId\", \n",
    "        \"nSamples\", \n",
    "        \"traitFromSource\", \n",
    "        \"traitFromSourceMappedIds\", \n",
    "        \"hasSumstats\")\n",
    "# 79,872 studies total, 79,861 with efo\n",
    "# 18,442 contains sumstats.\n",
    "\n",
    "study_index=gwascat_study_index.union(finngen_study_index).persist()\n",
    "\n",
    "\n",
    "#\"/Users/xg1/Downloads/otg_releases/2406/new_GS_jsons/Distance_and_prev_GS_non_distanceOnly.json\"\n",
    "\n",
    "GS=session.spark.read.json(\n",
    "    f\"{release_path}/{release_ver}/locus_to_gene_gold_standard.json\")\n",
    "\n",
    "GS.filter(f.col(\"gold_standard_info.highest_confidence\").isin([\"High\", \"Medium\"])).select(\"gold_standard_info\").distinct().count()"
   ]
  },
  {
   "cell_type": "code",
   "execution_count": null,
   "metadata": {},
   "outputs": [],
   "source": [
    "New_chembl_GS=session.spark.read.parquet(\"/Users/xg1/Downloads/otg_releases/2406/New_chembl_GS.parquet\")\n",
    "New_chembl_GS.printSchema()"
   ]
  },
  {
   "cell_type": "code",
   "execution_count": 6,
   "metadata": {},
   "outputs": [
    {
     "name": "stderr",
     "output_type": "stream",
     "text": [
      "                                                                                \r"
     ]
    }
   ],
   "source": [
    "GS=session.spark.read.json(\n",
    "    f\"{release_path}/{release_ver}/locus_to_gene_gold_standard.json\")\n",
    "\n",
    "selected_df = GS.filter(f.col(\"gold_standard_info.highest_confidence\").isin([\"High\", \"Medium\"])).select(\n",
    "    \"gold_standard_info.gene_id\",\n",
    "    \"trait_info.ontology\",\n",
    "    \"trait_info.reported_trait_name\"\n",
    ").withColumnRenamed(\"ontology\", \"efo_terms\").withColumnRenamed(\"gene_id\", \"geneId\").withColumnRenamed(\"reported_trait_name\", \"diseaseFromSource\").select(\"efo_terms\", \"geneId\", \"diseaseFromSource\")\n",
    "\n",
    "chembl_GS=chembl_evidence_noOncology.withColumnRenamed(\n",
    "    \"diseaseFromSourceMappedId\", \"efo_terms\").withColumnRenamed(\n",
    "        \"targetId\", \"geneId\").filter(f.col(\"maxClinicalPhase\") >= 3).filter(f.col(\"clinicalStatus\") == \"Completed\").select(\"efo_terms\", \"geneId\", \"diseaseFromSource\").distinct()\n",
    "\n",
    "expanded_df = selected_df.withColumn(\"efo_terms\", f.explode(\"efo_terms\"))\n",
    "new_egl=expanded_df.unionByName(chembl_GS)\n",
    "\n",
    "new_egl.write.parquet(\"/Users/xg1/Downloads/Effector_gene_list.parquet\")\n"
   ]
  },
  {
   "cell_type": "code",
   "execution_count": 15,
   "metadata": {},
   "outputs": [
    {
     "name": "stderr",
     "output_type": "stream",
     "text": [
      "                                                                                \r"
     ]
    },
    {
     "data": {
      "text/plain": [
       "20235"
      ]
     },
     "execution_count": 15,
     "metadata": {},
     "output_type": "execute_result"
    }
   ],
   "source": [
    "chembl_evidence.withColumnRenamed(\n",
    "    \"diseaseFromSourceMappedId\", \"efo_terms\").withColumnRenamed(\n",
    "        \"targetId\", \"geneId\").filter(f.col(\"maxClinicalPhase\") >= 3).filter(f.col(\"clinicalStatus\") == \"Completed\").select(\"efo_terms\", \"geneId\").distinct().count()"
   ]
  },
  {
   "cell_type": "code",
   "execution_count": 18,
   "metadata": {},
   "outputs": [
    {
     "name": "stderr",
     "output_type": "stream",
     "text": [
      "                                                                                \r"
     ]
    },
    {
     "data": {
      "text/plain": [
       "4426"
      ]
     },
     "execution_count": 18,
     "metadata": {},
     "output_type": "execute_result"
    }
   ],
   "source": [
    "chembl_evidence=session.spark.read.parquet(\n",
    "    \"/Users/xg1/Downloads/platform_2409_evidence/evidence/sourceId\\=chembl\").select(\n",
    "        \"targetId\", \"drugId\", \"clinicalPhase\", \n",
    "        \"diseaseFromSourceMappedId\", \n",
    "        \"diseaseFromSource\", \n",
    "        \"clinicalStatus\").withColumn(\n",
    "            \"maxClinicalPhase\", f.max(\"clinicalPhase\").over(windowSpec)).filter(\n",
    "                f.col(\"clinicalPhase\") == f.col(\"maxClinicalPhase\")).drop(\"clinicalPhase\", \"drugId\").distinct()\n",
    "\n",
    "chembl_evidence_noOncology=chembl_evidence.join(TA_diseases.withColumnRenamed(\n",
    "    \"diseaseId\", \"diseaseFromSourceMappedId\"), on=\"diseaseFromSourceMappedId\", how=\"inner\").filter(\n",
    "    (f.col(\"taLabelSimple\") != \"Oncology\") | f.col(\"taLabelSimple\").isNull())\n",
    "\n",
    "chembl_evidence_noOncology.withColumnRenamed(\n",
    "    \"diseaseFromSourceMappedId\", \"efo_terms\").withColumnRenamed(\n",
    "        \"targetId\", \"geneId\").filter(f.col(\"maxClinicalPhase\") >= 3).filter(f.col(\"clinicalStatus\") == \"Completed\").select(\"efo_terms\", \"geneId\").distinct().count()"
   ]
  },
  {
   "cell_type": "code",
   "execution_count": 19,
   "metadata": {},
   "outputs": [
    {
     "name": "stderr",
     "output_type": "stream",
     "text": [
      "                                                                                \r"
     ]
    },
    {
     "data": {
      "text/plain": [
       "1170"
      ]
     },
     "execution_count": 19,
     "metadata": {},
     "output_type": "execute_result"
    }
   ],
   "source": [
    "\n",
    "chembl_evidence_noOncology.withColumnRenamed(\n",
    "    \"diseaseFromSourceMappedId\", \"efo_terms\").withColumnRenamed(\n",
    "        \"targetId\", \"geneId\").filter(f.col(\"maxClinicalPhase\") <= 3).filter(f.col(\"clinicalStatus\") == \"Completed\").select(\"geneId\").distinct().count()"
   ]
  },
  {
   "cell_type": "code",
   "execution_count": 20,
   "metadata": {},
   "outputs": [
    {
     "data": {
      "text/plain": [
       "925"
      ]
     },
     "execution_count": 20,
     "metadata": {},
     "output_type": "execute_result"
    }
   ],
   "source": [
    "\n"
   ]
  },
  {
   "cell_type": "code",
   "execution_count": 24,
   "metadata": {},
   "outputs": [
    {
     "name": "stdout",
     "output_type": "stream",
     "text": [
      "+------------------------------------------------------------------+-------------------------------------------------------------------------------------------------------------------------------------------------------------------------------------------------------------------------------------------------------------------------------------------------------------------------------------------------------------------------------------------------------------------------------+------------------------------------------------------------------------+----------------------------------------------------+----------------------------------------------------------------------------------------------------------+\n",
      "|association_info                                                  |gold_standard_info                                                                                                                                                                                                                                                                                                                                                                                                             |metadata                                                                |sentinel_variant                                    |trait_info                                                                                                |\n",
      "+------------------------------------------------------------------+-------------------------------------------------------------------------------------------------------------------------------------------------------------------------------------------------------------------------------------------------------------------------------------------------------------------------------------------------------------------------------------------------------------------------------+------------------------------------------------------------------------+----------------------------------------------------+----------------------------------------------------------------------------------------------------------+\n",
      "|{[EUR], null, GCST000324, 23.699, GCST000324_3, 19185284, null}   |{[{expert curated, High, Eric Fauman, BCO1 (previously referred to as BCMO1) encodes beta-carotene oxygenase 1 which uses a molecule of oxygen to produce two molecules of retinol from beta-carotene.  Enzyme deficiency results in accumulation of beta-carotene., 11401432, null}], ENSG00000135697, High}                                                                                                                  |{null, 2019-05-17, Ed Mountjoy, ProGeM, Eric Fauman, [metabolite, mQTL]}|{{G, T}, {16, 81264597}, {16, 81230992}, rs6564851} |{[HMDB0000561], Carotenoid and tocopherol levels (beta-carotene), B-Carotene}                             |\n",
      "|{[unknown], null, GCST000386, 323.301, GCST000386, 19414484, null}|{[{expert curated, High, Eric Fauman, UGT1A1 encodes an enzyme with bilirubin glucuronidating activity.  Bilirubin is derived from biliverdin., 01898728, null}], ENSG00000242366, High}                                                                                                                                                                                                                                       |{null, 2019-05-17, Ed Mountjoy, ProGeM, Eric Fauman, [metabolite, mQTL]}|{{T, G}, {2, 234672639}, {2, 233763993}, rs6742078} |{[HMDB0000054], Bilirubin levels, Bilirubin}                                                              |\n",
      "|{[ASW, EUR], null, GCST000388, 8.046, GCST000388, 19419973, null} |{[{expert curated, High, Eric Fauman, G6PD encodes the glucose-6-phosphate dehydrogenase, an enzyme critical to red blood cell metabolism.  G6PD deficiency results in accumulation of bilirubin, a breakdown product of heme., 11445808, null}], ENSG00000160211, High}                                                                                                                                                       |{null, 2019-05-17, Ed Mountjoy, ProGeM, Eric Fauman, [metabolite, mQTL]}|{{G, C}, {X, 153554404}, {X, 154326058}, rs766420}  |{[HMDB0000054], Bilirubin levels, Bilirubin}                                                              |\n",
      "|{[EUR], null, GCST000493, 65.046, GCST000493_3, 19798445, null}   |{[{expert curated, High, Eric Fauman, SGPP1 encodes a sphingosine-1-phosphate phosphatase which dephosphorylates sphingosine-1-phosphate to sphingosine which can then be incorporated into sphingomyelin., 10859351, null}], ENSG00000126821, High}                                                                                                                                                                           |{null, 2019-05-17, Ed Mountjoy, ProGeM, Eric Fauman, [metabolite, mQTL]}|{{T, G}, {14, 64235556}, {14, 63768838}, rs7157785} |{[HMDB0012097], Sphingolipid levels (SM 14:0Mol%), sphingomyelin 14∶0 molar percentage}                   |\n",
      "|{[EUR], null, GCST000568, 217.046, GCST000568, 20081858, null}    |{[{expert curated, High, Eric Fauman, G6PC2 encodes a pancreas-specific glucose-6-phosphatase. This enzyme influences the fasting glucose set point for basal insulin secretion., 23274894, null}], ENSG00000152254, High}                                                                                                                                                                                                     |{null, 2019-05-17, Ed Mountjoy, ProGeM, Eric Fauman, [metabolite, mQTL]}|{{C, T}, {2, 169763148}, {2, 168906638}, rs560887}  |{[HMDB0000122], Fasting glucose-related traits (FPG), D-Glucose}                                          |\n",
      "|{[EUR], null, GCST000697, 108.699, GCST000697, 20541252, null}    |{[{expert curated, High, Eric Fauman, GC encodes the vitamin D binding protein which transports multiple forms of vitamin D, 00049052, null}], ENSG00000145321, High}                                                                                                                                                                                                                                                          |{null, 2019-05-17, Ed Mountjoy, ProGeM, Eric Fauman, [metabolite, mQTL]}|{{G, T}, {4, 72608383}, {4, 71742666}, rs2282679}   |{[HMDB0001438], Vitamin D insufficiency, 25-Hydroxyvitamin D2}                                            |\n",
      "|{[EUR], null, GCST000697, 19.523, GCST000697, 20541252, null}     |{[{expert curated, High, Eric Fauman, CYP2R1 encodes the vitamin D 25-hydroxylase which produces the detected metabolite., 12867411, null}], ENSG00000186104, High}                                                                                                                                                                                                                                                            |{null, 2019-05-17, Ed Mountjoy, ProGeM, Eric Fauman, [metabolite, mQTL]}|{{G, A}, {11, 14914878}, {11, 14893332}, rs10741657}|{[HMDB0001438], Vitamin D insufficiency, 25-Hydroxyvitamin D2}                                            |\n",
      "|{[EUR], null, GCST000697, 26.699, GCST000697, 20541252, null}     |{[{expert curated, High, Eric Fauman, DHCR7 encodes 7-dehydrocholesterol reductase, which acts on 7-dehydrocholesterol, a precursor of vitamin D., 10807690, null}], ENSG00000172893, High}                                                                                                                                                                                                                                    |{null, 2019-05-17, Ed Mountjoy, ProGeM, Eric Fauman, [metabolite, mQTL]}|{{T, G}, {11, 71167449}, {11, 71456403}, rs12785878}|{[HMDB0001438], Vitamin D insufficiency, 25-Hydroxyvitamin D2}                                            |\n",
      "|{[EUR], null, GCST000703, 27.0, GCST000703, 20558539, null}       |{[{expert curated, High, Eric Fauman, ALPL encodes the liver alkaline phosphatase.  Loss of function of alkaline phosphatase causes hypophosphatasia., 03174660, null}], ENSG00000162551, High}                                                                                                                                                                                                                                |{null, 2019-05-17, Ed Mountjoy, ProGeM, Eric Fauman, [metabolite, mQTL]}|{{T, C}, {1, 21823292}, {1, 21496799}, rs1697421}   |{[HMDB0001315], Phosphorus levels, Phosphorus}                                                            |\n",
      "|{[EUR], null, GCST000703, 8.398, GCST000703, 20558539, null}      |{[{expert curated, High, Eric Fauman, FGF23 encodes a fibroblast growth factor which regulates phosphate levels through multiple mechanisms, including regulation of levels of kidney phosphate transporters, 15863037, null}], ENSG00000118972, High}                                                                                                                                                                         |{null, 2019-05-17, Ed Mountjoy, ProGeM, Eric Fauman, [metabolite, mQTL]}|{{A, T}, {12, 4606168}, {12, 4497002}, rs2970818}   |{[HMDB0001315], Phosphorus levels, Phosphorus}                                                            |\n",
      "|{[EUR], null, GCST000756, 35.699, GCST000756, 20700443, null}     |{[{expert curated, High, Eric Fauman, MUC1 encodes a mucin protein which forms a mucosal layer in intestines and kidney and may regulate absorption of magnesium, 01983814, null}], ENSG00000185499, High}                                                                                                                                                                                                                     |{null, 2019-05-17, Ed Mountjoy, ProGeM, Eric Fauman, [metabolite, mQTL]}|{{T, C}, {1, 155162067}, {1, 155192276}, rs4072037} |{[HMDB0000547], Magnesium levels, Magneseium}                                                             |\n",
      "|{[EUR], null, GCST000756, 14.097, GCST000756, 20700443, null}     |{[{expert curated, High, Eric Fauman, TRPM6 encodes a cation transporter with demonstrated activity toward magnesium., 14576148, null}], ENSG00000119121, High}                                                                                                                                                                                                                                                                |{null, 2019-05-17, Ed Mountjoy, ProGeM, Eric Fauman, [metabolite, mQTL]}|{{C, T}, {9, 77499796}, {9, 74884880}, rs11144134}  |{[HMDB0000547], Magnesium levels, Magnesium}                                                              |\n",
      "|{[EUR], null, GCST000925, 17.523, GCST000925_3, 21203500, null}   |{[{expert curated, High, Eric Fauman, FUT8 encodes a fucosyltransferase that catalyzes the transfer of fucose to complex glycopeptides., 00985526, null}], ENSG00000033170, High}                                                                                                                                                                                                                                              |{null, 2019-05-17, Ed Mountjoy, ProGeM, Eric Fauman, [metabolite, mQTL]}|{{A, G}, {14, 65758642}, {14, 65291924}, rs7159888} |{[EFO_0004999], N-glycan levels (DG1), N-glycan measurement}                                              |\n",
      "|{[EUR], null, GCST001049, 51.222, GCST001049, 21502573, null}     |{[{expert curated, High, Eric Fauman, F3 encodes coagulation factor 3, also known as tissue factor, which is involved in the initiation of the clotting cascade, which eventually results in the production of fibrin.  The D-dimer metabolite is a degredation product of fibrin clots., 12223078, null}], ENSG00000117525, High}                                                                                             |{null, 2019-05-17, Ed Mountjoy, ProGeM, Eric Fauman, [metabolite, mQTL]}|{{G, T}, {1, 95053353}, {1, 94587797}, rs12029080}  |{[EFO_0004507], D-dimer levels, D dimer measurement}                                                      |\n",
      "|{[EUR], null, GCST001049, 13.699, GCST001049, 21502573, null}     |{[{expert curated, High, Eric Fauman, F5 encodes coagulation factor 5, an essential element of the clotting cascade, which eventually results in the production of fibrin.  The D-dimer metabolite is a degredation product of fibrin clots., 25231258, null}], ENSG00000198734, High}                                                                                                                                         |{null, 2019-05-17, Ed Mountjoy, ProGeM, Eric Fauman, [metabolite, mQTL]}|{{C, A}, {1, 169477574}, {1, 169508336}, rs6687813} |{[EFO_0004507], D-dimer levels, D dimer measurement}                                                      |\n",
      "|{[EUR], null, GCST001142, 10.0, GCST001142, 21729881, null}       |{[{expert curated, High, Eric Fauman, CYP4F2 encodes a cytochrome P450 with a special role in the production of Vitamin E, 11997390, null}], ENSG00000186115, High}                                                                                                                                                                                                                                                            |{null, 2019-05-17, Ed Mountjoy, ProGeM, Eric Fauman, [metabolite, mQTL]}|{{T, C}, {19, 15990431}, {19, 15879621}, rs2108622} |{[HMDB0001893], Vitamin E levels, Alpha-Tocopherol}                                                       |\n",
      "|{[EUR], null, GCST001179, 43.0, GCST001179, 21829377, null}       |{[{expert curated, High, Eric Fauman, ELOVL2 encodes a long chain fatty acid elongase.  The coenzyme A derivative of DPA (22:5n3) is both a product and a substrate for the enzyme. , 12371743, null}], ENSG00000197977, High}                                                                                                                                                                                                 |{null, 2019-05-17, Ed Mountjoy, ProGeM, Eric Fauman, [metabolite, mQTL]}|{{C, T}, {6, 10982973}, {6, 10982740}, rs3734398}   |{[HMDB0006528], Phospholipid levels (plasma) (DPA), Docosapentaenoic acid}                                |\n",
      "|{[EUR], null, GCST001216, 14.155, GCST001216, 21878437, null}     |{[{expert curated, High, Eric Fauman, RBP4 encodes a retinol-binding protein that transports retinol in the blood. , 02444024, null}], ENSG00000138207, High}                                                                                                                                                                                                                                                                  |{null, 2019-05-17, Ed Mountjoy, ProGeM, Eric Fauman, [metabolite, mQTL]}|{{C, T}, {10, 95348182}, {10, 93588425}, rs10882272}|{[HMDB0000305], Retinol levels, Vitamin A}                                                                |\n",
      "|{[EUR], null, GCST001216, 13.222, GCST001216, 21878437, null}     |{[{expert curated, High, Eric Fauman, TTR encodes a thyroid hormone-binding protein which transports thryroxine and retinol., 04607556, null}], ENSG00000118271, High}                                                                                                                                                                                                                                                         |{null, 2019-05-17, Ed Mountjoy, ProGeM, Eric Fauman, [metabolite, mQTL]}|{{C, A}, {18, 29187279}, {18, 31607316}, rs1667255} |{[HMDB0000305], Retinol levels, Vitamin A}                                                                |\n",
      "|{[EUR], null, GCST001217, 14.301, GCST001217_23, 21886157, null}  |{[{expert curated, High, Eric Fauman, AHR encodes the aromatic hydrocarbon receptor, a transcription factor which activates CYP1A1 and CYP1A2.  These enzymes metabolize caffeine., 10605936, null}, {expert curated, High, Eric Fauman, AHR encodes the aromatic hydrocarbon receptor, a transcription factor which activates CYP1A1 and CYP1A2.  These enzymes metabolize caffeine., 08095225, null}], ENSG00000106546, High}|{null, 2019-05-17, Ed Mountjoy, ProGeM, Eric Fauman, [metabolite, mQTL]}|{{A, C}, {7, 17309279}, {7, 17269655}, rs12670403}  |{[HMDB0001847, HMDB0003072], Metabolic traits (caffeine/quinate + 3 other traits), Caffeine / Quinic acid}|\n",
      "+------------------------------------------------------------------+-------------------------------------------------------------------------------------------------------------------------------------------------------------------------------------------------------------------------------------------------------------------------------------------------------------------------------------------------------------------------------------------------------------------------------+------------------------------------------------------------------------+----------------------------------------------------+----------------------------------------------------------------------------------------------------------+\n",
      "only showing top 20 rows\n",
      "\n"
     ]
    }
   ],
   "source": [
    "GS.show(truncate=False)"
   ]
  },
  {
   "cell_type": "code",
   "execution_count": 23,
   "metadata": {},
   "outputs": [
    {
     "name": "stdout",
     "output_type": "stream",
     "text": [
      "root\n",
      " |-- association_info: struct (nullable = true)\n",
      " |    |-- ancestry: array (nullable = true)\n",
      " |    |    |-- element: string (containsNull = true)\n",
      " |    |-- doi: string (nullable = true)\n",
      " |    |-- gwas_catalog_id: string (nullable = true)\n",
      " |    |-- neg_log_pval: double (nullable = true)\n",
      " |    |-- otg_id: string (nullable = true)\n",
      " |    |-- pubmed_id: string (nullable = true)\n",
      " |    |-- url: string (nullable = true)\n",
      " |-- gold_standard_info: struct (nullable = true)\n",
      " |    |-- evidence: array (nullable = true)\n",
      " |    |    |-- element: struct (containsNull = true)\n",
      " |    |    |    |-- class: string (nullable = true)\n",
      " |    |    |    |-- confidence: string (nullable = true)\n",
      " |    |    |    |-- curated_by: string (nullable = true)\n",
      " |    |    |    |-- description: string (nullable = true)\n",
      " |    |    |    |-- pubmed_id: string (nullable = true)\n",
      " |    |    |    |-- source: string (nullable = true)\n",
      " |    |-- gene_id: string (nullable = true)\n",
      " |    |-- highest_confidence: string (nullable = true)\n",
      " |-- metadata: struct (nullable = true)\n",
      " |    |-- comments: string (nullable = true)\n",
      " |    |-- date_added: string (nullable = true)\n",
      " |    |-- reviewed_by: string (nullable = true)\n",
      " |    |-- set_label: string (nullable = true)\n",
      " |    |-- submitted_by: string (nullable = true)\n",
      " |    |-- tags: array (nullable = true)\n",
      " |    |    |-- element: string (containsNull = true)\n",
      " |-- sentinel_variant: struct (nullable = true)\n",
      " |    |-- alleles: struct (nullable = true)\n",
      " |    |    |-- alternative: string (nullable = true)\n",
      " |    |    |-- reference: string (nullable = true)\n",
      " |    |-- locus_GRCh37: struct (nullable = true)\n",
      " |    |    |-- chromosome: string (nullable = true)\n",
      " |    |    |-- position: long (nullable = true)\n",
      " |    |-- locus_GRCh38: struct (nullable = true)\n",
      " |    |    |-- chromosome: string (nullable = true)\n",
      " |    |    |-- position: long (nullable = true)\n",
      " |    |-- rsid: string (nullable = true)\n",
      " |-- trait_info: struct (nullable = true)\n",
      " |    |-- ontology: array (nullable = true)\n",
      " |    |    |-- element: string (containsNull = true)\n",
      " |    |-- reported_trait_name: string (nullable = true)\n",
      " |    |-- standard_trait_name: string (nullable = true)\n",
      "\n"
     ]
    }
   ],
   "source": [
    "GS.printSchema()"
   ]
  },
  {
   "cell_type": "code",
   "execution_count": null,
   "metadata": {},
   "outputs": [],
   "source": []
  }
 ],
 "metadata": {
  "kernelspec": {
   "display_name": "gentropy-NMtW8s8F-py3.10",
   "language": "python",
   "name": "python3"
  },
  "language_info": {
   "codemirror_mode": {
    "name": "ipython",
    "version": 3
   },
   "file_extension": ".py",
   "mimetype": "text/x-python",
   "name": "python",
   "nbconvert_exporter": "python",
   "pygments_lexer": "ipython3",
   "version": "3.10.8"
  }
 },
 "nbformat": 4,
 "nbformat_minor": 2
}
