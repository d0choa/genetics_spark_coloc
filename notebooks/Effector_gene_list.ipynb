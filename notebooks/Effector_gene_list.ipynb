{
 "cells": [
  {
   "cell_type": "markdown",
   "metadata": {},
   "source": [
    "Logic for parsing chembl dataset to curate effector gene list\n",
    "Load chembl dataset\n",
    "filter by phase 3+4\n",
    "keep efo-gene pairings which were successful\n",
    "\n",
    "Load L2G feature matrix\n",
    "Load study index\n",
    "Load credible sets # maybe not needed\n",
    "\n",
    "For each efo-gene pairing:\n",
    "    Identify studylocusId-to-gene pairings that match the efo\n",
    "    Select the entry with the least amount of feature missingness\n",
    "\n",
    "Filter entries based on feature strength, do not want entries with 1 feature or 2 features only.\n",
    "    Investigate, how many entries remain after different thresholds? at least 5/4/3 features?\n",
    "\n",
    "This will be the new effector gene list / gold standard positives\n",
    "\n",
    "For the negatives:\n",
    "Join the studylocusId in the entries back to the credible set.\n",
    "    Using the variantId information in the credible set, join with the gene index to identify other nearby genes.\n",
    "    These will become gold standard negatives.\n",
    "    Recycle the logic from current GSN generation to filter using stringDB < 0.7\n",
    "\n",
    "    Furthermore, apply a similar filter on the GSN feature matrix, retaining only top 1/2/3/4/5 entries with at least 3/4/5 features.\n",
    "\n",
    "Investigate the schema required for the gold standards\n",
    "Annotate the GSP + GSN entries accordingly.\n",
    "Modify the code in l2g.py to utilise GSP + GSN input directly, instead of automatically identifying GSNs each run.\n",
    "\n",
    "\n"
   ]
  },
  {
   "cell_type": "code",
   "execution_count": null,
   "metadata": {},
   "outputs": [],
   "source": []
  }
 ],
 "metadata": {
  "kernelspec": {
   "display_name": "gentropy-NMtW8s8F-py3.10",
   "language": "python",
   "name": "python3"
  },
  "language_info": {
   "name": "python",
   "version": "3.10.8"
  }
 },
 "nbformat": 4,
 "nbformat_minor": 2
}
