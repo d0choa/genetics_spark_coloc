{
 "cells": [
  {
   "cell_type": "markdown",
   "metadata": {},
   "source": [
    "# Inferring ancetries"
   ]
  },
  {
   "cell_type": "code",
   "execution_count": 1,
   "metadata": {},
   "outputs": [
    {
     "name": "stdout",
     "output_type": "stream",
     "text": [
      "Your browser has been opened to visit:\n",
      "\n",
      "    https://accounts.google.com/o/oauth2/auth?response_type=code&client_id=764086051850-6qr4p6gpi6hn506pt8ejuq83di341hur.apps.googleusercontent.com&redirect_uri=http%3A%2F%2Flocalhost%3A8085%2F&scope=openid+https%3A%2F%2Fwww.googleapis.com%2Fauth%2Fuserinfo.email+https%3A%2F%2Fwww.googleapis.com%2Fauth%2Fcloud-platform+https%3A%2F%2Fwww.googleapis.com%2Fauth%2Fsqlservice.login+https%3A%2F%2Fwww.googleapis.com%2Fauth%2Faccounts.reauth&state=IPObFArSpQSGFKXsHDARcwjx6cpYBd&access_type=offline&code_challenge=X13hntFQlsJwUypblr47wNtEzU5kCWJfCeSeLXfqwGs&code_challenge_method=S256\n",
      "\n",
      "\n",
      "Credentials saved to file: [/Users/yt4/.config/gcloud/application_default_credentials.json]\n",
      "\n",
      "These credentials will be used by any library that requests Application Default Credentials (ADC).\n",
      "\n",
      "Quota project \"open-targets-genetics-dev\" was added to ADC which can be used by Google client libraries for billing and quota. Note that some services may still bill the project owning the resource.\n",
      "\n",
      "\n",
      "Updates are available for some Google Cloud CLI components.  To install them,\n",
      "please run:\n",
      "  $ gcloud components update\n",
      "\n"
     ]
    }
   ],
   "source": [
    "!gcloud auth application-default login"
   ]
  },
  {
   "cell_type": "code",
   "execution_count": 2,
   "metadata": {},
   "outputs": [
    {
     "data": {
      "text/html": [
       "    <style>\n",
       "        .bk-notebook-logo {\n",
       "            display: block;\n",
       "            width: 20px;\n",
       "            height: 20px;\n",
       "            background-image: url(data:image/png;base64,iVBORw0KGgoAAAANSUhEUgAAABQAAAAUCAYAAACNiR0NAAAABHNCSVQICAgIfAhkiAAAAAlwSFlzAAALEgAACxIB0t1+/AAAABx0RVh0U29mdHdhcmUAQWRvYmUgRmlyZXdvcmtzIENTNui8sowAAAOkSURBVDiNjZRtaJVlGMd/1/08zzln5zjP1LWcU9N0NkN8m2CYjpgQYQXqSs0I84OLIC0hkEKoPtiH3gmKoiJDU7QpLgoLjLIQCpEsNJ1vqUOdO7ppbuec5+V+rj4ctwzd8IIbbi6u+8f1539dt3A78eXC7QizUF7gyV1fD1Yqg4JWz84yffhm0qkFqBogB9rM8tZdtwVsPUhWhGcFJngGeWrPzHm5oaMmkfEg1usvLFyc8jLRqDOMru7AyC8saQr7GG7f5fvDeH7Ej8CM66nIF+8yngt6HWaKh7k49Soy9nXurCi1o3qUbS3zWfrYeQDTB/Qj6kX6Ybhw4B+bOYoLKCC9H3Nu/leUTZ1JdRWkkn2ldcCamzrcf47KKXdAJllSlxAOkRgyHsGC/zRday5Qld9DyoM4/q/rUoy/CXh3jzOu3bHUVZeU+DEn8FInkPBFlu3+nW3Nw0mk6vCDiWg8CeJaxEwuHS3+z5RgY+YBR6V1Z1nxSOfoaPa4LASWxxdNp+VWTk7+4vzaou8v8PN+xo+KY2xsw6une2frhw05CTYOmQvsEhjhWjn0bmXPjpE1+kplmmkP3suftwTubK9Vq22qKmrBhpY4jvd5afdRA3wGjFAgcnTK2s4hY0/GPNIb0nErGMCRxWOOX64Z8RAC4oCXdklmEvcL8o0BfkNK4lUg9HTl+oPlQxdNo3Mg4Nv175e/1LDGzZen30MEjRUtmXSfiTVu1kK8W4txyV6BMKlbgk3lMwYCiusNy9fVfvvwMxv8Ynl6vxoByANLTWplvuj/nF9m2+PDtt1eiHPBr1oIfhCChQMBw6Aw0UulqTKZdfVvfG7VcfIqLG9bcldL/+pdWTLxLUy8Qq38heUIjh4XlzZxzQm19lLFlr8vdQ97rjZVOLf8nclzckbcD4wxXMidpX30sFd37Fv/GtwwhzhxGVAprjbg0gCAEeIgwCZyTV2Z1REEW8O4py0wsjeloKoMr6iCY6dP92H6Vw/oTyICIthibxjm/DfN9lVz8IqtqKYLUXfoKVMVQVVJOElGjrnnUt9T9wbgp8AyYKaGlqingHZU/uG2NTZSVqwHQTWkx9hxjkpWDaCg6Ckj5qebgBVbT3V3NNXMSiWSDdGV3hrtzla7J+duwPOToIg42ChPQOQjspnSlp1V+Gjdged7+8UN5CRAV7a5EdFNwCjEaBR27b3W890TE7g24NAP/mMDXRWrGoFPQI9ls/MWO2dWFAar/xcOIImbbpA3zgAAAABJRU5ErkJggg==);\n",
       "        }\n",
       "    </style>\n",
       "    <div>\n",
       "        <a href=\"https://bokeh.org\" target=\"_blank\" class=\"bk-notebook-logo\"></a>\n",
       "        <span id=\"a941dff3-b883-41f1-bf24-eb59130db4bd\">Loading BokehJS ...</span>\n",
       "    </div>\n"
      ]
     },
     "metadata": {},
     "output_type": "display_data"
    },
    {
     "data": {
      "application/javascript": "'use strict';\n(function(root) {\n  function now() {\n    return new Date();\n  }\n\n  const force = true;\n\n  if (typeof root._bokeh_onload_callbacks === \"undefined\" || force === true) {\n    root._bokeh_onload_callbacks = [];\n    root._bokeh_is_loading = undefined;\n  }\n\nconst JS_MIME_TYPE = 'application/javascript';\n  const HTML_MIME_TYPE = 'text/html';\n  const EXEC_MIME_TYPE = 'application/vnd.bokehjs_exec.v0+json';\n  const CLASS_NAME = 'output_bokeh rendered_html';\n\n  /**\n   * Render data to the DOM node\n   */\n  function render(props, node) {\n    const script = document.createElement(\"script\");\n    node.appendChild(script);\n  }\n\n  /**\n   * Handle when an output is cleared or removed\n   */\n  function handleClearOutput(event, handle) {\n    function drop(id) {\n      const view = Bokeh.index.get_by_id(id)\n      if (view != null) {\n        view.model.document.clear()\n        Bokeh.index.delete(view)\n      }\n    }\n\n    const cell = handle.cell;\n\n    const id = cell.output_area._bokeh_element_id;\n    const server_id = cell.output_area._bokeh_server_id;\n\n    // Clean up Bokeh references\n    if (id != null) {\n      drop(id)\n    }\n\n    if (server_id !== undefined) {\n      // Clean up Bokeh references\n      const cmd_clean = \"from bokeh.io.state import curstate; print(curstate().uuid_to_server['\" + server_id + \"'].get_sessions()[0].document.roots[0]._id)\";\n      cell.notebook.kernel.execute(cmd_clean, {\n        iopub: {\n          output: function(msg) {\n            const id = msg.content.text.trim()\n            drop(id)\n          }\n        }\n      });\n      // Destroy server and session\n      const cmd_destroy = \"import bokeh.io.notebook as ion; ion.destroy_server('\" + server_id + \"')\";\n      cell.notebook.kernel.execute(cmd_destroy);\n    }\n  }\n\n  /**\n   * Handle when a new output is added\n   */\n  function handleAddOutput(event, handle) {\n    const output_area = handle.output_area;\n    const output = handle.output;\n\n    // limit handleAddOutput to display_data with EXEC_MIME_TYPE content only\n    if ((output.output_type != \"display_data\") || (!Object.prototype.hasOwnProperty.call(output.data, EXEC_MIME_TYPE))) {\n      return\n    }\n\n    const toinsert = output_area.element.find(\".\" + CLASS_NAME.split(' ')[0]);\n\n    if (output.metadata[EXEC_MIME_TYPE][\"id\"] !== undefined) {\n      toinsert[toinsert.length - 1].firstChild.textContent = output.data[JS_MIME_TYPE];\n      // store reference to embed id on output_area\n      output_area._bokeh_element_id = output.metadata[EXEC_MIME_TYPE][\"id\"];\n    }\n    if (output.metadata[EXEC_MIME_TYPE][\"server_id\"] !== undefined) {\n      const bk_div = document.createElement(\"div\");\n      bk_div.innerHTML = output.data[HTML_MIME_TYPE];\n      const script_attrs = bk_div.children[0].attributes;\n      for (let i = 0; i < script_attrs.length; i++) {\n        toinsert[toinsert.length - 1].firstChild.setAttribute(script_attrs[i].name, script_attrs[i].value);\n        toinsert[toinsert.length - 1].firstChild.textContent = bk_div.children[0].textContent\n      }\n      // store reference to server id on output_area\n      output_area._bokeh_server_id = output.metadata[EXEC_MIME_TYPE][\"server_id\"];\n    }\n  }\n\n  function register_renderer(events, OutputArea) {\n\n    function append_mime(data, metadata, element) {\n      // create a DOM node to render to\n      const toinsert = this.create_output_subarea(\n        metadata,\n        CLASS_NAME,\n        EXEC_MIME_TYPE\n      );\n      this.keyboard_manager.register_events(toinsert);\n      // Render to node\n      const props = {data: data, metadata: metadata[EXEC_MIME_TYPE]};\n      render(props, toinsert[toinsert.length - 1]);\n      element.append(toinsert);\n      return toinsert\n    }\n\n    /* Handle when an output is cleared or removed */\n    events.on('clear_output.CodeCell', handleClearOutput);\n    events.on('delete.Cell', handleClearOutput);\n\n    /* Handle when a new output is added */\n    events.on('output_added.OutputArea', handleAddOutput);\n\n    /**\n     * Register the mime type and append_mime function with output_area\n     */\n    OutputArea.prototype.register_mime_type(EXEC_MIME_TYPE, append_mime, {\n      /* Is output safe? */\n      safe: true,\n      /* Index of renderer in `output_area.display_order` */\n      index: 0\n    });\n  }\n\n  // register the mime type if in Jupyter Notebook environment and previously unregistered\n  if (root.Jupyter !== undefined) {\n    const events = require('base/js/events');\n    const OutputArea = require('notebook/js/outputarea').OutputArea;\n\n    if (OutputArea.prototype.mime_types().indexOf(EXEC_MIME_TYPE) == -1) {\n      register_renderer(events, OutputArea);\n    }\n  }\n  if (typeof (root._bokeh_timeout) === \"undefined\" || force === true) {\n    root._bokeh_timeout = Date.now() + 5000;\n    root._bokeh_failed_load = false;\n  }\n\n  const NB_LOAD_WARNING = {'data': {'text/html':\n     \"<div style='background-color: #fdd'>\\n\"+\n     \"<p>\\n\"+\n     \"BokehJS does not appear to have successfully loaded. If loading BokehJS from CDN, this \\n\"+\n     \"may be due to a slow or bad network connection. Possible fixes:\\n\"+\n     \"</p>\\n\"+\n     \"<ul>\\n\"+\n     \"<li>re-rerun `output_notebook()` to attempt to load from CDN again, or</li>\\n\"+\n     \"<li>use INLINE resources instead, as so:</li>\\n\"+\n     \"</ul>\\n\"+\n     \"<code>\\n\"+\n     \"from bokeh.resources import INLINE\\n\"+\n     \"output_notebook(resources=INLINE)\\n\"+\n     \"</code>\\n\"+\n     \"</div>\"}};\n\n  function display_loaded(error = null) {\n    const el = document.getElementById(\"a941dff3-b883-41f1-bf24-eb59130db4bd\");\n    if (el != null) {\n      const html = (() => {\n        if (typeof root.Bokeh === \"undefined\") {\n          if (error == null) {\n            return \"BokehJS is loading ...\";\n          } else {\n            return \"BokehJS failed to load.\";\n          }\n        } else {\n          const prefix = `BokehJS ${root.Bokeh.version}`;\n          if (error == null) {\n            return `${prefix} successfully loaded.`;\n          } else {\n            return `${prefix} <b>encountered errors</b> while loading and may not function as expected.`;\n          }\n        }\n      })();\n      el.innerHTML = html;\n\n      if (error != null) {\n        const wrapper = document.createElement(\"div\");\n        wrapper.style.overflow = \"auto\";\n        wrapper.style.height = \"5em\";\n        wrapper.style.resize = \"vertical\";\n        const content = document.createElement(\"div\");\n        content.style.fontFamily = \"monospace\";\n        content.style.whiteSpace = \"pre-wrap\";\n        content.style.backgroundColor = \"rgb(255, 221, 221)\";\n        content.textContent = error.stack ?? error.toString();\n        wrapper.append(content);\n        el.append(wrapper);\n      }\n    } else if (Date.now() < root._bokeh_timeout) {\n      setTimeout(() => display_loaded(error), 100);\n    }\n  }\n\n  function run_callbacks() {\n    try {\n      root._bokeh_onload_callbacks.forEach(function(callback) {\n        if (callback != null)\n          callback();\n      });\n    } finally {\n      delete root._bokeh_onload_callbacks\n    }\n    console.debug(\"Bokeh: all callbacks have finished\");\n  }\n\n  function load_libs(css_urls, js_urls, callback) {\n    if (css_urls == null) css_urls = [];\n    if (js_urls == null) js_urls = [];\n\n    root._bokeh_onload_callbacks.push(callback);\n    if (root._bokeh_is_loading > 0) {\n      console.debug(\"Bokeh: BokehJS is being loaded, scheduling callback at\", now());\n      return null;\n    }\n    if (js_urls == null || js_urls.length === 0) {\n      run_callbacks();\n      return null;\n    }\n    console.debug(\"Bokeh: BokehJS not loaded, scheduling load and callback at\", now());\n    root._bokeh_is_loading = css_urls.length + js_urls.length;\n\n    function on_load() {\n      root._bokeh_is_loading--;\n      if (root._bokeh_is_loading === 0) {\n        console.debug(\"Bokeh: all BokehJS libraries/stylesheets loaded\");\n        run_callbacks()\n      }\n    }\n\n    function on_error(url) {\n      console.error(\"failed to load \" + url);\n    }\n\n    for (let i = 0; i < css_urls.length; i++) {\n      const url = css_urls[i];\n      const element = document.createElement(\"link\");\n      element.onload = on_load;\n      element.onerror = on_error.bind(null, url);\n      element.rel = \"stylesheet\";\n      element.type = \"text/css\";\n      element.href = url;\n      console.debug(\"Bokeh: injecting link tag for BokehJS stylesheet: \", url);\n      document.body.appendChild(element);\n    }\n\n    for (let i = 0; i < js_urls.length; i++) {\n      const url = js_urls[i];\n      const element = document.createElement('script');\n      element.onload = on_load;\n      element.onerror = on_error.bind(null, url);\n      element.async = false;\n      element.src = url;\n      console.debug(\"Bokeh: injecting script tag for BokehJS library: \", url);\n      document.head.appendChild(element);\n    }\n  };\n\n  function inject_raw_css(css) {\n    const element = document.createElement(\"style\");\n    element.appendChild(document.createTextNode(css));\n    document.body.appendChild(element);\n  }\n\n  const js_urls = [\"https://cdn.bokeh.org/bokeh/release/bokeh-3.4.1.min.js\", \"https://cdn.bokeh.org/bokeh/release/bokeh-gl-3.4.1.min.js\", \"https://cdn.bokeh.org/bokeh/release/bokeh-widgets-3.4.1.min.js\", \"https://cdn.bokeh.org/bokeh/release/bokeh-tables-3.4.1.min.js\", \"https://cdn.bokeh.org/bokeh/release/bokeh-mathjax-3.4.1.min.js\"];\n  const css_urls = [];\n\n  const inline_js = [    function(Bokeh) {\n      Bokeh.set_log_level(\"info\");\n    },\nfunction(Bokeh) {\n    }\n  ];\n\n  function run_inline_js() {\n    if (root.Bokeh !== undefined || force === true) {\n      try {\n            for (let i = 0; i < inline_js.length; i++) {\n      inline_js[i].call(root, root.Bokeh);\n    }\n\n      } catch (error) {display_loaded(error);throw error;\n      }if (force === true) {\n        display_loaded();\n      }} else if (Date.now() < root._bokeh_timeout) {\n      setTimeout(run_inline_js, 100);\n    } else if (!root._bokeh_failed_load) {\n      console.log(\"Bokeh: BokehJS failed to load within specified timeout.\");\n      root._bokeh_failed_load = true;\n    } else if (force !== true) {\n      const cell = $(document.getElementById(\"a941dff3-b883-41f1-bf24-eb59130db4bd\")).parents('.cell').data().cell;\n      cell.output_area.append_execute_result(NB_LOAD_WARNING)\n    }\n  }\n\n  if (root._bokeh_is_loading === 0) {\n    console.debug(\"Bokeh: BokehJS loaded, going straight to plotting\");\n    run_inline_js();\n  } else {\n    load_libs(css_urls, js_urls, function() {\n      console.debug(\"Bokeh: BokehJS plotting callback run at\", now());\n      run_inline_js();\n    });\n  }\n}(window));",
      "application/vnd.bokehjs_load.v0+json": ""
     },
     "metadata": {},
     "output_type": "display_data"
    },
    {
     "name": "stdout",
     "output_type": "stream",
     "text": [
      "24/07/10 20:47:49 WARN NativeCodeLoader: Unable to load native-hadoop library for your platform... using builtin-java classes where applicable\n"
     ]
    },
    {
     "name": "stderr",
     "output_type": "stream",
     "text": [
      "Setting default log level to \"WARN\".\n",
      "To adjust logging level use sc.setLogLevel(newLevel). For SparkR, use setLogLevel(newLevel).\n",
      "pip-installed Hail requires additional configuration options in Spark referring\n",
      "  to the path to the Hail Python module directory HAIL_DIR,\n",
      "  e.g. /path/to/python/site-packages/hail:\n",
      "    spark.jars=HAIL_DIR/backend/hail-all-spark.jar\n",
      "    spark.driver.extraClassPath=HAIL_DIR/backend/hail-all-spark.jar\n",
      "    spark.executor.extraClassPath=./hail-all-spark.jarRunning on Apache Spark version 3.3.4\n",
      "SparkUI available at http://mib118093s:4040\n",
      "Welcome to\n",
      "     __  __     <>__\n",
      "    / /_/ /__  __/ /\n",
      "   / __  / _ `/ / /\n",
      "  /_/ /_/\\_,_/_/_/   version 0.2.127-bb535cd096c5\n",
      "LOGGING: writing to /dev/null\n"
     ]
    }
   ],
   "source": [
    "import os\n",
    "import hail as hl\n",
    "import pyspark.sql.functions as f\n",
    "import pandas as pd\n",
    "import numpy as np\n",
    "pd.set_option('display.max_colwidth', None)\n",
    "pd.set_option('display.expand_frame_repr', False)\n",
    "\n",
    "from gentropy.common.session import Session\n",
    "from gentropy.dataset.summary_statistics import SummaryStatistics\n",
    "\n",
    "hail_dir = os.path.dirname(hl.__file__)\n",
    "session = Session(hail_home=hail_dir, start_hail=True, extended_spark_conf={\"spark.driver.memory\": \"12g\",\n",
    "    \"spark.kryoserializer.buffer.max\": \"500m\",\"spark.driver.maxResultSize\":\"3g\"})\n",
    "hl.init(sc=session.spark.sparkContext, log=\"/dev/null\")"
   ]
  },
  {
   "cell_type": "code",
   "execution_count": 3,
   "metadata": {},
   "outputs": [],
   "source": [
    "from gentropy.datasource.gnomad.ld import GnomADLDMatrix\n",
    "from gentropy.method.multiple_ancestries_ld import multipleAncestriesLD\n",
    "from gentropy.dataset.study_index import StudyIndex"
   ]
  },
  {
   "cell_type": "code",
   "execution_count": 4,
   "metadata": {},
   "outputs": [
    {
     "name": "stderr",
     "output_type": "stream",
     "text": [
      "                                                                                \r"
     ]
    }
   ],
   "source": [
    "gwasCat=StudyIndex.from_parquet(session,\"gs://genetics_etl_python_playground/releases/24.06/study_index/gwas_catalog\")"
   ]
  },
  {
   "cell_type": "code",
   "execution_count": 42,
   "metadata": {},
   "outputs": [],
   "source": [
    "df=gwasCat.df\n",
    "df=df.filter(f.col(\"hasSumstats\")==True)"
   ]
  },
  {
   "cell_type": "code",
   "execution_count": 43,
   "metadata": {},
   "outputs": [
    {
     "name": "stdout",
     "output_type": "stream",
     "text": [
      "root\n",
      " |-- studyId: string (nullable = true)\n",
      " |-- projectId: string (nullable = true)\n",
      " |-- studyType: string (nullable = true)\n",
      " |-- traitFromSource: string (nullable = true)\n",
      " |-- traitFromSourceMappedIds: array (nullable = true)\n",
      " |    |-- element: string (containsNull = true)\n",
      " |-- geneId: string (nullable = true)\n",
      " |-- biosampleFromSourceId: string (nullable = true)\n",
      " |-- pubmedId: string (nullable = true)\n",
      " |-- publicationTitle: string (nullable = true)\n",
      " |-- publicationFirstAuthor: string (nullable = true)\n",
      " |-- publicationDate: string (nullable = true)\n",
      " |-- publicationJournal: string (nullable = true)\n",
      " |-- backgroundTraitFromSourceMappedIds: array (nullable = true)\n",
      " |    |-- element: string (containsNull = true)\n",
      " |-- initialSampleSize: string (nullable = true)\n",
      " |-- nCases: integer (nullable = true)\n",
      " |-- nControls: integer (nullable = true)\n",
      " |-- nSamples: integer (nullable = true)\n",
      " |-- cohorts: array (nullable = true)\n",
      " |    |-- element: string (containsNull = true)\n",
      " |-- ldPopulationStructure: array (nullable = true)\n",
      " |    |-- element: struct (containsNull = true)\n",
      " |    |    |-- ldPopulation: string (nullable = true)\n",
      " |    |    |-- relativeSampleSize: double (nullable = true)\n",
      " |-- discoverySamples: array (nullable = true)\n",
      " |    |-- element: struct (containsNull = true)\n",
      " |    |    |-- sampleSize: integer (nullable = true)\n",
      " |    |    |-- ancestry: string (nullable = true)\n",
      " |-- replicationSamples: array (nullable = true)\n",
      " |    |-- element: struct (containsNull = true)\n",
      " |    |    |-- sampleSize: integer (nullable = true)\n",
      " |    |    |-- ancestry: string (nullable = true)\n",
      " |-- qualityControls: array (nullable = true)\n",
      " |    |-- element: string (containsNull = true)\n",
      " |-- analysisFlags: array (nullable = true)\n",
      " |    |-- element: string (containsNull = true)\n",
      " |-- summarystatsLocation: string (nullable = true)\n",
      " |-- hasSumstats: boolean (nullable = true)\n",
      "\n"
     ]
    }
   ],
   "source": [
    "df.printSchema()"
   ]
  },
  {
   "cell_type": "code",
   "execution_count": 44,
   "metadata": {},
   "outputs": [],
   "source": [
    "df=df.select(\"studyId\",\"ldPopulationStructure\")"
   ]
  },
  {
   "cell_type": "code",
   "execution_count": 45,
   "metadata": {},
   "outputs": [
    {
     "name": "stdout",
     "output_type": "stream",
     "text": [
      "+------------+---------------------+--------------------------+\n",
      "|     studyId|ldPopulationStructure|ldPopulationStructure_size|\n",
      "+------------+---------------------+--------------------------+\n",
      "|  GCST001475|         [{nfe, 1.0}]|                         1|\n",
      "|  GCST004634|         [{nfe, 1.0}]|                         1|\n",
      "|  GCST004901| [{eas, 0.10175403...|                         2|\n",
      "|  GCST006489|         [{nfe, 1.0}]|                         1|\n",
      "|GCST90000583| [{eas, 0.5}, {nfe...|                         2|\n",
      "|GCST90001818|         [{nfe, 1.0}]|                         1|\n",
      "|GCST90004868|         [{nfe, 1.0}]|                         1|\n",
      "|GCST90005485|         [{nfe, 1.0}]|                         1|\n",
      "|GCST90005858|         [{nfe, 1.0}]|                         1|\n",
      "|GCST90010780|         [{nfe, 1.0}]|                         1|\n",
      "|GCST90011772|         [{eas, 1.0}]|                         1|\n",
      "|GCST90018120|         [{nfe, 1.0}]|                         1|\n",
      "|GCST90018593|         [{eas, 1.0}]|                         1|\n",
      "|GCST90018692|         [{eas, 1.0}]|                         1|\n",
      "|GCST90024121|         [{nfe, 1.0}]|                         1|\n",
      "|GCST90024248|         [{nfe, 1.0}]|                         1|\n",
      "|GCST90024292|         [{nfe, 1.0}]|                         1|\n",
      "|GCST90024431|         [{nfe, 1.0}]|                         1|\n",
      "|GCST90025073|         [{nfe, 1.0}]|                         1|\n",
      "|GCST90025128|         [{nfe, 1.0}]|                         1|\n",
      "+------------+---------------------+--------------------------+\n",
      "only showing top 20 rows\n",
      "\n"
     ]
    }
   ],
   "source": [
    "from pyspark.sql.functions import size\n",
    "\n",
    "df.withColumn(\"ldPopulationStructure_size\", size(df[\"ldPopulationStructure\"])).show()"
   ]
  },
  {
   "cell_type": "code",
   "execution_count": 46,
   "metadata": {},
   "outputs": [],
   "source": [
    "df=df.withColumn(\"ldPopulationStructure_size\", size(df[\"ldPopulationStructure\"]))"
   ]
  },
  {
   "cell_type": "code",
   "execution_count": 47,
   "metadata": {},
   "outputs": [],
   "source": [
    "df_0=df"
   ]
  },
  {
   "cell_type": "code",
   "execution_count": 48,
   "metadata": {},
   "outputs": [
    {
     "name": "stdout",
     "output_type": "stream",
     "text": [
      "+------------+---------------------+--------------------------+\n",
      "|     studyId|ldPopulationStructure|ldPopulationStructure_size|\n",
      "+------------+---------------------+--------------------------+\n",
      "|  GCST001475|         [{nfe, 1.0}]|                         1|\n",
      "|  GCST004634|         [{nfe, 1.0}]|                         1|\n",
      "|  GCST004901| [{eas, 0.10175403...|                         2|\n",
      "|  GCST006489|         [{nfe, 1.0}]|                         1|\n",
      "|GCST90000583| [{eas, 0.5}, {nfe...|                         2|\n",
      "|GCST90001818|         [{nfe, 1.0}]|                         1|\n",
      "|GCST90004868|         [{nfe, 1.0}]|                         1|\n",
      "|GCST90005485|         [{nfe, 1.0}]|                         1|\n",
      "|GCST90005858|         [{nfe, 1.0}]|                         1|\n",
      "|GCST90010780|         [{nfe, 1.0}]|                         1|\n",
      "|GCST90011772|         [{eas, 1.0}]|                         1|\n",
      "|GCST90018120|         [{nfe, 1.0}]|                         1|\n",
      "|GCST90018593|         [{eas, 1.0}]|                         1|\n",
      "|GCST90018692|         [{eas, 1.0}]|                         1|\n",
      "|GCST90024121|         [{nfe, 1.0}]|                         1|\n",
      "|GCST90024248|         [{nfe, 1.0}]|                         1|\n",
      "|GCST90024292|         [{nfe, 1.0}]|                         1|\n",
      "|GCST90024431|         [{nfe, 1.0}]|                         1|\n",
      "|GCST90025073|         [{nfe, 1.0}]|                         1|\n",
      "|GCST90025128|         [{nfe, 1.0}]|                         1|\n",
      "+------------+---------------------+--------------------------+\n",
      "only showing top 20 rows\n",
      "\n"
     ]
    }
   ],
   "source": [
    "df.show()"
   ]
  },
  {
   "cell_type": "code",
   "execution_count": 56,
   "metadata": {},
   "outputs": [],
   "source": [
    "from pyspark.sql.functions import expr\n",
    "\n",
    "df1 = df.filter(expr(\"exists(ldPopulationStructure, x -> x.ldPopulation = 'eas')\"))\n",
    "df1=df1.filter(f.col(\"ldPopulationStructure_size\")==1)"
   ]
  },
  {
   "cell_type": "code",
   "execution_count": 57,
   "metadata": {},
   "outputs": [
    {
     "name": "stderr",
     "output_type": "stream",
     "text": [
      "                                                                                \r"
     ]
    }
   ],
   "source": [
    "df_pd=df1.toPandas()"
   ]
  },
  {
   "cell_type": "code",
   "execution_count": 58,
   "metadata": {},
   "outputs": [
    {
     "data": {
      "text/html": [
       "<div>\n",
       "<style scoped>\n",
       "    .dataframe tbody tr th:only-of-type {\n",
       "        vertical-align: middle;\n",
       "    }\n",
       "\n",
       "    .dataframe tbody tr th {\n",
       "        vertical-align: top;\n",
       "    }\n",
       "\n",
       "    .dataframe thead th {\n",
       "        text-align: right;\n",
       "    }\n",
       "</style>\n",
       "<table border=\"1\" class=\"dataframe\">\n",
       "  <thead>\n",
       "    <tr style=\"text-align: right;\">\n",
       "      <th></th>\n",
       "      <th>studyId</th>\n",
       "      <th>ldPopulationStructure</th>\n",
       "      <th>ldPopulationStructure_size</th>\n",
       "    </tr>\n",
       "  </thead>\n",
       "  <tbody>\n",
       "    <tr>\n",
       "      <th>0</th>\n",
       "      <td>GCST90011772</td>\n",
       "      <td>[(eas, 1.0)]</td>\n",
       "      <td>1</td>\n",
       "    </tr>\n",
       "    <tr>\n",
       "      <th>1</th>\n",
       "      <td>GCST90018593</td>\n",
       "      <td>[(eas, 1.0)]</td>\n",
       "      <td>1</td>\n",
       "    </tr>\n",
       "    <tr>\n",
       "      <th>2</th>\n",
       "      <td>GCST90018692</td>\n",
       "      <td>[(eas, 1.0)]</td>\n",
       "      <td>1</td>\n",
       "    </tr>\n",
       "    <tr>\n",
       "      <th>3</th>\n",
       "      <td>GCST90060653</td>\n",
       "      <td>[(eas, 1.0)]</td>\n",
       "      <td>1</td>\n",
       "    </tr>\n",
       "    <tr>\n",
       "      <th>4</th>\n",
       "      <td>GCST90060657</td>\n",
       "      <td>[(eas, 1.0)]</td>\n",
       "      <td>1</td>\n",
       "    </tr>\n",
       "    <tr>\n",
       "      <th>...</th>\n",
       "      <td>...</td>\n",
       "      <td>...</td>\n",
       "      <td>...</td>\n",
       "    </tr>\n",
       "    <tr>\n",
       "      <th>1514</th>\n",
       "      <td>GCST90202745</td>\n",
       "      <td>[(eas, 1.0)]</td>\n",
       "      <td>1</td>\n",
       "    </tr>\n",
       "    <tr>\n",
       "      <th>1515</th>\n",
       "      <td>GCST90203158</td>\n",
       "      <td>[(eas, 1.0)]</td>\n",
       "      <td>1</td>\n",
       "    </tr>\n",
       "    <tr>\n",
       "      <th>1516</th>\n",
       "      <td>GCST90203332</td>\n",
       "      <td>[(eas, 1.0)]</td>\n",
       "      <td>1</td>\n",
       "    </tr>\n",
       "    <tr>\n",
       "      <th>1517</th>\n",
       "      <td>GCST90204019</td>\n",
       "      <td>[(eas, 1.0)]</td>\n",
       "      <td>1</td>\n",
       "    </tr>\n",
       "    <tr>\n",
       "      <th>1518</th>\n",
       "      <td>GCST90204048</td>\n",
       "      <td>[(eas, 1.0)]</td>\n",
       "      <td>1</td>\n",
       "    </tr>\n",
       "  </tbody>\n",
       "</table>\n",
       "<p>1519 rows × 3 columns</p>\n",
       "</div>"
      ],
      "text/plain": [
       "           studyId ldPopulationStructure  ldPopulationStructure_size\n",
       "0     GCST90011772          [(eas, 1.0)]                           1\n",
       "1     GCST90018593          [(eas, 1.0)]                           1\n",
       "2     GCST90018692          [(eas, 1.0)]                           1\n",
       "3     GCST90060653          [(eas, 1.0)]                           1\n",
       "4     GCST90060657          [(eas, 1.0)]                           1\n",
       "...            ...                   ...                         ...\n",
       "1514  GCST90202745          [(eas, 1.0)]                           1\n",
       "1515  GCST90203158          [(eas, 1.0)]                           1\n",
       "1516  GCST90203332          [(eas, 1.0)]                           1\n",
       "1517  GCST90204019          [(eas, 1.0)]                           1\n",
       "1518  GCST90204048          [(eas, 1.0)]                           1\n",
       "\n",
       "[1519 rows x 3 columns]"
      ]
     },
     "execution_count": 58,
     "metadata": {},
     "output_type": "execute_result"
    }
   ],
   "source": [
    "df_pd"
   ]
  },
  {
   "cell_type": "code",
   "execution_count": 15,
   "metadata": {},
   "outputs": [],
   "source": [
    "listOfAncestries=[\"nfe\",\"afr\",\"eas\"]\n",
    "path_to_ld_index=\"gs://genetics-portal-dev-analysis/yt4/ld_index_AFs\"\n",
    "full_list_of_ancestries = ['oth', 'amr', 'fin', 'ami', 'mid', 'nfe', 'sas', 'asj', 'eas', 'afr']"
   ]
  },
  {
   "cell_type": "code",
   "execution_count": 16,
   "metadata": {},
   "outputs": [],
   "source": [
    "def gwas_cat_run(studyid:str):\n",
    "    filtered_df = df_0.filter(f.col(\"studyId\") == studyid)\n",
    "    ld_pop_structure = filtered_df.select(\"ldPopulationStructure\").first()[0]\n",
    "    ld_pop_structure_values = [(row['ldPopulation'], row['relativeSampleSize']) for row in ld_pop_structure]\n",
    "    print(ld_pop_structure_values)\n",
    "\n",
    "    gwas=SummaryStatistics.from_parquet(session,\"gs://gwas_catalog_data/harmonised_summary_statistics/\"+studyid+\".parquet\")\n",
    "    N=gwas.df.count()\n",
    "    print(N)\n",
    "\n",
    "    x=multipleAncestriesLD.infer_ancestry_proportions(\n",
    "    session=session,\n",
    "    path_to_ld_index=path_to_ld_index,\n",
    "    gwas=gwas,\n",
    "    listOfAncestries=listOfAncestries,\n",
    "    chromosomeInput=\"7\",\n",
    "    start=100_000_000,\n",
    "    end=100_300_000,\n",
    "    maf_threshold = 0.05,\n",
    "    number_of_snps = 40,\n",
    "    zero_af_substitution = 1e-4,\n",
    "    z_threshold= 3,\n",
    "    number_of_runs= 100,\n",
    "    )\n",
    "    #x=multipleAncestriesLD.run_few_loci(\n",
    "    #session=session,\n",
    "    #path_to_ld_index=path_to_ld_index,\n",
    "    #gwas=gwas,\n",
    "    #listOfAncestries=listOfAncestries,\n",
    "    #maf_threshold = 0.05,\n",
    "    #number_of_snps = 30,\n",
    "    #zero_af_substitution = 1e-4,\n",
    "    #z_threshold= 3,\n",
    "    #number_of_runs= 10,\n",
    "    #)\n",
    "    print(x)\n",
    "\n",
    "    return {\"ld_pop_structure_values\":ld_pop_structure_values,\"N\":N,\"results\":x}"
   ]
  },
  {
   "cell_type": "markdown",
   "metadata": {},
   "source": [
    "# Actual run"
   ]
  },
  {
   "cell_type": "code",
   "execution_count": 17,
   "metadata": {},
   "outputs": [
    {
     "name": "stderr",
     "output_type": "stream",
     "text": [
      "                                                                                \r"
     ]
    },
    {
     "name": "stdout",
     "output_type": "stream",
     "text": [
      "[('nfe', 1.0)]\n"
     ]
    },
    {
     "name": "stderr",
     "output_type": "stream",
     "text": [
      "                                                                                \r"
     ]
    },
    {
     "name": "stdout",
     "output_type": "stream",
     "text": [
      "11796992\n"
     ]
    },
    {
     "name": "stderr",
     "output_type": "stream",
     "text": [
      "2024-07-10 20:48:44.146 Hail: INFO: Table.join: renamed the following fields on the right to avoid name conflicts:\n",
      "    'age_index_dict' -> 'age_index_dict_1'\n",
      "    'rf' -> 'rf_1'\n",
      "    'popmax_index_dict' -> 'popmax_index_dict_1'\n",
      "    'freq_index_dict' -> 'freq_index_dict_1'\n",
      "    'freq_meta' -> 'freq_meta_1'\n",
      "    'faf_index_dict' -> 'faf_index_dict_1'\n",
      "    'age_distribution' -> 'age_distribution_1'\n",
      "2024-07-10 20:48:57.266 Hail: INFO: Ordering unsorted dataset with network shuffle\n",
      "2024-07-10 20:49:08.875 Hail: INFO: Coerced sorted dataset\n",
      "2024-07-10 20:49:13.264 Hail: INFO: Table.join: renamed the following fields on the right to avoid name conflicts:\n",
      "    'age_index_dict' -> 'age_index_dict_1'\n",
      "    'rf' -> 'rf_1'\n",
      "    'popmax_index_dict' -> 'popmax_index_dict_1'\n",
      "    'freq_index_dict' -> 'freq_index_dict_1'\n",
      "    'freq_meta' -> 'freq_meta_1'\n",
      "    'faf_index_dict' -> 'faf_index_dict_1'\n",
      "    'age_distribution' -> 'age_distribution_1'\n",
      "2024-07-10 20:49:23.668 Hail: INFO: Ordering unsorted dataset with network shuffle\n",
      "2024-07-10 20:49:33.595 Hail: INFO: Coerced sorted dataset\n",
      "2024-07-10 20:49:37.987 Hail: INFO: Table.join: renamed the following fields on the right to avoid name conflicts:\n",
      "    'age_index_dict' -> 'age_index_dict_1'\n",
      "    'rf' -> 'rf_1'\n",
      "    'popmax_index_dict' -> 'popmax_index_dict_1'\n",
      "    'freq_index_dict' -> 'freq_index_dict_1'\n",
      "    'freq_meta' -> 'freq_meta_1'\n",
      "    'faf_index_dict' -> 'faf_index_dict_1'\n",
      "    'age_distribution' -> 'age_distribution_1'\n",
      "2024-07-10 20:49:48.236 Hail: INFO: Ordering unsorted dataset with network shuffle\n",
      "2024-07-10 20:49:57.496 Hail: INFO: Coerced sorted dataset\n",
      "2024-07-10 20:54:26.175 Hail: INFO: Table.join: renamed the following fields on the right to avoid name conflicts:\n",
      "    'age_index_dict' -> 'age_index_dict_1'\n",
      "    'rf' -> 'rf_1'\n",
      "    'popmax_index_dict' -> 'popmax_index_dict_1'\n",
      "    'freq_index_dict' -> 'freq_index_dict_1'\n",
      "    'freq_meta' -> 'freq_meta_1'\n",
      "    'faf_index_dict' -> 'faf_index_dict_1'\n",
      "    'age_distribution' -> 'age_distribution_1'\n",
      "2024-07-10 20:54:36.799 Hail: INFO: Ordering unsorted dataset with network shuffle\n",
      "2024-07-10 20:54:46.189 Hail: INFO: Coerced sorted dataset\n",
      "2024-07-10 20:55:02.636 Hail: INFO: Table.join: renamed the following fields on the right to avoid name conflicts:\n",
      "    'age_index_dict' -> 'age_index_dict_1'\n",
      "    'rf' -> 'rf_1'\n",
      "    'popmax_index_dict' -> 'popmax_index_dict_1'\n",
      "    'freq_index_dict' -> 'freq_index_dict_1'\n",
      "    'freq_meta' -> 'freq_meta_1'\n",
      "    'faf_index_dict' -> 'faf_index_dict_1'\n",
      "    'age_distribution' -> 'age_distribution_1'\n",
      "2024-07-10 20:55:13.550 Hail: INFO: Ordering unsorted dataset with network shuffle\n",
      "2024-07-10 20:55:23.915 Hail: INFO: Coerced sorted dataset\n",
      "2024-07-10 20:55:40.201 Hail: INFO: Table.join: renamed the following fields on the right to avoid name conflicts:\n",
      "    'age_index_dict' -> 'age_index_dict_1'\n",
      "    'rf' -> 'rf_1'\n",
      "    'popmax_index_dict' -> 'popmax_index_dict_1'\n",
      "    'freq_index_dict' -> 'freq_index_dict_1'\n",
      "    'freq_meta' -> 'freq_meta_1'\n",
      "    'faf_index_dict' -> 'faf_index_dict_1'\n",
      "    'age_distribution' -> 'age_distribution_1'\n",
      "2024-07-10 20:55:50.761 Hail: INFO: Ordering unsorted dataset with network shuffle\n",
      "2024-07-10 20:56:00.609 Hail: INFO: Coerced sorted dataset\n",
      "2024-07-10 20:57:36.513 Hail: INFO: Table.join: renamed the following fields on the right to avoid name conflicts:\n",
      "    'age_index_dict' -> 'age_index_dict_1'\n",
      "    'rf' -> 'rf_1'\n",
      "    'popmax_index_dict' -> 'popmax_index_dict_1'\n",
      "    'freq_index_dict' -> 'freq_index_dict_1'\n",
      "    'freq_meta' -> 'freq_meta_1'\n",
      "    'faf_index_dict' -> 'faf_index_dict_1'\n",
      "    'age_distribution' -> 'age_distribution_1'\n",
      "2024-07-10 20:57:46.596 Hail: INFO: Ordering unsorted dataset with network shuffle\n",
      "2024-07-10 20:57:56.021 Hail: INFO: Coerced sorted dataset\n",
      "2024-07-10 20:58:00.460 Hail: INFO: Table.join: renamed the following fields on the right to avoid name conflicts:\n",
      "    'age_index_dict' -> 'age_index_dict_1'\n",
      "    'rf' -> 'rf_1'\n",
      "    'popmax_index_dict' -> 'popmax_index_dict_1'\n",
      "    'freq_index_dict' -> 'freq_index_dict_1'\n",
      "    'freq_meta' -> 'freq_meta_1'\n",
      "    'faf_index_dict' -> 'faf_index_dict_1'\n",
      "    'age_distribution' -> 'age_distribution_1'\n",
      "2024-07-10 20:58:11.145 Hail: INFO: Ordering unsorted dataset with network shuffle\n",
      "2024-07-10 20:58:21.002 Hail: INFO: Coerced sorted dataset\n",
      "2024-07-10 20:58:25.178 Hail: INFO: Table.join: renamed the following fields on the right to avoid name conflicts:\n",
      "    'age_index_dict' -> 'age_index_dict_1'\n",
      "    'rf' -> 'rf_1'\n",
      "    'popmax_index_dict' -> 'popmax_index_dict_1'\n",
      "    'freq_index_dict' -> 'freq_index_dict_1'\n",
      "    'freq_meta' -> 'freq_meta_1'\n",
      "    'faf_index_dict' -> 'faf_index_dict_1'\n",
      "    'age_distribution' -> 'age_distribution_1'\n",
      "2024-07-10 20:58:35.537 Hail: INFO: Ordering unsorted dataset with network shuffle\n",
      "2024-07-10 20:58:45.134 Hail: INFO: Coerced sorted dataset\n",
      "2024-07-10 21:03:24.360 Hail: INFO: Table.join: renamed the following fields on the right to avoid name conflicts:\n",
      "    'age_index_dict' -> 'age_index_dict_1'\n",
      "    'rf' -> 'rf_1'\n",
      "    'popmax_index_dict' -> 'popmax_index_dict_1'\n",
      "    'freq_index_dict' -> 'freq_index_dict_1'\n",
      "    'freq_meta' -> 'freq_meta_1'\n",
      "    'faf_index_dict' -> 'faf_index_dict_1'\n",
      "    'age_distribution' -> 'age_distribution_1'\n",
      "2024-07-10 21:03:34.204 Hail: INFO: Ordering unsorted dataset with network shuffle\n",
      "2024-07-10 21:03:43.807 Hail: INFO: Coerced sorted dataset\n",
      "2024-07-10 21:03:59.786 Hail: INFO: Table.join: renamed the following fields on the right to avoid name conflicts:\n",
      "    'age_index_dict' -> 'age_index_dict_1'\n",
      "    'rf' -> 'rf_1'\n",
      "    'popmax_index_dict' -> 'popmax_index_dict_1'\n",
      "    'freq_index_dict' -> 'freq_index_dict_1'\n",
      "    'freq_meta' -> 'freq_meta_1'\n",
      "    'faf_index_dict' -> 'faf_index_dict_1'\n",
      "    'age_distribution' -> 'age_distribution_1'\n",
      "2024-07-10 21:04:10.671 Hail: INFO: Ordering unsorted dataset with network shuffle\n",
      "2024-07-10 21:04:20.188 Hail: INFO: Coerced sorted dataset\n",
      "2024-07-10 21:04:35.986 Hail: INFO: Table.join: renamed the following fields on the right to avoid name conflicts:\n",
      "    'age_index_dict' -> 'age_index_dict_1'\n",
      "    'rf' -> 'rf_1'\n",
      "    'popmax_index_dict' -> 'popmax_index_dict_1'\n",
      "    'freq_index_dict' -> 'freq_index_dict_1'\n",
      "    'freq_meta' -> 'freq_meta_1'\n",
      "    'faf_index_dict' -> 'faf_index_dict_1'\n",
      "    'age_distribution' -> 'age_distribution_1'\n",
      "2024-07-10 21:04:46.332 Hail: INFO: Ordering unsorted dataset with network shuffle\n",
      "2024-07-10 21:04:57.104 Hail: INFO: Coerced sorted dataset\n",
      "2024-07-10 21:06:11.192 Hail: INFO: Table.join: renamed the following fields on the right to avoid name conflicts:\n",
      "    'age_index_dict' -> 'age_index_dict_1'\n",
      "    'rf' -> 'rf_1'\n",
      "    'popmax_index_dict' -> 'popmax_index_dict_1'\n",
      "    'freq_index_dict' -> 'freq_index_dict_1'\n",
      "    'freq_meta' -> 'freq_meta_1'\n",
      "    'faf_index_dict' -> 'faf_index_dict_1'\n",
      "    'age_distribution' -> 'age_distribution_1'\n",
      "2024-07-10 21:06:21.966 Hail: INFO: Ordering unsorted dataset with network shuffle\n",
      "2024-07-10 21:06:32.727 Hail: INFO: Coerced sorted dataset\n",
      "2024-07-10 21:06:37.381 Hail: INFO: Table.join: renamed the following fields on the right to avoid name conflicts:\n",
      "    'age_index_dict' -> 'age_index_dict_1'\n",
      "    'rf' -> 'rf_1'\n",
      "    'popmax_index_dict' -> 'popmax_index_dict_1'\n",
      "    'freq_index_dict' -> 'freq_index_dict_1'\n",
      "    'freq_meta' -> 'freq_meta_1'\n",
      "    'faf_index_dict' -> 'faf_index_dict_1'\n",
      "    'age_distribution' -> 'age_distribution_1'\n",
      "2024-07-10 21:06:47.839 Hail: INFO: Ordering unsorted dataset with network shuffle\n",
      "2024-07-10 21:06:58.214 Hail: INFO: Coerced sorted dataset\n",
      "2024-07-10 21:07:02.792 Hail: INFO: Table.join: renamed the following fields on the right to avoid name conflicts:\n",
      "    'age_index_dict' -> 'age_index_dict_1'\n",
      "    'rf' -> 'rf_1'\n",
      "    'popmax_index_dict' -> 'popmax_index_dict_1'\n",
      "    'freq_index_dict' -> 'freq_index_dict_1'\n",
      "    'freq_meta' -> 'freq_meta_1'\n",
      "    'faf_index_dict' -> 'faf_index_dict_1'\n",
      "    'age_distribution' -> 'age_distribution_1'\n",
      "2024-07-10 21:07:14.367 Hail: INFO: Ordering unsorted dataset with network shuffle\n",
      "2024-07-10 21:07:24.136 Hail: INFO: Coerced sorted dataset\n",
      "2024-07-10 21:12:14.116 Hail: INFO: Table.join: renamed the following fields on the right to avoid name conflicts:\n",
      "    'age_index_dict' -> 'age_index_dict_1'\n",
      "    'rf' -> 'rf_1'\n",
      "    'popmax_index_dict' -> 'popmax_index_dict_1'\n",
      "    'freq_index_dict' -> 'freq_index_dict_1'\n",
      "    'freq_meta' -> 'freq_meta_1'\n",
      "    'faf_index_dict' -> 'faf_index_dict_1'\n",
      "    'age_distribution' -> 'age_distribution_1'\n",
      "2024-07-10 21:12:24.545 Hail: INFO: Ordering unsorted dataset with network shuffle\n",
      "2024-07-10 21:12:34.182 Hail: INFO: Coerced sorted dataset\n",
      "2024-07-10 21:14:18.459 Hail: INFO: Table.join: renamed the following fields on the right to avoid name conflicts:\n",
      "    'age_index_dict' -> 'age_index_dict_1'\n",
      "    'rf' -> 'rf_1'\n",
      "    'popmax_index_dict' -> 'popmax_index_dict_1'\n",
      "    'freq_index_dict' -> 'freq_index_dict_1'\n",
      "    'freq_meta' -> 'freq_meta_1'\n",
      "    'faf_index_dict' -> 'faf_index_dict_1'\n",
      "    'age_distribution' -> 'age_distribution_1'\n",
      "2024-07-10 21:14:31.774 Hail: INFO: Ordering unsorted dataset with network shuffle\n",
      "2024-07-10 21:14:43.913 Hail: INFO: Coerced sorted dataset\n",
      "2024-07-10 21:14:59.716 Hail: INFO: Table.join: renamed the following fields on the right to avoid name conflicts:\n",
      "    'age_index_dict' -> 'age_index_dict_1'\n",
      "    'rf' -> 'rf_1'\n",
      "    'popmax_index_dict' -> 'popmax_index_dict_1'\n",
      "    'freq_index_dict' -> 'freq_index_dict_1'\n",
      "    'freq_meta' -> 'freq_meta_1'\n",
      "    'faf_index_dict' -> 'faf_index_dict_1'\n",
      "    'age_distribution' -> 'age_distribution_1'\n",
      "2024-07-10 21:15:09.955 Hail: INFO: Ordering unsorted dataset with network shuffle\n",
      "2024-07-10 21:15:19.610 Hail: INFO: Coerced sorted dataset\n",
      "2024-07-10 21:27:51.006 Hail: INFO: Table.join: renamed the following fields on the right to avoid name conflicts:\n",
      "    'age_index_dict' -> 'age_index_dict_1'\n",
      "    'rf' -> 'rf_1'\n",
      "    'popmax_index_dict' -> 'popmax_index_dict_1'\n",
      "    'freq_index_dict' -> 'freq_index_dict_1'\n",
      "    'freq_meta' -> 'freq_meta_1'\n",
      "    'faf_index_dict' -> 'faf_index_dict_1'\n",
      "    'age_distribution' -> 'age_distribution_1'\n",
      "2024-07-10 21:28:00.984 Hail: INFO: Ordering unsorted dataset with network shuffle\n",
      "2024-07-10 21:28:10.356 Hail: INFO: Coerced sorted dataset\n",
      "2024-07-10 21:28:14.298 Hail: INFO: Table.join: renamed the following fields on the right to avoid name conflicts:\n",
      "    'age_index_dict' -> 'age_index_dict_1'\n",
      "    'rf' -> 'rf_1'\n",
      "    'popmax_index_dict' -> 'popmax_index_dict_1'\n",
      "    'freq_index_dict' -> 'freq_index_dict_1'\n",
      "    'freq_meta' -> 'freq_meta_1'\n",
      "    'faf_index_dict' -> 'faf_index_dict_1'\n",
      "    'age_distribution' -> 'age_distribution_1'\n",
      "2024-07-10 21:28:24.790 Hail: INFO: Ordering unsorted dataset with network shuffle\n",
      "2024-07-10 21:28:34.233 Hail: INFO: Coerced sorted dataset\n",
      "2024-07-10 21:28:57.214 Hail: INFO: Table.join: renamed the following fields on the right to avoid name conflicts:\n",
      "    'age_index_dict' -> 'age_index_dict_1'\n",
      "    'rf' -> 'rf_1'\n",
      "    'popmax_index_dict' -> 'popmax_index_dict_1'\n",
      "    'freq_index_dict' -> 'freq_index_dict_1'\n",
      "    'freq_meta' -> 'freq_meta_1'\n",
      "    'faf_index_dict' -> 'faf_index_dict_1'\n",
      "    'age_distribution' -> 'age_distribution_1'\n",
      "2024-07-10 21:29:07.760 Hail: INFO: Ordering unsorted dataset with network shuffle\n",
      "2024-07-10 21:29:17.078 Hail: INFO: Coerced sorted dataset\n",
      "2024-07-10 21:29:21.366 Hail: INFO: Table.join: renamed the following fields on the right to avoid name conflicts:\n",
      "    'age_index_dict' -> 'age_index_dict_1'\n",
      "    'rf' -> 'rf_1'\n",
      "    'popmax_index_dict' -> 'popmax_index_dict_1'\n",
      "    'freq_index_dict' -> 'freq_index_dict_1'\n",
      "    'freq_meta' -> 'freq_meta_1'\n",
      "    'faf_index_dict' -> 'faf_index_dict_1'\n",
      "    'age_distribution' -> 'age_distribution_1'\n",
      "2024-07-10 21:29:32.579 Hail: INFO: Ordering unsorted dataset with network shuffle\n",
      "2024-07-10 21:29:42.877 Hail: INFO: Coerced sorted dataset\n",
      "2024-07-10 21:29:46.649 Hail: INFO: Table.join: renamed the following fields on the right to avoid name conflicts:\n",
      "    'age_index_dict' -> 'age_index_dict_1'\n",
      "    'rf' -> 'rf_1'\n",
      "    'popmax_index_dict' -> 'popmax_index_dict_1'\n",
      "    'freq_index_dict' -> 'freq_index_dict_1'\n",
      "    'freq_meta' -> 'freq_meta_1'\n",
      "    'faf_index_dict' -> 'faf_index_dict_1'\n",
      "    'age_distribution' -> 'age_distribution_1'\n",
      "2024-07-10 21:29:56.802 Hail: INFO: Ordering unsorted dataset with network shuffle\n",
      "2024-07-10 21:30:06.758 Hail: INFO: Coerced sorted dataset\n",
      "2024-07-10 21:35:12.529 Hail: INFO: Table.join: renamed the following fields on the right to avoid name conflicts:\n",
      "    'age_index_dict' -> 'age_index_dict_1'\n",
      "    'rf' -> 'rf_1'\n",
      "    'popmax_index_dict' -> 'popmax_index_dict_1'\n",
      "    'freq_index_dict' -> 'freq_index_dict_1'\n",
      "    'freq_meta' -> 'freq_meta_1'\n",
      "    'faf_index_dict' -> 'faf_index_dict_1'\n",
      "    'age_distribution' -> 'age_distribution_1'\n",
      "2024-07-10 21:35:23.425 Hail: INFO: Ordering unsorted dataset with network shuffle\n",
      "2024-07-10 21:35:32.589 Hail: INFO: Coerced sorted dataset\n",
      "2024-07-10 21:35:47.408 Hail: INFO: Table.join: renamed the following fields on the right to avoid name conflicts:\n",
      "    'age_index_dict' -> 'age_index_dict_1'\n",
      "    'rf' -> 'rf_1'\n",
      "    'popmax_index_dict' -> 'popmax_index_dict_1'\n",
      "    'freq_index_dict' -> 'freq_index_dict_1'\n",
      "    'freq_meta' -> 'freq_meta_1'\n",
      "    'faf_index_dict' -> 'faf_index_dict_1'\n",
      "    'age_distribution' -> 'age_distribution_1'\n",
      "2024-07-10 21:35:57.963 Hail: INFO: Ordering unsorted dataset with network shuffle\n",
      "2024-07-10 21:36:07.630 Hail: INFO: Coerced sorted dataset\n",
      "2024-07-10 21:36:23.388 Hail: INFO: Table.join: renamed the following fields on the right to avoid name conflicts:\n",
      "    'age_index_dict' -> 'age_index_dict_1'\n",
      "    'rf' -> 'rf_1'\n",
      "    'popmax_index_dict' -> 'popmax_index_dict_1'\n",
      "    'freq_index_dict' -> 'freq_index_dict_1'\n",
      "    'freq_meta' -> 'freq_meta_1'\n",
      "    'faf_index_dict' -> 'faf_index_dict_1'\n",
      "    'age_distribution' -> 'age_distribution_1'\n",
      "2024-07-10 21:36:33.768 Hail: INFO: Ordering unsorted dataset with network shuffle\n",
      "2024-07-10 21:36:44.785 Hail: INFO: Coerced sorted dataset\n",
      "2024-07-10 21:48:32.378 Hail: INFO: Table.join: renamed the following fields on the right to avoid name conflicts:\n",
      "    'age_index_dict' -> 'age_index_dict_1'\n",
      "    'rf' -> 'rf_1'\n",
      "    'popmax_index_dict' -> 'popmax_index_dict_1'\n",
      "    'freq_index_dict' -> 'freq_index_dict_1'\n",
      "    'freq_meta' -> 'freq_meta_1'\n",
      "    'faf_index_dict' -> 'faf_index_dict_1'\n",
      "    'age_distribution' -> 'age_distribution_1'\n",
      "2024-07-10 21:48:42.587 Hail: INFO: Ordering unsorted dataset with network shuffle\n",
      "2024-07-10 21:48:51.938 Hail: INFO: Coerced sorted dataset\n",
      "2024-07-10 21:48:56.161 Hail: INFO: Table.join: renamed the following fields on the right to avoid name conflicts:\n",
      "    'age_index_dict' -> 'age_index_dict_1'\n",
      "    'rf' -> 'rf_1'\n",
      "    'popmax_index_dict' -> 'popmax_index_dict_1'\n",
      "    'freq_index_dict' -> 'freq_index_dict_1'\n",
      "    'freq_meta' -> 'freq_meta_1'\n",
      "    'faf_index_dict' -> 'faf_index_dict_1'\n",
      "    'age_distribution' -> 'age_distribution_1'\n",
      "2024-07-10 21:49:06.466 Hail: INFO: Ordering unsorted dataset with network shuffle\n",
      "2024-07-10 21:49:15.999 Hail: INFO: Coerced sorted dataset\n",
      "2024-07-10 21:49:19.925 Hail: INFO: Table.join: renamed the following fields on the right to avoid name conflicts:\n",
      "    'age_index_dict' -> 'age_index_dict_1'\n",
      "    'rf' -> 'rf_1'\n",
      "    'popmax_index_dict' -> 'popmax_index_dict_1'\n",
      "    'freq_index_dict' -> 'freq_index_dict_1'\n",
      "    'freq_meta' -> 'freq_meta_1'\n",
      "    'faf_index_dict' -> 'faf_index_dict_1'\n",
      "    'age_distribution' -> 'age_distribution_1'\n",
      "2024-07-10 21:49:30.216 Hail: INFO: Ordering unsorted dataset with network shuffle\n",
      "2024-07-10 21:49:39.859 Hail: INFO: Coerced sorted dataset\n",
      "2024-07-10 21:53:52.707 Hail: INFO: Table.join: renamed the following fields on the right to avoid name conflicts:\n",
      "    'age_index_dict' -> 'age_index_dict_1'\n",
      "    'rf' -> 'rf_1'\n",
      "    'popmax_index_dict' -> 'popmax_index_dict_1'\n",
      "    'freq_index_dict' -> 'freq_index_dict_1'\n",
      "    'freq_meta' -> 'freq_meta_1'\n",
      "    'faf_index_dict' -> 'faf_index_dict_1'\n",
      "    'age_distribution' -> 'age_distribution_1'\n",
      "2024-07-10 21:54:03.255 Hail: INFO: Ordering unsorted dataset with network shuffle\n",
      "2024-07-10 21:54:12.742 Hail: INFO: Coerced sorted dataset\n",
      "2024-07-10 21:54:16.630 Hail: INFO: Table.join: renamed the following fields on the right to avoid name conflicts:\n",
      "    'age_index_dict' -> 'age_index_dict_1'\n",
      "    'rf' -> 'rf_1'\n",
      "    'popmax_index_dict' -> 'popmax_index_dict_1'\n",
      "    'freq_index_dict' -> 'freq_index_dict_1'\n",
      "    'freq_meta' -> 'freq_meta_1'\n",
      "    'faf_index_dict' -> 'faf_index_dict_1'\n",
      "    'age_distribution' -> 'age_distribution_1'\n",
      "2024-07-10 21:54:27.207 Hail: INFO: Ordering unsorted dataset with network shuffle\n",
      "2024-07-10 21:54:37.494 Hail: INFO: Coerced sorted dataset\n",
      "2024-07-10 21:54:41.512 Hail: INFO: Table.join: renamed the following fields on the right to avoid name conflicts:\n",
      "    'age_index_dict' -> 'age_index_dict_1'\n",
      "    'rf' -> 'rf_1'\n",
      "    'popmax_index_dict' -> 'popmax_index_dict_1'\n",
      "    'freq_index_dict' -> 'freq_index_dict_1'\n",
      "    'freq_meta' -> 'freq_meta_1'\n",
      "    'faf_index_dict' -> 'faf_index_dict_1'\n",
      "    'age_distribution' -> 'age_distribution_1'\n",
      "2024-07-10 21:54:51.858 Hail: INFO: Ordering unsorted dataset with network shuffle\n",
      "2024-07-10 21:55:01.710 Hail: INFO: Coerced sorted dataset\n",
      "2024-07-10 21:59:35.111 Hail: INFO: Table.join: renamed the following fields on the right to avoid name conflicts:\n",
      "    'age_index_dict' -> 'age_index_dict_1'\n",
      "    'rf' -> 'rf_1'\n",
      "    'popmax_index_dict' -> 'popmax_index_dict_1'\n",
      "    'freq_index_dict' -> 'freq_index_dict_1'\n",
      "    'freq_meta' -> 'freq_meta_1'\n",
      "    'faf_index_dict' -> 'faf_index_dict_1'\n",
      "    'age_distribution' -> 'age_distribution_1'\n",
      "2024-07-10 21:59:45.696 Hail: INFO: Ordering unsorted dataset with network shuffle\n",
      "2024-07-10 21:59:55.495 Hail: INFO: Coerced sorted dataset\n",
      "2024-07-10 22:00:11.474 Hail: INFO: Table.join: renamed the following fields on the right to avoid name conflicts:\n",
      "    'age_index_dict' -> 'age_index_dict_1'\n",
      "    'rf' -> 'rf_1'\n",
      "    'popmax_index_dict' -> 'popmax_index_dict_1'\n",
      "    'freq_index_dict' -> 'freq_index_dict_1'\n",
      "    'freq_meta' -> 'freq_meta_1'\n",
      "    'faf_index_dict' -> 'faf_index_dict_1'\n",
      "    'age_distribution' -> 'age_distribution_1'\n",
      "2024-07-10 22:00:21.883 Hail: INFO: Ordering unsorted dataset with network shuffle\n",
      "2024-07-10 22:00:31.756 Hail: INFO: Coerced sorted dataset\n",
      "2024-07-10 22:00:46.197 Hail: INFO: Table.join: renamed the following fields on the right to avoid name conflicts:\n",
      "    'age_index_dict' -> 'age_index_dict_1'\n",
      "    'rf' -> 'rf_1'\n",
      "    'popmax_index_dict' -> 'popmax_index_dict_1'\n",
      "    'freq_index_dict' -> 'freq_index_dict_1'\n",
      "    'freq_meta' -> 'freq_meta_1'\n",
      "    'faf_index_dict' -> 'faf_index_dict_1'\n",
      "    'age_distribution' -> 'age_distribution_1'\n",
      "2024-07-10 22:00:56.245 Hail: INFO: Ordering unsorted dataset with network shuffle\n",
      "2024-07-10 22:01:06.260 Hail: INFO: Coerced sorted dataset\n",
      "2024-07-10 22:04:31.158 Hail: INFO: Table.join: renamed the following fields on the right to avoid name conflicts:\n",
      "    'age_index_dict' -> 'age_index_dict_1'\n",
      "    'rf' -> 'rf_1'\n",
      "    'popmax_index_dict' -> 'popmax_index_dict_1'\n",
      "    'freq_index_dict' -> 'freq_index_dict_1'\n",
      "    'freq_meta' -> 'freq_meta_1'\n",
      "    'faf_index_dict' -> 'faf_index_dict_1'\n",
      "    'age_distribution' -> 'age_distribution_1'\n",
      "2024-07-10 22:04:41.494 Hail: INFO: Ordering unsorted dataset with network shuffle\n",
      "2024-07-10 22:04:51.608 Hail: INFO: Coerced sorted dataset\n",
      "2024-07-10 22:04:55.751 Hail: INFO: Table.join: renamed the following fields on the right to avoid name conflicts:\n",
      "    'age_index_dict' -> 'age_index_dict_1'\n",
      "    'rf' -> 'rf_1'\n",
      "    'popmax_index_dict' -> 'popmax_index_dict_1'\n",
      "    'freq_index_dict' -> 'freq_index_dict_1'\n",
      "    'freq_meta' -> 'freq_meta_1'\n",
      "    'faf_index_dict' -> 'faf_index_dict_1'\n",
      "    'age_distribution' -> 'age_distribution_1'\n",
      "2024-07-10 22:05:06.801 Hail: INFO: Ordering unsorted dataset with network shuffle\n",
      "2024-07-10 22:05:16.401 Hail: INFO: Coerced sorted dataset\n",
      "2024-07-10 22:05:20.486 Hail: INFO: Table.join: renamed the following fields on the right to avoid name conflicts:\n",
      "    'age_index_dict' -> 'age_index_dict_1'\n",
      "    'rf' -> 'rf_1'\n",
      "    'popmax_index_dict' -> 'popmax_index_dict_1'\n",
      "    'freq_index_dict' -> 'freq_index_dict_1'\n",
      "    'freq_meta' -> 'freq_meta_1'\n",
      "    'faf_index_dict' -> 'faf_index_dict_1'\n",
      "    'age_distribution' -> 'age_distribution_1'\n",
      "2024-07-10 22:05:30.784 Hail: INFO: Ordering unsorted dataset with network shuffle\n",
      "2024-07-10 22:05:40.291 Hail: INFO: Coerced sorted dataset\n",
      "2024-07-10 22:09:58.342 Hail: INFO: Table.join: renamed the following fields on the right to avoid name conflicts:\n",
      "    'age_index_dict' -> 'age_index_dict_1'\n",
      "    'rf' -> 'rf_1'\n",
      "    'popmax_index_dict' -> 'popmax_index_dict_1'\n",
      "    'freq_index_dict' -> 'freq_index_dict_1'\n",
      "    'freq_meta' -> 'freq_meta_1'\n",
      "    'faf_index_dict' -> 'faf_index_dict_1'\n",
      "    'age_distribution' -> 'age_distribution_1'\n",
      "2024-07-10 22:10:10.230 Hail: INFO: Ordering unsorted dataset with network shuffle\n",
      "2024-07-10 22:10:20.176 Hail: INFO: Coerced sorted dataset\n",
      "2024-07-10 22:10:35.522 Hail: INFO: Table.join: renamed the following fields on the right to avoid name conflicts:\n",
      "    'age_index_dict' -> 'age_index_dict_1'\n",
      "    'rf' -> 'rf_1'\n",
      "    'popmax_index_dict' -> 'popmax_index_dict_1'\n",
      "    'freq_index_dict' -> 'freq_index_dict_1'\n",
      "    'freq_meta' -> 'freq_meta_1'\n",
      "    'faf_index_dict' -> 'faf_index_dict_1'\n",
      "    'age_distribution' -> 'age_distribution_1'\n",
      "2024-07-10 22:10:46.520 Hail: INFO: Ordering unsorted dataset with network shuffle\n",
      "2024-07-10 22:10:56.804 Hail: INFO: Coerced sorted dataset\n",
      "2024-07-10 22:11:13.655 Hail: INFO: Table.join: renamed the following fields on the right to avoid name conflicts:\n",
      "    'age_index_dict' -> 'age_index_dict_1'\n",
      "    'rf' -> 'rf_1'\n",
      "    'popmax_index_dict' -> 'popmax_index_dict_1'\n",
      "    'freq_index_dict' -> 'freq_index_dict_1'\n",
      "    'freq_meta' -> 'freq_meta_1'\n",
      "    'faf_index_dict' -> 'faf_index_dict_1'\n",
      "    'age_distribution' -> 'age_distribution_1'\n",
      "2024-07-10 22:11:24.328 Hail: INFO: Ordering unsorted dataset with network shuffle\n",
      "2024-07-10 22:11:34.448 Hail: INFO: Coerced sorted dataset\n",
      "2024-07-10 22:14:47.556 Hail: INFO: Table.join: renamed the following fields on the right to avoid name conflicts:\n",
      "    'age_index_dict' -> 'age_index_dict_1'\n",
      "    'rf' -> 'rf_1'\n",
      "    'popmax_index_dict' -> 'popmax_index_dict_1'\n",
      "    'freq_index_dict' -> 'freq_index_dict_1'\n",
      "    'freq_meta' -> 'freq_meta_1'\n",
      "    'faf_index_dict' -> 'faf_index_dict_1'\n",
      "    'age_distribution' -> 'age_distribution_1'\n",
      "2024-07-10 22:14:57.801 Hail: INFO: Ordering unsorted dataset with network shuffle\n",
      "2024-07-10 22:15:07.386 Hail: INFO: Coerced sorted dataset\n",
      "2024-07-10 22:15:11.385 Hail: INFO: Table.join: renamed the following fields on the right to avoid name conflicts:\n",
      "    'age_index_dict' -> 'age_index_dict_1'\n",
      "    'rf' -> 'rf_1'\n",
      "    'popmax_index_dict' -> 'popmax_index_dict_1'\n",
      "    'freq_index_dict' -> 'freq_index_dict_1'\n",
      "    'freq_meta' -> 'freq_meta_1'\n",
      "    'faf_index_dict' -> 'faf_index_dict_1'\n",
      "    'age_distribution' -> 'age_distribution_1'\n",
      "2024-07-10 22:15:21.899 Hail: INFO: Ordering unsorted dataset with network shuffle\n",
      "2024-07-10 22:15:31.678 Hail: INFO: Coerced sorted dataset\n",
      "2024-07-10 22:20:38.413 Hail: INFO: Table.join: renamed the following fields on the right to avoid name conflicts:\n",
      "    'age_index_dict' -> 'age_index_dict_1'\n",
      "    'rf' -> 'rf_1'\n",
      "    'popmax_index_dict' -> 'popmax_index_dict_1'\n",
      "    'freq_index_dict' -> 'freq_index_dict_1'\n",
      "    'freq_meta' -> 'freq_meta_1'\n",
      "    'faf_index_dict' -> 'faf_index_dict_1'\n",
      "    'age_distribution' -> 'age_distribution_1'\n",
      "2024-07-10 22:20:48.988 Hail: INFO: Ordering unsorted dataset with network shuffle\n",
      "2024-07-10 22:20:58.415 Hail: INFO: Coerced sorted dataset\n",
      "2024-07-10 22:21:13.137 Hail: INFO: Table.join: renamed the following fields on the right to avoid name conflicts:\n",
      "    'age_index_dict' -> 'age_index_dict_1'\n",
      "    'rf' -> 'rf_1'\n",
      "    'popmax_index_dict' -> 'popmax_index_dict_1'\n",
      "    'freq_index_dict' -> 'freq_index_dict_1'\n",
      "    'freq_meta' -> 'freq_meta_1'\n",
      "    'faf_index_dict' -> 'faf_index_dict_1'\n",
      "    'age_distribution' -> 'age_distribution_1'\n",
      "2024-07-10 22:22:24.036 Hail: INFO: Ordering unsorted dataset with network shuffle\n",
      "2024-07-10 22:22:37.324 Hail: INFO: Coerced sorted dataset\n"
     ]
    },
    {
     "name": "stderr",
     "output_type": "stream",
     "text": [
      "                                                                                \r"
     ]
    },
    {
     "name": "stdout",
     "output_type": "stream",
     "text": [
      "  Ancestry     means   medians       ses\n",
      "0      nfe  0.945962  0.969737  0.060371\n",
      "1      afr  0.000254  0.000000  0.001429\n",
      "2      eas  0.053784  0.030263  0.060410\n"
     ]
    }
   ],
   "source": [
    "y=gwas_cat_run(\"GCST90043759\")"
   ]
  },
  {
   "cell_type": "code",
   "execution_count": 18,
   "metadata": {},
   "outputs": [
    {
     "data": {
      "text/html": [
       "<div>\n",
       "<style scoped>\n",
       "    .dataframe tbody tr th:only-of-type {\n",
       "        vertical-align: middle;\n",
       "    }\n",
       "\n",
       "    .dataframe tbody tr th {\n",
       "        vertical-align: top;\n",
       "    }\n",
       "\n",
       "    .dataframe thead th {\n",
       "        text-align: right;\n",
       "    }\n",
       "</style>\n",
       "<table border=\"1\" class=\"dataframe\">\n",
       "  <thead>\n",
       "    <tr style=\"text-align: right;\">\n",
       "      <th></th>\n",
       "      <th>Ancestry</th>\n",
       "      <th>means</th>\n",
       "      <th>medians</th>\n",
       "      <th>ses</th>\n",
       "    </tr>\n",
       "  </thead>\n",
       "  <tbody>\n",
       "    <tr>\n",
       "      <th>0</th>\n",
       "      <td>nfe</td>\n",
       "      <td>0.945962</td>\n",
       "      <td>0.969737</td>\n",
       "      <td>0.060371</td>\n",
       "    </tr>\n",
       "    <tr>\n",
       "      <th>1</th>\n",
       "      <td>afr</td>\n",
       "      <td>0.000254</td>\n",
       "      <td>0.000000</td>\n",
       "      <td>0.001429</td>\n",
       "    </tr>\n",
       "    <tr>\n",
       "      <th>2</th>\n",
       "      <td>eas</td>\n",
       "      <td>0.053784</td>\n",
       "      <td>0.030263</td>\n",
       "      <td>0.060410</td>\n",
       "    </tr>\n",
       "  </tbody>\n",
       "</table>\n",
       "</div>"
      ],
      "text/plain": [
       "  Ancestry     means   medians       ses\n",
       "0      nfe  0.945962  0.969737  0.060371\n",
       "1      afr  0.000254  0.000000  0.001429\n",
       "2      eas  0.053784  0.030263  0.060410"
      ]
     },
     "execution_count": 18,
     "metadata": {},
     "output_type": "execute_result"
    }
   ],
   "source": [
    "y[\"results\"]"
   ]
  },
  {
   "cell_type": "code",
   "execution_count": null,
   "metadata": {},
   "outputs": [],
   "source": []
  },
  {
   "cell_type": "code",
   "execution_count": 19,
   "metadata": {},
   "outputs": [
    {
     "name": "stderr",
     "output_type": "stream",
     "text": [
      "                                                                                \r"
     ]
    },
    {
     "name": "stdout",
     "output_type": "stream",
     "text": [
      "[('nfe', 0.84861244490409), ('afr', 0.15138755509590998)]\n"
     ]
    },
    {
     "name": "stderr",
     "output_type": "stream",
     "text": [
      "                                                                                \r"
     ]
    },
    {
     "name": "stdout",
     "output_type": "stream",
     "text": [
      "6199123\n"
     ]
    },
    {
     "name": "stderr",
     "output_type": "stream",
     "text": [
      "                                                                                \r"
     ]
    },
    {
     "name": "stdout",
     "output_type": "stream",
     "text": [
      "  Ancestry     means   medians       ses\n",
      "0      nfe  0.550478  0.590101  0.187461\n",
      "1      afr  0.436897  0.401352  0.181642\n",
      "2      eas  0.012625  0.000000  0.025465\n"
     ]
    }
   ],
   "source": [
    "y=gwas_cat_run(\"GCST90014304\")"
   ]
  },
  {
   "cell_type": "code",
   "execution_count": 20,
   "metadata": {},
   "outputs": [
    {
     "data": {
      "text/html": [
       "<div>\n",
       "<style scoped>\n",
       "    .dataframe tbody tr th:only-of-type {\n",
       "        vertical-align: middle;\n",
       "    }\n",
       "\n",
       "    .dataframe tbody tr th {\n",
       "        vertical-align: top;\n",
       "    }\n",
       "\n",
       "    .dataframe thead th {\n",
       "        text-align: right;\n",
       "    }\n",
       "</style>\n",
       "<table border=\"1\" class=\"dataframe\">\n",
       "  <thead>\n",
       "    <tr style=\"text-align: right;\">\n",
       "      <th></th>\n",
       "      <th>Ancestry</th>\n",
       "      <th>means</th>\n",
       "      <th>medians</th>\n",
       "      <th>ses</th>\n",
       "    </tr>\n",
       "  </thead>\n",
       "  <tbody>\n",
       "    <tr>\n",
       "      <th>0</th>\n",
       "      <td>nfe</td>\n",
       "      <td>0.550478</td>\n",
       "      <td>0.590101</td>\n",
       "      <td>0.187461</td>\n",
       "    </tr>\n",
       "    <tr>\n",
       "      <th>1</th>\n",
       "      <td>afr</td>\n",
       "      <td>0.436897</td>\n",
       "      <td>0.401352</td>\n",
       "      <td>0.181642</td>\n",
       "    </tr>\n",
       "    <tr>\n",
       "      <th>2</th>\n",
       "      <td>eas</td>\n",
       "      <td>0.012625</td>\n",
       "      <td>0.000000</td>\n",
       "      <td>0.025465</td>\n",
       "    </tr>\n",
       "  </tbody>\n",
       "</table>\n",
       "</div>"
      ],
      "text/plain": [
       "  Ancestry     means   medians       ses\n",
       "0      nfe  0.550478  0.590101  0.187461\n",
       "1      afr  0.436897  0.401352  0.181642\n",
       "2      eas  0.012625  0.000000  0.025465"
      ]
     },
     "execution_count": 20,
     "metadata": {},
     "output_type": "execute_result"
    }
   ],
   "source": [
    "y[\"results\"]"
   ]
  },
  {
   "cell_type": "code",
   "execution_count": 61,
   "metadata": {},
   "outputs": [
    {
     "name": "stderr",
     "output_type": "stream",
     "text": [
      "                                                                                \r"
     ]
    },
    {
     "name": "stdout",
     "output_type": "stream",
     "text": [
      "6199123\n"
     ]
    },
    {
     "name": "stderr",
     "output_type": "stream",
     "text": [
      "                                                                                \r"
     ]
    }
   ],
   "source": [
    "studyid=\"GCST90014304\"\n",
    "gwas=SummaryStatistics.from_parquet(session,\"gs://gwas_catalog_data/harmonised_summary_statistics/\"+studyid+\".parquet\")\n",
    "N=gwas.df.count()\n",
    "print(N)\n",
    "\n",
    "x=multipleAncestriesLD.infer_ancestry_proportions(\n",
    "session=session,\n",
    "path_to_ld_index=path_to_ld_index,\n",
    "gwas=gwas,\n",
    "listOfAncestries=[\"nfe\",\"afr\"],\n",
    "chromosomeInput=\"7\",\n",
    "start=100_000_000,\n",
    "end=100_300_000,\n",
    "maf_threshold = 0.05,\n",
    "number_of_snps = 40,\n",
    "zero_af_substitution = 1e-4,\n",
    "z_threshold= 3,\n",
    "number_of_runs= 100,\n",
    ")"
   ]
  },
  {
   "cell_type": "code",
   "execution_count": 62,
   "metadata": {},
   "outputs": [
    {
     "name": "stdout",
     "output_type": "stream",
     "text": [
      "  Ancestry     means   medians       ses\n",
      "0      nfe  0.601642  0.633559  0.169628\n",
      "1      afr  0.398358  0.366441  0.169628\n"
     ]
    }
   ],
   "source": [
    "print(x)"
   ]
  },
  {
   "cell_type": "code",
   "execution_count": null,
   "metadata": {},
   "outputs": [],
   "source": []
  },
  {
   "cell_type": "code",
   "execution_count": null,
   "metadata": {},
   "outputs": [],
   "source": []
  },
  {
   "cell_type": "code",
   "execution_count": 21,
   "metadata": {},
   "outputs": [
    {
     "name": "stdout",
     "output_type": "stream",
     "text": [
      "[('nfe', 1.0)]\n"
     ]
    },
    {
     "name": "stderr",
     "output_type": "stream",
     "text": [
      "                                                                                \r"
     ]
    },
    {
     "name": "stdout",
     "output_type": "stream",
     "text": [
      "31413616\n"
     ]
    },
    {
     "name": "stderr",
     "output_type": "stream",
     "text": [
      "                                                                                \r"
     ]
    },
    {
     "name": "stdout",
     "output_type": "stream",
     "text": [
      "  Ancestry     means  medians       ses\n",
      "0      nfe  0.939882      1.0  0.141499\n",
      "1      afr  0.001448      0.0  0.008025\n",
      "2      eas  0.058670      0.0  0.141516\n"
     ]
    }
   ],
   "source": [
    "y=gwas_cat_run(\"GCST90005858\")"
   ]
  },
  {
   "cell_type": "code",
   "execution_count": 22,
   "metadata": {},
   "outputs": [
    {
     "data": {
      "text/html": [
       "<div>\n",
       "<style scoped>\n",
       "    .dataframe tbody tr th:only-of-type {\n",
       "        vertical-align: middle;\n",
       "    }\n",
       "\n",
       "    .dataframe tbody tr th {\n",
       "        vertical-align: top;\n",
       "    }\n",
       "\n",
       "    .dataframe thead th {\n",
       "        text-align: right;\n",
       "    }\n",
       "</style>\n",
       "<table border=\"1\" class=\"dataframe\">\n",
       "  <thead>\n",
       "    <tr style=\"text-align: right;\">\n",
       "      <th></th>\n",
       "      <th>Ancestry</th>\n",
       "      <th>means</th>\n",
       "      <th>medians</th>\n",
       "      <th>ses</th>\n",
       "    </tr>\n",
       "  </thead>\n",
       "  <tbody>\n",
       "    <tr>\n",
       "      <th>0</th>\n",
       "      <td>nfe</td>\n",
       "      <td>0.939882</td>\n",
       "      <td>1.0</td>\n",
       "      <td>0.141499</td>\n",
       "    </tr>\n",
       "    <tr>\n",
       "      <th>1</th>\n",
       "      <td>afr</td>\n",
       "      <td>0.001448</td>\n",
       "      <td>0.0</td>\n",
       "      <td>0.008025</td>\n",
       "    </tr>\n",
       "    <tr>\n",
       "      <th>2</th>\n",
       "      <td>eas</td>\n",
       "      <td>0.058670</td>\n",
       "      <td>0.0</td>\n",
       "      <td>0.141516</td>\n",
       "    </tr>\n",
       "  </tbody>\n",
       "</table>\n",
       "</div>"
      ],
      "text/plain": [
       "  Ancestry     means  medians       ses\n",
       "0      nfe  0.939882      1.0  0.141499\n",
       "1      afr  0.001448      0.0  0.008025\n",
       "2      eas  0.058670      0.0  0.141516"
      ]
     },
     "execution_count": 22,
     "metadata": {},
     "output_type": "execute_result"
    }
   ],
   "source": [
    "y[\"results\"]"
   ]
  },
  {
   "cell_type": "code",
   "execution_count": null,
   "metadata": {},
   "outputs": [],
   "source": []
  },
  {
   "cell_type": "code",
   "execution_count": 24,
   "metadata": {},
   "outputs": [
    {
     "name": "stderr",
     "output_type": "stream",
     "text": [
      "                                                                                \r"
     ]
    },
    {
     "name": "stdout",
     "output_type": "stream",
     "text": [
      "[('eas', 0.10678324718612628), ('amr', 0.0024095454325877975), ('nfe', 0.8508342592145307), ('afr', 0.03997294816675523)]\n"
     ]
    },
    {
     "name": "stderr",
     "output_type": "stream",
     "text": [
      "                                                                                \r"
     ]
    },
    {
     "name": "stdout",
     "output_type": "stream",
     "text": [
      "7537579\n"
     ]
    },
    {
     "name": "stderr",
     "output_type": "stream",
     "text": [
      "                                                                                \r"
     ]
    },
    {
     "name": "stdout",
     "output_type": "stream",
     "text": [
      "  Ancestry     means   medians       ses\n",
      "0      nfe  0.652860  0.694691  0.264088\n",
      "1      afr  0.156387  0.123709  0.141622\n",
      "2      eas  0.190753  0.089905  0.239016\n"
     ]
    }
   ],
   "source": [
    "y=gwas_cat_run(\"GCST005843\")"
   ]
  },
  {
   "cell_type": "code",
   "execution_count": 25,
   "metadata": {},
   "outputs": [
    {
     "data": {
      "text/html": [
       "<div>\n",
       "<style scoped>\n",
       "    .dataframe tbody tr th:only-of-type {\n",
       "        vertical-align: middle;\n",
       "    }\n",
       "\n",
       "    .dataframe tbody tr th {\n",
       "        vertical-align: top;\n",
       "    }\n",
       "\n",
       "    .dataframe thead th {\n",
       "        text-align: right;\n",
       "    }\n",
       "</style>\n",
       "<table border=\"1\" class=\"dataframe\">\n",
       "  <thead>\n",
       "    <tr style=\"text-align: right;\">\n",
       "      <th></th>\n",
       "      <th>Ancestry</th>\n",
       "      <th>means</th>\n",
       "      <th>medians</th>\n",
       "      <th>ses</th>\n",
       "    </tr>\n",
       "  </thead>\n",
       "  <tbody>\n",
       "    <tr>\n",
       "      <th>0</th>\n",
       "      <td>nfe</td>\n",
       "      <td>0.652860</td>\n",
       "      <td>0.694691</td>\n",
       "      <td>0.264088</td>\n",
       "    </tr>\n",
       "    <tr>\n",
       "      <th>1</th>\n",
       "      <td>afr</td>\n",
       "      <td>0.156387</td>\n",
       "      <td>0.123709</td>\n",
       "      <td>0.141622</td>\n",
       "    </tr>\n",
       "    <tr>\n",
       "      <th>2</th>\n",
       "      <td>eas</td>\n",
       "      <td>0.190753</td>\n",
       "      <td>0.089905</td>\n",
       "      <td>0.239016</td>\n",
       "    </tr>\n",
       "  </tbody>\n",
       "</table>\n",
       "</div>"
      ],
      "text/plain": [
       "  Ancestry     means   medians       ses\n",
       "0      nfe  0.652860  0.694691  0.264088\n",
       "1      afr  0.156387  0.123709  0.141622\n",
       "2      eas  0.190753  0.089905  0.239016"
      ]
     },
     "execution_count": 25,
     "metadata": {},
     "output_type": "execute_result"
    }
   ],
   "source": [
    "y[\"results\"]"
   ]
  },
  {
   "cell_type": "code",
   "execution_count": null,
   "metadata": {},
   "outputs": [],
   "source": []
  },
  {
   "cell_type": "code",
   "execution_count": 54,
   "metadata": {},
   "outputs": [
    {
     "name": "stderr",
     "output_type": "stream",
     "text": [
      "[Stage 279:=================================================>     (17 + 2) / 19]\r"
     ]
    },
    {
     "name": "stdout",
     "output_type": "stream",
     "text": [
      "[('afr', 1.0)]\n"
     ]
    },
    {
     "name": "stderr",
     "output_type": "stream",
     "text": [
      "                                                                                \r"
     ]
    },
    {
     "name": "stdout",
     "output_type": "stream",
     "text": [
      "13906959\n"
     ]
    },
    {
     "name": "stderr",
     "output_type": "stream",
     "text": [
      "                                                                                \r"
     ]
    },
    {
     "name": "stdout",
     "output_type": "stream",
     "text": [
      "  Ancestry     means  medians       ses\n",
      "0      nfe  0.000375      0.0  0.003641\n",
      "1      afr  0.999106      1.0  0.004923\n",
      "2      eas  0.000519      0.0  0.003372\n"
     ]
    }
   ],
   "source": [
    "y=gwas_cat_run(\"GCST90301362\")"
   ]
  },
  {
   "cell_type": "code",
   "execution_count": 55,
   "metadata": {},
   "outputs": [
    {
     "data": {
      "text/html": [
       "<div>\n",
       "<style scoped>\n",
       "    .dataframe tbody tr th:only-of-type {\n",
       "        vertical-align: middle;\n",
       "    }\n",
       "\n",
       "    .dataframe tbody tr th {\n",
       "        vertical-align: top;\n",
       "    }\n",
       "\n",
       "    .dataframe thead th {\n",
       "        text-align: right;\n",
       "    }\n",
       "</style>\n",
       "<table border=\"1\" class=\"dataframe\">\n",
       "  <thead>\n",
       "    <tr style=\"text-align: right;\">\n",
       "      <th></th>\n",
       "      <th>Ancestry</th>\n",
       "      <th>means</th>\n",
       "      <th>medians</th>\n",
       "      <th>ses</th>\n",
       "    </tr>\n",
       "  </thead>\n",
       "  <tbody>\n",
       "    <tr>\n",
       "      <th>0</th>\n",
       "      <td>nfe</td>\n",
       "      <td>0.000375</td>\n",
       "      <td>0.0</td>\n",
       "      <td>0.003641</td>\n",
       "    </tr>\n",
       "    <tr>\n",
       "      <th>1</th>\n",
       "      <td>afr</td>\n",
       "      <td>0.999106</td>\n",
       "      <td>1.0</td>\n",
       "      <td>0.004923</td>\n",
       "    </tr>\n",
       "    <tr>\n",
       "      <th>2</th>\n",
       "      <td>eas</td>\n",
       "      <td>0.000519</td>\n",
       "      <td>0.0</td>\n",
       "      <td>0.003372</td>\n",
       "    </tr>\n",
       "  </tbody>\n",
       "</table>\n",
       "</div>"
      ],
      "text/plain": [
       "  Ancestry     means  medians       ses\n",
       "0      nfe  0.000375      0.0  0.003641\n",
       "1      afr  0.999106      1.0  0.004923\n",
       "2      eas  0.000519      0.0  0.003372"
      ]
     },
     "execution_count": 55,
     "metadata": {},
     "output_type": "execute_result"
    }
   ],
   "source": [
    "y[\"results\"]"
   ]
  },
  {
   "cell_type": "code",
   "execution_count": null,
   "metadata": {},
   "outputs": [],
   "source": []
  },
  {
   "cell_type": "code",
   "execution_count": 59,
   "metadata": {},
   "outputs": [
    {
     "name": "stdout",
     "output_type": "stream",
     "text": [
      "[('eas', 1.0)]\n"
     ]
    },
    {
     "name": "stderr",
     "output_type": "stream",
     "text": [
      "                                                                                \r"
     ]
    },
    {
     "name": "stdout",
     "output_type": "stream",
     "text": [
      "6851572\n"
     ]
    },
    {
     "name": "stderr",
     "output_type": "stream",
     "text": [
      "                                                                                \r"
     ]
    },
    {
     "name": "stdout",
     "output_type": "stream",
     "text": [
      "  Ancestry     means   medians       ses\n",
      "0      nfe  0.524912  0.480938  0.234889\n",
      "1      afr  0.004592  0.000082  0.009854\n",
      "2      eas  0.470495  0.512786  0.236688\n"
     ]
    }
   ],
   "source": [
    "y=gwas_cat_run(\"GCST90060657\")"
   ]
  },
  {
   "cell_type": "code",
   "execution_count": 60,
   "metadata": {},
   "outputs": [
    {
     "data": {
      "text/html": [
       "<div>\n",
       "<style scoped>\n",
       "    .dataframe tbody tr th:only-of-type {\n",
       "        vertical-align: middle;\n",
       "    }\n",
       "\n",
       "    .dataframe tbody tr th {\n",
       "        vertical-align: top;\n",
       "    }\n",
       "\n",
       "    .dataframe thead th {\n",
       "        text-align: right;\n",
       "    }\n",
       "</style>\n",
       "<table border=\"1\" class=\"dataframe\">\n",
       "  <thead>\n",
       "    <tr style=\"text-align: right;\">\n",
       "      <th></th>\n",
       "      <th>Ancestry</th>\n",
       "      <th>means</th>\n",
       "      <th>medians</th>\n",
       "      <th>ses</th>\n",
       "    </tr>\n",
       "  </thead>\n",
       "  <tbody>\n",
       "    <tr>\n",
       "      <th>0</th>\n",
       "      <td>nfe</td>\n",
       "      <td>0.524912</td>\n",
       "      <td>0.480938</td>\n",
       "      <td>0.234889</td>\n",
       "    </tr>\n",
       "    <tr>\n",
       "      <th>1</th>\n",
       "      <td>afr</td>\n",
       "      <td>0.004592</td>\n",
       "      <td>0.000082</td>\n",
       "      <td>0.009854</td>\n",
       "    </tr>\n",
       "    <tr>\n",
       "      <th>2</th>\n",
       "      <td>eas</td>\n",
       "      <td>0.470495</td>\n",
       "      <td>0.512786</td>\n",
       "      <td>0.236688</td>\n",
       "    </tr>\n",
       "  </tbody>\n",
       "</table>\n",
       "</div>"
      ],
      "text/plain": [
       "  Ancestry     means   medians       ses\n",
       "0      nfe  0.524912  0.480938  0.234889\n",
       "1      afr  0.004592  0.000082  0.009854\n",
       "2      eas  0.470495  0.512786  0.236688"
      ]
     },
     "execution_count": 60,
     "metadata": {},
     "output_type": "execute_result"
    }
   ],
   "source": [
    "y[\"results\"]"
   ]
  },
  {
   "cell_type": "markdown",
   "metadata": {},
   "source": [
    "# GCST90005858"
   ]
  },
  {
   "cell_type": "code",
   "execution_count": 22,
   "metadata": {},
   "outputs": [
    {
     "name": "stderr",
     "output_type": "stream",
     "text": [
      "[Stage 119:==================================================>     (9 + 1) / 10]\r"
     ]
    },
    {
     "name": "stdout",
     "output_type": "stream",
     "text": [
      "31413616\n"
     ]
    },
    {
     "name": "stderr",
     "output_type": "stream",
     "text": [
      "                                                                                \r"
     ]
    }
   ],
   "source": [
    "studyid=\"GCST90005858\"\n",
    "gwas=SummaryStatistics.from_parquet(session,\"gs://gwas_catalog_data/harmonised_summary_statistics/\"+studyid+\".parquet\")\n",
    "N=gwas.df.count()\n",
    "print(N)"
   ]
  },
  {
   "cell_type": "code",
   "execution_count": 23,
   "metadata": {},
   "outputs": [],
   "source": [
    "session=session\n",
    "path_to_ld_index=path_to_ld_index\n",
    "gwas=gwas\n",
    "listOfAncestries=listOfAncestries\n",
    "chromosomeInput=\"7\"\n",
    "start=100_000_000\n",
    "end=100_300_000\n",
    "maf_threshold = 0.05\n",
    "number_of_snps = 20\n",
    "zero_af_substitution = 1e-4\n",
    "z_threshold= 3\n",
    "number_of_runs= 100"
   ]
  },
  {
   "cell_type": "code",
   "execution_count": 24,
   "metadata": {},
   "outputs": [
    {
     "name": "stderr",
     "output_type": "stream",
     "text": [
      "                                                                                \r"
     ]
    }
   ],
   "source": [
    "out_dict = multipleAncestriesLD.prepare_data_frames(\n",
    "    session=session,\n",
    "    listOfAncestries=listOfAncestries,\n",
    "    chromosomeInput=chromosomeInput,\n",
    "    start=start,\n",
    "    end=end,\n",
    "    path_to_ld_index=path_to_ld_index,\n",
    "    gwas=gwas,\n",
    "    full_list_of_ancestries=full_list_of_ancestries,\n",
    "    maf_threshold=maf_threshold,\n",
    "    z_threshold=z_threshold,\n",
    "    filter_snps=True,\n",
    ")"
   ]
  },
  {
   "cell_type": "code",
   "execution_count": 25,
   "metadata": {},
   "outputs": [
    {
     "data": {
      "text/plain": [
       "{'LD': {'nfe': array([[ 1.        ,  0.5002967 , -0.61939744, ..., -0.43232243,\n",
       "           0.28135577,  0.74116737],\n",
       "         [ 0.5002967 ,  1.        ,  0.09062015, ..., -0.07955373,\n",
       "           0.31775446,  0.38759397],\n",
       "         [-0.61939744,  0.09062015,  1.        , ...,  0.58671545,\n",
       "           0.19947036, -0.46818884],\n",
       "         ...,\n",
       "         [-0.43232243, -0.07955373,  0.58671545, ...,  1.        ,\n",
       "           0.53192247, -0.59675848],\n",
       "         [ 0.28135577,  0.31775446,  0.19947036, ...,  0.53192247,\n",
       "           1.        ,  0.30672691],\n",
       "         [ 0.74116737,  0.38759397, -0.46818884, ..., -0.59675848,\n",
       "           0.30672691,  1.        ]]),\n",
       "  'afr': array([[ 1.        ,  0.22347586, -0.6638619 , ..., -0.27818064,\n",
       "           0.14212083,  0.45051042],\n",
       "         [ 0.22347586,  1.        ,  0.17905218, ...,  0.02288898,\n",
       "           0.46693352,  0.16562102],\n",
       "         [-0.6638619 ,  0.17905218,  1.        , ...,  0.42494443,\n",
       "           0.15282814, -0.44626224],\n",
       "         ...,\n",
       "         [-0.27818064,  0.02288898,  0.42494443, ...,  1.        ,\n",
       "           0.29504623, -0.73534462],\n",
       "         [ 0.14212083,  0.46693352,  0.15282814, ...,  0.29504623,\n",
       "           1.        ,  0.14693104],\n",
       "         [ 0.45051042,  0.16562102, -0.44626224, ..., -0.73534462,\n",
       "           0.14693104,  1.        ]]),\n",
       "  'eas': array([[ 1.        ,  0.72873358, -0.41496828, ..., -0.39007154,\n",
       "           0.16325407,  0.47760427],\n",
       "         [ 0.72873358,  1.        ,  0.24432803, ..., -0.23119552,\n",
       "           0.17567505,  0.31215866],\n",
       "         [-0.41496828,  0.24432803,  1.        , ...,  0.28380892,\n",
       "           0.0258114 , -0.28081452],\n",
       "         ...,\n",
       "         [-0.39007154, -0.23119552,  0.28380892, ...,  1.        ,\n",
       "           0.18162135, -0.82119476],\n",
       "         [ 0.16325407,  0.17567505,  0.0258114 , ...,  0.18162135,\n",
       "           1.        ,  0.32319916],\n",
       "         [ 0.47760427,  0.31215866, -0.28081452, ..., -0.82119476,\n",
       "           0.32319916,  1.        ]])},\n",
       " 'ref_af':            variantId       nfe       afr       eas         z\n",
       " 1    7_100014782_G_T  0.677482  0.675911  0.557909 -0.038286\n",
       " 2    7_100017228_T_A  0.376279  0.104089  0.429976 -0.166882\n",
       " 3    7_100036110_G_A  0.560873  0.508627  0.861229 -0.313554\n",
       " 4    7_100041822_T_C  0.562917  0.565941  0.861796 -0.265954\n",
       " 5    7_100042338_A_G  0.314261  0.299411  0.460515 -1.013205\n",
       " ..               ...       ...       ...       ...       ...\n",
       " 347  7_100053744_C_G  0.287983  0.140362  0.455814 -0.308343\n",
       " 349  7_100146949_T_C  0.282078  0.069004  0.179823 -0.046769\n",
       " 350  7_100196319_T_C  0.486596  0.390250  0.688867 -0.277500\n",
       " 351  7_100204421_C_T  0.222317  0.056087  0.066975  0.090820\n",
       " 352  7_100205789_G_C  0.738620  0.730541  0.382365  0.317262\n",
       " \n",
       " [279 rows x 5 columns]}"
      ]
     },
     "execution_count": 25,
     "metadata": {},
     "output_type": "execute_result"
    }
   ],
   "source": [
    "out_dict"
   ]
  },
  {
   "cell_type": "code",
   "execution_count": 43,
   "metadata": {},
   "outputs": [],
   "source": [
    "maf_threshold = 0.05\n",
    "number_of_snps = 50\n",
    "zero_af_substitution = 1e-4\n",
    "z_threshold= 3\n",
    "number_of_runs= 100"
   ]
  },
  {
   "cell_type": "code",
   "execution_count": 44,
   "metadata": {},
   "outputs": [
    {
     "data": {
      "text/html": [
       "<div>\n",
       "<style scoped>\n",
       "    .dataframe tbody tr th:only-of-type {\n",
       "        vertical-align: middle;\n",
       "    }\n",
       "\n",
       "    .dataframe tbody tr th {\n",
       "        vertical-align: top;\n",
       "    }\n",
       "\n",
       "    .dataframe thead th {\n",
       "        text-align: right;\n",
       "    }\n",
       "</style>\n",
       "<table border=\"1\" class=\"dataframe\">\n",
       "  <thead>\n",
       "    <tr style=\"text-align: right;\">\n",
       "      <th></th>\n",
       "      <th>Ancestry</th>\n",
       "      <th>means</th>\n",
       "      <th>medians</th>\n",
       "      <th>ses</th>\n",
       "    </tr>\n",
       "  </thead>\n",
       "  <tbody>\n",
       "    <tr>\n",
       "      <th>0</th>\n",
       "      <td>nfe</td>\n",
       "      <td>0.957939</td>\n",
       "      <td>1.000000e+00</td>\n",
       "      <td>0.073811</td>\n",
       "    </tr>\n",
       "    <tr>\n",
       "      <th>1</th>\n",
       "      <td>afr</td>\n",
       "      <td>0.000154</td>\n",
       "      <td>0.000000e+00</td>\n",
       "      <td>0.001289</td>\n",
       "    </tr>\n",
       "    <tr>\n",
       "      <th>2</th>\n",
       "      <td>eas</td>\n",
       "      <td>0.041906</td>\n",
       "      <td>1.222709e-17</td>\n",
       "      <td>0.073880</td>\n",
       "    </tr>\n",
       "  </tbody>\n",
       "</table>\n",
       "</div>"
      ],
      "text/plain": [
       "  Ancestry     means       medians       ses\n",
       "0      nfe  0.957939  1.000000e+00  0.073811\n",
       "1      afr  0.000154  0.000000e+00  0.001289\n",
       "2      eas  0.041906  1.222709e-17  0.073880"
      ]
     },
     "execution_count": 44,
     "metadata": {},
     "output_type": "execute_result"
    }
   ],
   "source": [
    "from scipy.optimize import minimize\n",
    "\n",
    "m_p = out_dict[\"ref_af\"][listOfAncestries]\n",
    "m_p = np.array(m_p)\n",
    "Z = np.array(out_dict[\"ref_af\"][\"z\"].tolist())\n",
    "\n",
    "mask = (m_p >= maf_threshold) & (m_p <= 1 - maf_threshold)\n",
    "rows = np.all(mask, axis=1)\n",
    "rows = (np.abs(Z) <= z_threshold) & rows\n",
    "ind = np.where(rows)[0]\n",
    "\n",
    "initial_alphas = np.ones(len(listOfAncestries))\n",
    "bounds = [(0, 1)] * len(listOfAncestries)  # Non-negative bounds for alphas\n",
    "\n",
    "out: list[np.ndarray] = []\n",
    "for _ in range(number_of_runs):\n",
    "    ind_to_run = np.random.choice(ind, number_of_snps, replace=False)\n",
    "    values = out_dict[\"LD\"][listOfAncestries[0]][ind_to_run, :][\n",
    "        :, ind_to_run\n",
    "    ]\n",
    "    np.fill_diagonal(values, 0)\n",
    "    avg_squared = np.mean(np.square(values))\n",
    "    np.fill_diagonal(values, 1)\n",
    "    if avg_squared >= 0.1:\n",
    "        result = minimize(\n",
    "            multipleAncestriesLD.fun_for_opt,\n",
    "            initial_alphas,\n",
    "            args=(\n",
    "                Z,\n",
    "                out_dict[\"LD\"],\n",
    "                m_p,\n",
    "                listOfAncestries,\n",
    "                ind_to_run,\n",
    "                zero_af_substitution,\n",
    "            ),\n",
    "            bounds=bounds,\n",
    "        )\n",
    "        out = [result.x / np.sum(result.x)] + out\n",
    "\n",
    "transposed_arrays = np.transpose(out)\n",
    "means = np.mean(transposed_arrays, axis=1)\n",
    "medians = np.median(transposed_arrays, axis=1)\n",
    "ses = np.sqrt(np.var(transposed_arrays, axis=1))\n",
    "df = pd.DataFrame(\n",
    "    {\n",
    "        \"Ancestry\": listOfAncestries,\n",
    "        \"means\": means,\n",
    "        \"medians\": medians,\n",
    "        \"ses\": ses,\n",
    "    }\n",
    ")\n",
    "\n",
    "df"
   ]
  },
  {
   "cell_type": "code",
   "execution_count": 47,
   "metadata": {},
   "outputs": [
    {
     "data": {
      "text/plain": [
       "100"
      ]
     },
     "execution_count": 47,
     "metadata": {},
     "output_type": "execute_result"
    }
   ],
   "source": [
    "len(out)"
   ]
  },
  {
   "cell_type": "code",
   "execution_count": null,
   "metadata": {},
   "outputs": [],
   "source": []
  },
  {
   "cell_type": "code",
   "execution_count": 119,
   "metadata": {},
   "outputs": [],
   "source": [
    "initial_alphas = np.ones(len(listOfAncestries))\n",
    "bounds = [(0, 1)] * len(listOfAncestries)  # Non-negative bounds for alphas\n",
    "\n",
    "out: list[np.ndarray] = []"
   ]
  },
  {
   "cell_type": "code",
   "execution_count": 120,
   "metadata": {},
   "outputs": [
    {
     "data": {
      "text/plain": [
       "[]"
      ]
     },
     "execution_count": 120,
     "metadata": {},
     "output_type": "execute_result"
    }
   ],
   "source": [
    "out"
   ]
  },
  {
   "cell_type": "code",
   "execution_count": 125,
   "metadata": {},
   "outputs": [],
   "source": [
    "ind_to_run = np.random.choice(ind, 30, replace=False)\n",
    "values = out_dict[\"LD\"][listOfAncestries[0]][ind_to_run, :][\n",
    "    :, ind_to_run\n",
    "]\n",
    "np.fill_diagonal(values, 0)\n",
    "avg_squared = np.mean(np.square(values))\n",
    "np.fill_diagonal(values, 1)"
   ]
  },
  {
   "cell_type": "code",
   "execution_count": 126,
   "metadata": {},
   "outputs": [
    {
     "data": {
      "text/plain": [
       "0.2568862495920882"
      ]
     },
     "execution_count": 126,
     "metadata": {},
     "output_type": "execute_result"
    }
   ],
   "source": [
    "avg_squared"
   ]
  },
  {
   "cell_type": "code",
   "execution_count": 127,
   "metadata": {},
   "outputs": [],
   "source": [
    "from scipy.optimize import minimize\n",
    "result = minimize(\n",
    "    multipleAncestriesLD.fun_for_opt,\n",
    "    initial_alphas,\n",
    "    args=(\n",
    "        Z,\n",
    "        out_dict[\"LD\"],\n",
    "        m_p,\n",
    "        listOfAncestries,\n",
    "        ind_to_run,\n",
    "        zero_af_substitution,\n",
    "    ),\n",
    "    bounds=bounds,\n",
    ")"
   ]
  },
  {
   "cell_type": "code",
   "execution_count": 128,
   "metadata": {},
   "outputs": [
    {
     "data": {
      "text/plain": [
       "  message: CONVERGENCE: NORM_OF_PROJECTED_GRADIENT_<=_PGTOL\n",
       "  success: True\n",
       "   status: 0\n",
       "      fun: 4.918265983028123\n",
       "        x: [ 1.000e+00  0.000e+00  0.000e+00]\n",
       "      nit: 1\n",
       "      jac: [-0.000e+00  3.691e+01  7.667e+00]\n",
       "     nfev: 8\n",
       "     njev: 2\n",
       " hess_inv: <3x3 LbfgsInvHessProduct with dtype=float64>"
      ]
     },
     "execution_count": 128,
     "metadata": {},
     "output_type": "execute_result"
    }
   ],
   "source": [
    "result"
   ]
  },
  {
   "cell_type": "code",
   "execution_count": 130,
   "metadata": {},
   "outputs": [
    {
     "data": {
      "text/plain": [
       "0.7545768203687533"
      ]
     },
     "execution_count": 130,
     "metadata": {},
     "output_type": "execute_result"
    }
   ],
   "source": [
    "np.mean(np.abs(Z[ind_to_run]))"
   ]
  },
  {
   "cell_type": "code",
   "execution_count": 21,
   "metadata": {},
   "outputs": [
    {
     "ename": "NameError",
     "evalue": "name 'ind' is not defined",
     "output_type": "error",
     "traceback": [
      "\u001b[0;31m---------------------------------------------------------------------------\u001b[0m",
      "\u001b[0;31mNameError\u001b[0m                                 Traceback (most recent call last)",
      "Cell \u001b[0;32mIn[21], line 3\u001b[0m\n\u001b[1;32m      1\u001b[0m out: \u001b[38;5;28mlist\u001b[39m[np\u001b[38;5;241m.\u001b[39mndarray] \u001b[38;5;241m=\u001b[39m []\n\u001b[1;32m      2\u001b[0m \u001b[38;5;28;01mfor\u001b[39;00m _ \u001b[38;5;129;01min\u001b[39;00m \u001b[38;5;28mrange\u001b[39m(\u001b[38;5;241m40\u001b[39m):\n\u001b[0;32m----> 3\u001b[0m     ind_to_run \u001b[38;5;241m=\u001b[39m np\u001b[38;5;241m.\u001b[39mrandom\u001b[38;5;241m.\u001b[39mchoice(\u001b[43mind\u001b[49m, number_of_snps, replace\u001b[38;5;241m=\u001b[39m\u001b[38;5;28;01mFalse\u001b[39;00m)\n\u001b[1;32m      4\u001b[0m     values \u001b[38;5;241m=\u001b[39m out_dict[\u001b[38;5;124m\"\u001b[39m\u001b[38;5;124mLD\u001b[39m\u001b[38;5;124m\"\u001b[39m][listOfAncestries[\u001b[38;5;241m0\u001b[39m]][ind_to_run, :][\n\u001b[1;32m      5\u001b[0m         :, ind_to_run\n\u001b[1;32m      6\u001b[0m     ]\n\u001b[1;32m      7\u001b[0m     np\u001b[38;5;241m.\u001b[39mfill_diagonal(values, \u001b[38;5;241m0\u001b[39m)\n",
      "\u001b[0;31mNameError\u001b[0m: name 'ind' is not defined"
     ]
    }
   ],
   "source": [
    "out: list[np.ndarray] = []\n",
    "for _ in range(40):\n",
    "    ind_to_run = np.random.choice(ind, number_of_snps, replace=False)\n",
    "    values = out_dict[\"LD\"][listOfAncestries[0]][ind_to_run, :][\n",
    "        :, ind_to_run\n",
    "    ]\n",
    "    np.fill_diagonal(values, 0)\n",
    "    avg_squared = np.mean(np.square(values))\n",
    "    np.fill_diagonal(values, 1)\n",
    "    if avg_squared >= 0.1:\n",
    "        result = minimize(\n",
    "            multipleAncestriesLD.fun_for_opt,\n",
    "            initial_alphas,\n",
    "            args=(\n",
    "                Z,\n",
    "                out_dict[\"LD\"],\n",
    "                m_p,\n",
    "                listOfAncestries,\n",
    "                ind_to_run,\n",
    "                zero_af_substitution,\n",
    "            ),\n",
    "            bounds=bounds,\n",
    "        )\n",
    "        out = [result.x / np.sum(result.x)] + out"
   ]
  },
  {
   "cell_type": "code",
   "execution_count": null,
   "metadata": {},
   "outputs": [],
   "source": []
  }
 ],
 "metadata": {
  "kernelspec": {
   "display_name": "gentropy-krNFZEZg-py3.10",
   "language": "python",
   "name": "python3"
  },
  "language_info": {
   "codemirror_mode": {
    "name": "ipython",
    "version": 3
   },
   "file_extension": ".py",
   "mimetype": "text/x-python",
   "name": "python",
   "nbconvert_exporter": "python",
   "pygments_lexer": "ipython3",
   "version": "3.10.8"
  }
 },
 "nbformat": 4,
 "nbformat_minor": 2
}
