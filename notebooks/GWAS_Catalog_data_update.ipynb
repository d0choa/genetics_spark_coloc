{
  "cells": [
    {
      "cell_type": "markdown",
      "id": "f80797f1",
      "metadata": {},
      "source": [
        "# Update GWAS Catalog dataset\n",
        "\n",
        "\n",
        "This script fetches the most recent release from the GWAS Catalog ftp. Dates accordingly, and uploads to GCP bucket. \n",
        "\n",
        "**Warning!!** It does not automatically update config file in the etl repo. It still has to be manual."
      ]
    },
    {
      "cell_type": "code",
      "execution_count": 14,
      "id": "8ba90707",
      "metadata": {
        "ExecuteTime": {
          "end_time": "2023-09-26T00:34:33.637106Z",
          "start_time": "2023-09-26T00:34:23.908781Z"
        }
      },
      "outputs": [
        {
          "name": "stdout",
          "output_type": "stream",
          "text": [
            "2023 09 11 110 v3.57.0\n",
            "Copying files to GCP...\n"
          ]
        },
        {
          "name": "stderr",
          "output_type": "stream",
          "text": [
            "bash: line 34: ${datasets.inputs}/v2d/gwas_catalog_v1.0.2-associations_e107_r2022-11-29.tsv: bad substitution\n",
            "bash: line 35: ${datasets.inputs}/v2d/gwas-catalog-v1.0.3-studies-r2022-11-29.tsv: bad substitution\n",
            "bash: line 36: ${datasets.inputs}/v2d/gwas-catalog-v1.0.3-ancestries-r2022-11-29.tsv: bad substitution\n",
            "bash: line 37: ${datasets.inputs}/v2d/harmonised_list.txt: bad substitution\n",
            "Copying file:///gwas_catalog_v1.0.2-associations_e110_r2023-09-11.tsv [Content-Type=text/tab-separated-values]...\n",
            "==> NOTE: You are uploading one or more large file(s), which would run\n",
            "significantly faster if you enable parallel composite uploads. This\n",
            "feature can be enabled by editing the\n",
            "\"parallel_composite_upload_threshold\" value in your .boto\n",
            "configuration file. However, note that if you do this large files will\n",
            "be uploaded as `composite objects\n",
            "<https://cloud.google.com/storage/docs/composite-objects>`_,which\n",
            "means that any user who downloads such objects will need to have a\n",
            "compiled crcmod installed (see \"gsutil help crcmod\"). This is because\n",
            "without a compiled crcmod, computing checksums on composite objects is\n",
            "so slow that gsutil disables downloads of composite objects.\n",
            "\n",
            "| [1 files][330.4 MiB/330.4 MiB]                                                \r\n",
            "Operation completed over 1 objects/330.4 MiB.                                    \n",
            "Copying file:///gwas-catalog-v1.0.3-studies-r2023-09-11.tsv [Content-Type=text/tab-separated-values]...\n",
            "/ [1 files][ 39.5 MiB/ 39.5 MiB]                                                \r\n",
            "Operation completed over 1 objects/39.5 MiB.                                     \n",
            "Copying file:///gwas-catalog-v1.0.3-ancestries-r2023-09-11.tsv [Content-Type=text/tab-separated-values]...\n",
            "/ [1 files][ 23.4 MiB/ 23.4 MiB]                                                \r\n",
            "Operation completed over 1 objects/23.4 MiB.                                     \n",
            "Copying file:///harmonised_list-r2023-09-11.txt [Content-Type=text/plain]...\n",
            "/ [1 files][  2.1 MiB/  2.1 MiB]                                                \r\n",
            "Operation completed over 1 objects/2.1 MiB.                                      \n"
          ]
        }
      ],
      "source": [
        "%%bash\n",
        "\n",
        "# Resources:\n",
        "export BASE_URL=ftp://ftp.ebi.ac.uk/pub/databases/gwas\n",
        "export RELEASE_INFO_URL=https://www.ebi.ac.uk/gwas/api/search/stats\n",
        "export GCP_TARGET=gs://genetics_etl_python_playground/input/v2d/\n",
        "\n",
        "# Function to get the most recent date:\n",
        "get_most_recent(){\n",
        "   cat $1 | perl -lane 'push @a, $_ if $_ =~ /^\\d+$/; END {@a = sort { $a <=> $b} @a; print pop @a }'\n",
        "}\n",
        "\n",
        "# Function to return the path the to the most recent release:\n",
        "get_release_url(){\n",
        "    curl -s --list-only ${BASE_URL}/releases/ | get_most_recent | while read YEAR; do \n",
        "        curl -s --list-only ${BASE_URL}/releases/${YEAR}/  | get_most_recent | while read MONTH; do \n",
        "             DAY=$(curl -s --list-only ${BASE_URL}/releases/${YEAR}/${MONTH}/  | get_most_recent)\n",
        "            echo $YEAR $MONTH $DAY \n",
        "        done\n",
        "    done\n",
        "}\n",
        "\n",
        "# Function to get the Ensembl and EFO version which used to ground GWAS data:\n",
        "get_release_info(){\n",
        "    curl -s https://www.ebi.ac.uk/gwas/api/search/stats | jq -r '\"\\(.ensemblbuild) \\(.efoversion)\"'\n",
        "}\n",
        "\n",
        "# Capturing release date:\n",
        "read YEAR MONTH DAY < <(get_release_url)\n",
        "\n",
        "# Capturing release metadata:\n",
        "read ENSEMBL EFO < <(get_release_info)\n",
        "\n",
        "echo $YEAR $MONTH $DAY $ENSEMBL $EFO\n",
        "\n",
        "# Constructing FTP URL to access the most recent release:\n",
        "RELEASE_URL=${BASE_URL}/releases/${YEAR}/${MONTH}/${DAY}\n",
        "\n",
        "# Fetching files while assigning properly dated and annotated names:\n",
        "echo \"Fetching data from ftp...\"\n",
        "wget -q ${RELEASE_URL}/gwas-catalog-associations_ontology-annotated.tsv \\\n",
        "    -O gwas_catalog_v1.0.2-associations_e${ENSEMBL}_r${YEAR}-${MONTH}-${DAY}.tsv\n",
        "\n",
        "wget -q ${RELEASE_URL}/gwas-catalog-download-studies-v1.0.3.txt \\\n",
        "    -O gwas-catalog-v1.0.3-studies-r${YEAR}-${MONTH}-${DAY}.tsv\n",
        "    \n",
        "wget -q ${RELEASE_URL}/gwas-catalog-download-ancestries-v1.0.3.txt \\\n",
        "    -O gwas-catalog-v1.0.3-ancestries-r${YEAR}-${MONTH}-${DAY}.tsv\n",
        " \n",
        "wget -q ${BASE_URL}/summary_statistics/harmonised_list.txt -O harmonised_list-r${YEAR}-${MONTH}-${DAY}.txt\n",
        "\n",
        "echo \"Copying files to GCP...\"\n",
        "gsutil cp file://$(pwd)gwas_catalog_v1.0.2-associations_e${ENSEMBL}_r${YEAR}-${MONTH}-${DAY}.tsv ${GCP_TARGET}/\n",
        "gsutil cp file://$(pwd)gwas-catalog-v1.0.3-studies-r${YEAR}-${MONTH}-${DAY}.tsv ${GCP_TARGET}/\n",
        "gsutil cp file://$(pwd)gwas-catalog-v1.0.3-ancestries-r${YEAR}-${MONTH}-${DAY}.tsv ${GCP_TARGET}/\n",
        "gsutil cp file://$(pwd)harmonised_list-r${YEAR}-${MONTH}-${DAY}.txt ${GCP_TARGET}/\n",
        "\n"
      ]
    },
    {
      "cell_type": "code",
      "execution_count": null,
      "id": "8ad1071a",
      "metadata": {},
      "outputs": [],
      "source": []
    }
  ],
  "metadata": {
    "kernelspec": {
      "display_name": "Python 3",
      "language": "python",
      "name": "python3"
    },
    "language_info": {
      "codemirror_mode": {
        "name": "ipython",
        "version": 3
      },
      "file_extension": ".py",
      "mimetype": "text/x-python",
      "name": "python",
      "nbconvert_exporter": "python",
      "pygments_lexer": "ipython3",
      "version": "3.10.8"
    }
  },
  "nbformat": 4,
  "nbformat_minor": 5
}
