{
 "cells": [
  {
   "cell_type": "code",
   "execution_count": null,
   "metadata": {},
   "outputs": [],
   "source": [
    "# Generate new gold standards from chembl:\n",
    "from pyspark.sql import Window\n",
    "from pyspark.sql.types import StructType, StructField, StringType\n",
    "from pyspark.sql import SparkSession\n",
    "\n",
    "from pyspark.sql import Window\n",
    "from pyspark.sql.functions import row_number, desc, col\n",
    "\n",
    "from pyspark.sql.functions import explode\n",
    "import sys\n",
    "from gentropy.common.session import Session\n",
    "from pyspark.sql import functions as f\n",
    "\n",
    "#session=Session(\n",
    "#    extended_spark_conf={\"spark.driver.memory\": \"12g\", \"spark.kryoserializer.buffer.max\": \"500m\",\"spark.driver.maxResultSize\":\"3g\"}\n",
    "#    )\n",
    "\n",
    "from pyspark import SparkConf\n",
    "from pyspark.sql import SparkSession\n",
    "app_name = \"example_app\"\n",
    "CREDENTIALS = \"/Users/xg1/.config/gcloud/service_account_credentials.json\" \n",
    "\n",
    "\n",
    "GCS_CONNECTOR_CONF = {\n",
    "    \"spark.hadoop.fs.gs.impl\": \"com.google.cloud.hadoop.fs.gcs.GoogleHadoopFileSystem\",\n",
    "    \"spark.jars\": \"https://storage.googleapis.com/hadoop-lib/gcs/gcs-connector-hadoop3-latest.jar\",\n",
    "    \"spark.hadoop.google.cloud.auth.service.account.enable\": \"true\",\n",
    "    \"spark.hadoop.google.cloud.auth.service.account.json.keyfile\": CREDENTIALS,\n",
    "}\n",
    "\n",
    "extended_spark_conf = {\n",
    "    \"spark.driver.memory\": \"12g\",\n",
    "    \"spark.kryoserializer.buffer.max\": \"500m\",\n",
    "    \"spark.driver.maxResultSize\": \"3g\",\n",
    "}\n",
    "\n",
    "# Combine both configurations\n",
    "combined_conf = {**GCS_CONNECTOR_CONF, **extended_spark_conf}\n",
    "\n",
    "# Initialize SparkConf with the combined configuration\n",
    "spark_config = SparkConf().setAll(combined_conf.items())\n",
    "\n",
    "# Create the Spark session\n",
    "session = SparkSession.builder.config(conf=spark_config).appName(app_name).getOrCreate()"
   ]
  }
 ],
 "metadata": {
  "language_info": {
   "name": "python"
  }
 },
 "nbformat": 4,
 "nbformat_minor": 2
}
