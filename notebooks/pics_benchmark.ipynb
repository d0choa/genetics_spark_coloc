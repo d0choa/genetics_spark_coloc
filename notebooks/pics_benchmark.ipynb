{
 "cells": [
  {
   "cell_type": "markdown",
   "metadata": {},
   "source": [
    "# Benchmarking new PICS implementation\n",
    "\n",
    "The objective of this notebook is to compare the new implementation of PICS estimated on GWAS Catalog associations using gnomAD LD reference, against the previous implementation using 1000 genomes phase III LD reference. "
   ]
  },
  {
   "cell_type": "code",
   "execution_count": 4,
   "metadata": {},
   "outputs": [
    {
     "name": "stderr",
     "output_type": "stream",
     "text": [
      "Setting default log level to \"WARN\".\n",
      "To adjust logging level use sc.setLogLevel(newLevel). For SparkR, use setLogLevel(newLevel).\n",
      "22/12/08 20:24:10 INFO org.apache.spark.SparkEnv: Registering MapOutputTracker\n",
      "22/12/08 20:24:10 INFO org.apache.spark.SparkEnv: Registering BlockManagerMaster\n",
      "22/12/08 20:24:11 INFO org.apache.spark.SparkEnv: Registering BlockManagerMasterHeartbeat\n",
      "22/12/08 20:24:11 INFO org.apache.spark.SparkEnv: Registering OutputCommitCoordinator\n"
     ]
    }
   ],
   "source": [
    "import pyspark.sql.functions as f\n",
    "import pyspark.sql.types as t\n",
    "from pyspark.sql import SparkSession, DataFrame\n",
    "\n",
    "spark = SparkSession.builder.getOrCreate()"
   ]
  },
  {
   "cell_type": "code",
   "execution_count": 5,
   "metadata": {},
   "outputs": [
    {
     "name": "stderr",
     "output_type": "stream",
     "text": [
      "                                                                                \r"
     ]
    },
    {
     "name": "stdout",
     "output_type": "stream",
     "text": [
      "root\n",
      " |-- chromosome: string (nullable = true)\n",
      " |-- studyId: string (nullable = true)\n",
      " |-- variantId: string (nullable = true)\n",
      " |-- tagVariantId: string (nullable = true)\n",
      " |-- R_overall: double (nullable = true)\n",
      " |-- pics_mu: double (nullable = true)\n",
      " |-- pics_postprob: double (nullable = true)\n",
      " |-- pics_95_perc_credset: boolean (nullable = true)\n",
      " |-- pics_99_perc_credset: boolean (nullable = true)\n",
      "\n"
     ]
    }
   ],
   "source": [
    "new_study_locus = spark.read.parquet(\"gs://genetics_etl_python_playground/XX.XX/output/python_etl/parquet/pics_credible_set/\")\n",
    "new_study_locus.printSchema()"
   ]
  },
  {
   "cell_type": "markdown",
   "metadata": {},
   "source": [
    "## Observations on new study-locus dataset\n",
    "\n",
    "- Records lack chromosome or variantId information. (Expected due to the lack of the QC column)"
   ]
  },
  {
   "cell_type": "code",
   "execution_count": 6,
   "metadata": {},
   "outputs": [
    {
     "name": "stderr",
     "output_type": "stream",
     "text": [
      "                                                                                \r"
     ]
    },
    {
     "data": {
      "text/plain": [
       "71723"
      ]
     },
     "execution_count": 6,
     "metadata": {},
     "output_type": "execute_result"
    }
   ],
   "source": [
    "new_study_locus.filter(~(~f.col(\"variantId\").contains(\"rs\") & f.col(\"variantId\").isNotNull() & f.col(\"chromosome\").isNotNull())).count()"
   ]
  },
  {
   "cell_type": "code",
   "execution_count": 7,
   "metadata": {},
   "outputs": [],
   "source": [
    "new_study_locus_filtered = new_study_locus.filter(~f.col(\"variantId\").contains(\"rs\") & f.col(\"variantId\").isNotNull() & f.col(\"chromosome\").isNotNull())"
   ]
  },
  {
   "cell_type": "markdown",
   "metadata": {},
   "source": [
    "- Unexpected NaNs returned by numpy in postprob for majority of records. Surprisingly some are still `true` in the credset assesment."
   ]
  },
  {
   "cell_type": "code",
   "execution_count": 8,
   "metadata": {},
   "outputs": [
    {
     "name": "stdout",
     "output_type": "stream",
     "text": [
      "+----------+------------+---------------+----------------+----------+------------------+-------------+--------------------+--------------------+\n",
      "|chromosome|     studyId|      variantId|    tagVariantId| R_overall|           pics_mu|pics_postprob|pics_95_perc_credset|pics_99_perc_credset|\n",
      "+----------+------------+---------------+----------------+----------+------------------+-------------+--------------------+--------------------+\n",
      "|         1|GCST000083_9|1_159436169_T_C|1_159393815_C_CA|  0.844099| 8.121067838279345|          NaN|                true|                true|\n",
      "|         1|GCST000083_9|1_159436169_T_C| 1_159412117_A_G|  0.952546|10.341851135593762|          NaN|               false|               false|\n",
      "|         1|GCST000083_9|1_159436169_T_C| 1_159356328_C_T|  0.718341| 5.881494248066192|          NaN|               false|               false|\n",
      "|         1|GCST000083_9|1_159436169_T_C| 1_159406553_A_G| 81.166539| 75089.70916952091|          NaN|               false|               false|\n",
      "|         1|GCST000083_9|1_159436169_T_C| 1_159424290_T_C|  0.984271| 11.04220347866181|          NaN|               false|               false|\n",
      "|         1|GCST000083_9|1_159436169_T_C| 1_159347442_G_A|  0.720289|  5.91343641917694|          NaN|               false|               false|\n",
      "|         1|GCST000083_9|1_159436169_T_C| 1_159406113_C_T|  0.995503|11.295657436877418|          NaN|               false|               false|\n",
      "|         1|GCST000083_9|1_159436169_T_C| 1_159408203_T_G|  0.994227|11.266719258508088|          NaN|               false|               false|\n",
      "|         1|GCST000083_9|1_159436169_T_C| 1_159367695_T_C|  0.737932| 6.206675702344458|          NaN|               false|               false|\n",
      "|         1|GCST000083_9|1_159436169_T_C|1_159413878_TA_T|   0.98416|11.039713076173948|          NaN|               false|               false|\n",
      "|         1|GCST000083_9|1_159436169_T_C| 1_159545505_A_G|  0.823373| 7.727154750369663|          NaN|               false|               false|\n",
      "|         1|GCST000083_9|1_159436169_T_C| 1_159350569_T_A|  0.718691| 5.887226969650481|          NaN|               false|               false|\n",
      "|         1|GCST000083_9|1_159436169_T_C| 1_159483415_G_C|  0.982911|11.011709800167699|          NaN|               false|               false|\n",
      "|         1|GCST000083_9|1_159436169_T_C| 1_159387259_C_T|195.882845| 437339.9721538302|          NaN|               false|               false|\n",
      "|         1|GCST000083_9|1_159436169_T_C| 1_159394133_G_T|  0.995165|11.287988380996298|          NaN|               false|               false|\n",
      "|         1|GCST000083_9|1_159436169_T_C| 1_159413636_C_A|  0.983541|11.025830306381039|          NaN|               false|               false|\n",
      "|         1|GCST000083_9|1_159436169_T_C| 1_159403485_T_A|  0.993475|11.249682165978449|          NaN|               false|               false|\n",
      "|         1|GCST000083_9|1_159436169_T_C| 1_159450360_C_A|  0.783298| 6.993271708027363|          NaN|               false|               false|\n",
      "|         1|GCST000083_9|1_159436169_T_C| 1_159512419_A_G|  0.883664| 8.900218970732379|          NaN|               false|               false|\n",
      "|         1|GCST000083_9|1_159436169_T_C| 1_159316597_G_A|  0.739092| 6.226204338238765|          NaN|               false|               false|\n",
      "+----------+------------+---------------+----------------+----------+------------------+-------------+--------------------+--------------------+\n",
      "only showing top 20 rows\n",
      "\n"
     ]
    }
   ],
   "source": [
    "new_study_locus.filter(f.isnan(f.col(\"pics_postprob\"))).show()"
   ]
  },
  {
   "cell_type": "code",
   "execution_count": 9,
   "metadata": {},
   "outputs": [
    {
     "name": "stderr",
     "output_type": "stream",
     "text": [
      "                                                                                \r"
     ]
    },
    {
     "data": {
      "text/plain": [
       "34067544"
      ]
     },
     "execution_count": 9,
     "metadata": {},
     "output_type": "execute_result"
    }
   ],
   "source": [
    "new_study_locus.filter(f.isnan(f.col(\"pics_postprob\"))).count()"
   ]
  },
  {
   "cell_type": "markdown",
   "metadata": {},
   "source": [
    "# Comparing new credible sets with old credible sets"
   ]
  },
  {
   "cell_type": "code",
   "execution_count": 10,
   "metadata": {},
   "outputs": [
    {
     "name": "stderr",
     "output_type": "stream",
     "text": [
      "                                                                                \r"
     ]
    },
    {
     "data": {
      "text/plain": [
       "30330984"
      ]
     },
     "execution_count": 10,
     "metadata": {},
     "output_type": "execute_result"
    }
   ],
   "source": [
    "# All records\n",
    "new_study_locus_filtered.select(\"studyId\", \"variantId\", \"tagVariantID\").distinct().count()"
   ]
  },
  {
   "cell_type": "code",
   "execution_count": 11,
   "metadata": {},
   "outputs": [
    {
     "name": "stderr",
     "output_type": "stream",
     "text": [
      "                                                                                \r"
     ]
    },
    {
     "data": {
      "text/plain": [
       "34557"
      ]
     },
     "execution_count": 11,
     "metadata": {},
     "output_type": "execute_result"
    }
   ],
   "source": [
    "new_study_locus_filtered.select(\"studyId\").distinct().count()"
   ]
  },
  {
   "cell_type": "code",
   "execution_count": 12,
   "metadata": {},
   "outputs": [
    {
     "name": "stderr",
     "output_type": "stream",
     "text": [
      "                                                                                \r"
     ]
    },
    {
     "data": {
      "text/plain": [
       "22407"
      ]
     },
     "execution_count": 12,
     "metadata": {},
     "output_type": "execute_result"
    }
   ],
   "source": [
    "#Unique projects (GCST IDs)\n",
    "new_study_locus_filtered = new_study_locus_filtered.withColumn(\"projectId\", f.split(f.col(\"studyId\"), \"_\").getItem(0))\n",
    "new_study_locus_filtered.select(\"projectId\").distinct().count()"
   ]
  },
  {
   "cell_type": "code",
   "execution_count": 13,
   "metadata": {},
   "outputs": [
    {
     "name": "stderr",
     "output_type": "stream",
     "text": [
      "                                                                                \r"
     ]
    },
    {
     "data": {
      "text/plain": [
       "209911"
      ]
     },
     "execution_count": 13,
     "metadata": {},
     "output_type": "execute_result"
    }
   ],
   "source": [
    "# Unique variantIds, in new dataset\n",
    "new_study_locus_filtered.select(\"variantId\").distinct().count()"
   ]
  },
  {
   "cell_type": "code",
   "execution_count": 15,
   "metadata": {},
   "outputs": [],
   "source": [
    "old_study_locus = spark.read.parquet(\"gs://genetics-portal-dev-staging/v2d/220210/ld.parquet\")\n",
    "old_study_locus_ = old_study_locus.select(\"study_id\", f.concat_ws(\"_\", f.col(\"lead_chrom\"), f.col(\"lead_pos\"), f.col(\"lead_ref\"), f.col(\"lead_alt\")).alias(\"variantId\"), f.concat_ws(\"_\", f.col(\"tag_chrom\"), f.col(\"tag_pos\"), f.col(\"tag_ref\"), f.col(\"tag_alt\")).alias(\"tagVariantId\")).distinct()"
   ]
  },
  {
   "cell_type": "code",
   "execution_count": 16,
   "metadata": {},
   "outputs": [
    {
     "name": "stderr",
     "output_type": "stream",
     "text": [
      "                                                                                \r"
     ]
    },
    {
     "data": {
      "text/plain": [
       "19406516"
      ]
     },
     "execution_count": 16,
     "metadata": {},
     "output_type": "execute_result"
    }
   ],
   "source": [
    "# Unique records, in old dataset\n",
    "old_study_locus_.count()"
   ]
  },
  {
   "cell_type": "code",
   "execution_count": 17,
   "metadata": {},
   "outputs": [
    {
     "name": "stderr",
     "output_type": "stream",
     "text": [
      "                                                                                \r"
     ]
    },
    {
     "data": {
      "text/plain": [
       "8190"
      ]
     },
     "execution_count": 17,
     "metadata": {},
     "output_type": "execute_result"
    }
   ],
   "source": [
    "# Unique projects (GCST IDs)\n",
    "old_study_locus_ = old_study_locus_.withColumn(\"projectId\", f.split(f.col(\"study_id\"), \"_\").getItem(0))\n",
    "old_study_locus_.select(\"projectId\").distinct().count()"
   ]
  },
  {
   "cell_type": "code",
   "execution_count": 18,
   "metadata": {},
   "outputs": [
    {
     "name": "stderr",
     "output_type": "stream",
     "text": [
      "                                                                                \r"
     ]
    },
    {
     "data": {
      "text/plain": [
       "18349"
      ]
     },
     "execution_count": 18,
     "metadata": {},
     "output_type": "execute_result"
    }
   ],
   "source": [
    "# Unique studyIds, in old dataset\n",
    "old_study_locus_.select(\"study_id\").distinct().count()"
   ]
  },
  {
   "cell_type": "code",
   "execution_count": 19,
   "metadata": {},
   "outputs": [
    {
     "name": "stderr",
     "output_type": "stream",
     "text": [
      "                                                                                \r"
     ]
    },
    {
     "data": {
      "text/plain": [
       "126076"
      ]
     },
     "execution_count": 19,
     "metadata": {},
     "output_type": "execute_result"
    }
   ],
   "source": [
    "# Unique variantIds, in old dataset\n",
    "old_study_locus_.select(\"variantId\").distinct().count()"
   ]
  },
  {
   "cell_type": "markdown",
   "metadata": {},
   "source": [
    "# Compare old and new in overlapping projects"
   ]
  },
  {
   "cell_type": "code",
   "execution_count": 20,
   "metadata": {},
   "outputs": [],
   "source": [
    "olderProjects_newStudyLocus =new_study_locus_filtered.join(old_study_locus_.select(\"projectId\").distinct(), on=[\"projectId\"], how=\"inner\")"
   ]
  },
  {
   "cell_type": "code",
   "execution_count": 21,
   "metadata": {},
   "outputs": [
    {
     "name": "stderr",
     "output_type": "stream",
     "text": [
      "                                                                                \r"
     ]
    },
    {
     "data": {
      "text/plain": [
       "26944342"
      ]
     },
     "execution_count": 21,
     "metadata": {},
     "output_type": "execute_result"
    }
   ],
   "source": [
    "# Total records\n",
    "olderProjects_newStudyLocus.count()"
   ]
  },
  {
   "cell_type": "code",
   "execution_count": 22,
   "metadata": {},
   "outputs": [
    {
     "name": "stderr",
     "output_type": "stream",
     "text": [
      "                                                                                \r"
     ]
    },
    {
     "data": {
      "text/plain": [
       "17161"
      ]
     },
     "execution_count": 22,
     "metadata": {},
     "output_type": "execute_result"
    }
   ],
   "source": [
    "# unique studies\n",
    "olderProjects_newStudyLocus.select(\"studyId\").distinct().count()"
   ]
  },
  {
   "cell_type": "code",
   "execution_count": 23,
   "metadata": {},
   "outputs": [
    {
     "name": "stderr",
     "output_type": "stream",
     "text": [
      "                                                                                \r"
     ]
    },
    {
     "data": {
      "text/plain": [
       "152722"
      ]
     },
     "execution_count": 23,
     "metadata": {},
     "output_type": "execute_result"
    }
   ],
   "source": [
    "# unique variants\n",
    "olderProjects_newStudyLocus.select(\"variantId\").distinct().count()"
   ]
  },
  {
   "cell_type": "markdown",
   "metadata": {},
   "source": [
    "TODO: once posterior probabilities and credible sets are properly calculated compare the numbers. At the moment the NEW results don't filter credible sets (tags) at any confindence level 95 / 99"
   ]
  }
 ],
 "metadata": {
  "kernelspec": {
   "display_name": "Python 3.8.13 ('otgenetics-Izsk1Unf-py3.8')",
   "language": "python",
   "name": "python3"
  },
  "language_info": {
   "codemirror_mode": {
    "name": "ipython",
    "version": 3
   },
   "file_extension": ".py",
   "mimetype": "text/x-python",
   "name": "python",
   "nbconvert_exporter": "python",
   "pygments_lexer": "ipython3",
   "version": "3.8.13"
  },
  "orig_nbformat": 4,
  "vscode": {
   "interpreter": {
    "hash": "65d1ad17e0c3f1a15bdc3145a5bbc74580a5de1fbf3ee3cad09cc91db559d943"
   }
  }
 },
 "nbformat": 4,
 "nbformat_minor": 2
}
