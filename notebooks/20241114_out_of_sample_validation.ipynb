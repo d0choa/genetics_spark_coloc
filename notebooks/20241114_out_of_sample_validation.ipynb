{
 "cells": [
  {
   "cell_type": "code",
   "execution_count": 1,
   "metadata": {},
   "outputs": [
    {
     "name": "stdout",
     "output_type": "stream",
     "text": [
      "Your browser has been opened to visit:\n",
      "\n",
      "    https://accounts.google.com/o/oauth2/auth?response_type=code&client_id=764086051850-6qr4p6gpi6hn506pt8ejuq83di341hur.apps.googleusercontent.com&redirect_uri=http%3A%2F%2Flocalhost%3A8085%2F&scope=openid+https%3A%2F%2Fwww.googleapis.com%2Fauth%2Fuserinfo.email+https%3A%2F%2Fwww.googleapis.com%2Fauth%2Fcloud-platform+https%3A%2F%2Fwww.googleapis.com%2Fauth%2Fsqlservice.login&state=7onFlF604Uxyxhb70LgltvvnCbVA61&access_type=offline&code_challenge=eEAR92ebXgOfrJlQNpENO0agt-uwLjiP1bm0mwCsecs&code_challenge_method=S256\n",
      "\n",
      "\n",
      "Credentials saved to file: [/Users/yt4/.config/gcloud/application_default_credentials.json]\n",
      "\n",
      "These credentials will be used by any library that requests Application Default Credentials (ADC).\n",
      "\n",
      "Quota project \"open-targets-genetics-dev\" was added to ADC which can be used by Google client libraries for billing and quota. Note that some services may still bill the project owning the resource.\n",
      "\n",
      "\n",
      "Updates are available for some Google Cloud CLI components.  To install them,\n",
      "please run:\n",
      "  $ gcloud components update\n",
      "\n"
     ]
    }
   ],
   "source": [
    "!gcloud auth application-default login"
   ]
  },
  {
   "cell_type": "code",
   "execution_count": 2,
   "metadata": {},
   "outputs": [
    {
     "name": "stdout",
     "output_type": "stream",
     "text": [
      "Your browser has been opened to visit:\n",
      "\n",
      "    https://accounts.google.com/o/oauth2/auth?response_type=code&client_id=32555940559.apps.googleusercontent.com&redirect_uri=http%3A%2F%2Flocalhost%3A8085%2F&scope=openid+https%3A%2F%2Fwww.googleapis.com%2Fauth%2Fuserinfo.email+https%3A%2F%2Fwww.googleapis.com%2Fauth%2Fcloud-platform+https%3A%2F%2Fwww.googleapis.com%2Fauth%2Fappengine.admin+https%3A%2F%2Fwww.googleapis.com%2Fauth%2Fsqlservice.login+https%3A%2F%2Fwww.googleapis.com%2Fauth%2Fcompute+https%3A%2F%2Fwww.googleapis.com%2Fauth%2Faccounts.reauth&state=bjBqTEjFWwLVv2CiaIhjeX6JXFEkxX&access_type=offline&code_challenge=23SZlu1VQ9jtNcaxKIe8LchkWY_PsnmoEIvV0aXyJps&code_challenge_method=S256\n",
      "\n",
      "\n",
      "You are now logged in as [yt4@sanger.ac.uk].\n",
      "Your current project is [open-targets-genetics-dev].  You can change this setting by running:\n",
      "  $ gcloud config set project PROJECT_ID\n"
     ]
    }
   ],
   "source": [
    "!gcloud auth login"
   ]
  },
  {
   "cell_type": "code",
   "execution_count": 3,
   "metadata": {},
   "outputs": [
    {
     "data": {
      "text/html": [
       "    <style>\n",
       "        .bk-notebook-logo {\n",
       "            display: block;\n",
       "            width: 20px;\n",
       "            height: 20px;\n",
       "            background-image: url(data:image/png;base64,iVBORw0KGgoAAAANSUhEUgAAABQAAAAUCAYAAACNiR0NAAAABHNCSVQICAgIfAhkiAAAAAlwSFlzAAALEgAACxIB0t1+/AAAABx0RVh0U29mdHdhcmUAQWRvYmUgRmlyZXdvcmtzIENTNui8sowAAAOkSURBVDiNjZRtaJVlGMd/1/08zzln5zjP1LWcU9N0NkN8m2CYjpgQYQXqSs0I84OLIC0hkEKoPtiH3gmKoiJDU7QpLgoLjLIQCpEsNJ1vqUOdO7ppbuec5+V+rj4ctwzd8IIbbi6u+8f1539dt3A78eXC7QizUF7gyV1fD1Yqg4JWz84yffhm0qkFqBogB9rM8tZdtwVsPUhWhGcFJngGeWrPzHm5oaMmkfEg1usvLFyc8jLRqDOMru7AyC8saQr7GG7f5fvDeH7Ej8CM66nIF+8yngt6HWaKh7k49Soy9nXurCi1o3qUbS3zWfrYeQDTB/Qj6kX6Ybhw4B+bOYoLKCC9H3Nu/leUTZ1JdRWkkn2ldcCamzrcf47KKXdAJllSlxAOkRgyHsGC/zRday5Qld9DyoM4/q/rUoy/CXh3jzOu3bHUVZeU+DEn8FInkPBFlu3+nW3Nw0mk6vCDiWg8CeJaxEwuHS3+z5RgY+YBR6V1Z1nxSOfoaPa4LASWxxdNp+VWTk7+4vzaou8v8PN+xo+KY2xsw6une2frhw05CTYOmQvsEhjhWjn0bmXPjpE1+kplmmkP3suftwTubK9Vq22qKmrBhpY4jvd5afdRA3wGjFAgcnTK2s4hY0/GPNIb0nErGMCRxWOOX64Z8RAC4oCXdklmEvcL8o0BfkNK4lUg9HTl+oPlQxdNo3Mg4Nv175e/1LDGzZen30MEjRUtmXSfiTVu1kK8W4txyV6BMKlbgk3lMwYCiusNy9fVfvvwMxv8Ynl6vxoByANLTWplvuj/nF9m2+PDtt1eiHPBr1oIfhCChQMBw6Aw0UulqTKZdfVvfG7VcfIqLG9bcldL/+pdWTLxLUy8Qq38heUIjh4XlzZxzQm19lLFlr8vdQ97rjZVOLf8nclzckbcD4wxXMidpX30sFd37Fv/GtwwhzhxGVAprjbg0gCAEeIgwCZyTV2Z1REEW8O4py0wsjeloKoMr6iCY6dP92H6Vw/oTyICIthibxjm/DfN9lVz8IqtqKYLUXfoKVMVQVVJOElGjrnnUt9T9wbgp8AyYKaGlqingHZU/uG2NTZSVqwHQTWkx9hxjkpWDaCg6Ckj5qebgBVbT3V3NNXMSiWSDdGV3hrtzla7J+duwPOToIg42ChPQOQjspnSlp1V+Gjdged7+8UN5CRAV7a5EdFNwCjEaBR27b3W890TE7g24NAP/mMDXRWrGoFPQI9ls/MWO2dWFAar/xcOIImbbpA3zgAAAABJRU5ErkJggg==);\n",
       "        }\n",
       "    </style>\n",
       "    <div>\n",
       "        <a href=\"https://bokeh.org\" target=\"_blank\" class=\"bk-notebook-logo\"></a>\n",
       "        <span id=\"b4e5685b-5cb1-4e7a-889e-a8166411fb7b\">Loading BokehJS ...</span>\n",
       "    </div>\n"
      ]
     },
     "metadata": {},
     "output_type": "display_data"
    },
    {
     "data": {
      "application/javascript": "'use strict';\n(function(root) {\n  function now() {\n    return new Date();\n  }\n\n  const force = true;\n\n  if (typeof root._bokeh_onload_callbacks === \"undefined\" || force === true) {\n    root._bokeh_onload_callbacks = [];\n    root._bokeh_is_loading = undefined;\n  }\n\nconst JS_MIME_TYPE = 'application/javascript';\n  const HTML_MIME_TYPE = 'text/html';\n  const EXEC_MIME_TYPE = 'application/vnd.bokehjs_exec.v0+json';\n  const CLASS_NAME = 'output_bokeh rendered_html';\n\n  /**\n   * Render data to the DOM node\n   */\n  function render(props, node) {\n    const script = document.createElement(\"script\");\n    node.appendChild(script);\n  }\n\n  /**\n   * Handle when an output is cleared or removed\n   */\n  function handleClearOutput(event, handle) {\n    function drop(id) {\n      const view = Bokeh.index.get_by_id(id)\n      if (view != null) {\n        view.model.document.clear()\n        Bokeh.index.delete(view)\n      }\n    }\n\n    const cell = handle.cell;\n\n    const id = cell.output_area._bokeh_element_id;\n    const server_id = cell.output_area._bokeh_server_id;\n\n    // Clean up Bokeh references\n    if (id != null) {\n      drop(id)\n    }\n\n    if (server_id !== undefined) {\n      // Clean up Bokeh references\n      const cmd_clean = \"from bokeh.io.state import curstate; print(curstate().uuid_to_server['\" + server_id + \"'].get_sessions()[0].document.roots[0]._id)\";\n      cell.notebook.kernel.execute(cmd_clean, {\n        iopub: {\n          output: function(msg) {\n            const id = msg.content.text.trim()\n            drop(id)\n          }\n        }\n      });\n      // Destroy server and session\n      const cmd_destroy = \"import bokeh.io.notebook as ion; ion.destroy_server('\" + server_id + \"')\";\n      cell.notebook.kernel.execute(cmd_destroy);\n    }\n  }\n\n  /**\n   * Handle when a new output is added\n   */\n  function handleAddOutput(event, handle) {\n    const output_area = handle.output_area;\n    const output = handle.output;\n\n    // limit handleAddOutput to display_data with EXEC_MIME_TYPE content only\n    if ((output.output_type != \"display_data\") || (!Object.prototype.hasOwnProperty.call(output.data, EXEC_MIME_TYPE))) {\n      return\n    }\n\n    const toinsert = output_area.element.find(\".\" + CLASS_NAME.split(' ')[0]);\n\n    if (output.metadata[EXEC_MIME_TYPE][\"id\"] !== undefined) {\n      toinsert[toinsert.length - 1].firstChild.textContent = output.data[JS_MIME_TYPE];\n      // store reference to embed id on output_area\n      output_area._bokeh_element_id = output.metadata[EXEC_MIME_TYPE][\"id\"];\n    }\n    if (output.metadata[EXEC_MIME_TYPE][\"server_id\"] !== undefined) {\n      const bk_div = document.createElement(\"div\");\n      bk_div.innerHTML = output.data[HTML_MIME_TYPE];\n      const script_attrs = bk_div.children[0].attributes;\n      for (let i = 0; i < script_attrs.length; i++) {\n        toinsert[toinsert.length - 1].firstChild.setAttribute(script_attrs[i].name, script_attrs[i].value);\n        toinsert[toinsert.length - 1].firstChild.textContent = bk_div.children[0].textContent\n      }\n      // store reference to server id on output_area\n      output_area._bokeh_server_id = output.metadata[EXEC_MIME_TYPE][\"server_id\"];\n    }\n  }\n\n  function register_renderer(events, OutputArea) {\n\n    function append_mime(data, metadata, element) {\n      // create a DOM node to render to\n      const toinsert = this.create_output_subarea(\n        metadata,\n        CLASS_NAME,\n        EXEC_MIME_TYPE\n      );\n      this.keyboard_manager.register_events(toinsert);\n      // Render to node\n      const props = {data: data, metadata: metadata[EXEC_MIME_TYPE]};\n      render(props, toinsert[toinsert.length - 1]);\n      element.append(toinsert);\n      return toinsert\n    }\n\n    /* Handle when an output is cleared or removed */\n    events.on('clear_output.CodeCell', handleClearOutput);\n    events.on('delete.Cell', handleClearOutput);\n\n    /* Handle when a new output is added */\n    events.on('output_added.OutputArea', handleAddOutput);\n\n    /**\n     * Register the mime type and append_mime function with output_area\n     */\n    OutputArea.prototype.register_mime_type(EXEC_MIME_TYPE, append_mime, {\n      /* Is output safe? */\n      safe: true,\n      /* Index of renderer in `output_area.display_order` */\n      index: 0\n    });\n  }\n\n  // register the mime type if in Jupyter Notebook environment and previously unregistered\n  if (root.Jupyter !== undefined) {\n    const events = require('base/js/events');\n    const OutputArea = require('notebook/js/outputarea').OutputArea;\n\n    if (OutputArea.prototype.mime_types().indexOf(EXEC_MIME_TYPE) == -1) {\n      register_renderer(events, OutputArea);\n    }\n  }\n  if (typeof (root._bokeh_timeout) === \"undefined\" || force === true) {\n    root._bokeh_timeout = Date.now() + 5000;\n    root._bokeh_failed_load = false;\n  }\n\n  const NB_LOAD_WARNING = {'data': {'text/html':\n     \"<div style='background-color: #fdd'>\\n\"+\n     \"<p>\\n\"+\n     \"BokehJS does not appear to have successfully loaded. If loading BokehJS from CDN, this \\n\"+\n     \"may be due to a slow or bad network connection. Possible fixes:\\n\"+\n     \"</p>\\n\"+\n     \"<ul>\\n\"+\n     \"<li>re-rerun `output_notebook()` to attempt to load from CDN again, or</li>\\n\"+\n     \"<li>use INLINE resources instead, as so:</li>\\n\"+\n     \"</ul>\\n\"+\n     \"<code>\\n\"+\n     \"from bokeh.resources import INLINE\\n\"+\n     \"output_notebook(resources=INLINE)\\n\"+\n     \"</code>\\n\"+\n     \"</div>\"}};\n\n  function display_loaded(error = null) {\n    const el = document.getElementById(\"b4e5685b-5cb1-4e7a-889e-a8166411fb7b\");\n    if (el != null) {\n      const html = (() => {\n        if (typeof root.Bokeh === \"undefined\") {\n          if (error == null) {\n            return \"BokehJS is loading ...\";\n          } else {\n            return \"BokehJS failed to load.\";\n          }\n        } else {\n          const prefix = `BokehJS ${root.Bokeh.version}`;\n          if (error == null) {\n            return `${prefix} successfully loaded.`;\n          } else {\n            return `${prefix} <b>encountered errors</b> while loading and may not function as expected.`;\n          }\n        }\n      })();\n      el.innerHTML = html;\n\n      if (error != null) {\n        const wrapper = document.createElement(\"div\");\n        wrapper.style.overflow = \"auto\";\n        wrapper.style.height = \"5em\";\n        wrapper.style.resize = \"vertical\";\n        const content = document.createElement(\"div\");\n        content.style.fontFamily = \"monospace\";\n        content.style.whiteSpace = \"pre-wrap\";\n        content.style.backgroundColor = \"rgb(255, 221, 221)\";\n        content.textContent = error.stack ?? error.toString();\n        wrapper.append(content);\n        el.append(wrapper);\n      }\n    } else if (Date.now() < root._bokeh_timeout) {\n      setTimeout(() => display_loaded(error), 100);\n    }\n  }\n\n  function run_callbacks() {\n    try {\n      root._bokeh_onload_callbacks.forEach(function(callback) {\n        if (callback != null)\n          callback();\n      });\n    } finally {\n      delete root._bokeh_onload_callbacks\n    }\n    console.debug(\"Bokeh: all callbacks have finished\");\n  }\n\n  function load_libs(css_urls, js_urls, callback) {\n    if (css_urls == null) css_urls = [];\n    if (js_urls == null) js_urls = [];\n\n    root._bokeh_onload_callbacks.push(callback);\n    if (root._bokeh_is_loading > 0) {\n      console.debug(\"Bokeh: BokehJS is being loaded, scheduling callback at\", now());\n      return null;\n    }\n    if (js_urls == null || js_urls.length === 0) {\n      run_callbacks();\n      return null;\n    }\n    console.debug(\"Bokeh: BokehJS not loaded, scheduling load and callback at\", now());\n    root._bokeh_is_loading = css_urls.length + js_urls.length;\n\n    function on_load() {\n      root._bokeh_is_loading--;\n      if (root._bokeh_is_loading === 0) {\n        console.debug(\"Bokeh: all BokehJS libraries/stylesheets loaded\");\n        run_callbacks()\n      }\n    }\n\n    function on_error(url) {\n      console.error(\"failed to load \" + url);\n    }\n\n    for (let i = 0; i < css_urls.length; i++) {\n      const url = css_urls[i];\n      const element = document.createElement(\"link\");\n      element.onload = on_load;\n      element.onerror = on_error.bind(null, url);\n      element.rel = \"stylesheet\";\n      element.type = \"text/css\";\n      element.href = url;\n      console.debug(\"Bokeh: injecting link tag for BokehJS stylesheet: \", url);\n      document.body.appendChild(element);\n    }\n\n    for (let i = 0; i < js_urls.length; i++) {\n      const url = js_urls[i];\n      const element = document.createElement('script');\n      element.onload = on_load;\n      element.onerror = on_error.bind(null, url);\n      element.async = false;\n      element.src = url;\n      console.debug(\"Bokeh: injecting script tag for BokehJS library: \", url);\n      document.head.appendChild(element);\n    }\n  };\n\n  function inject_raw_css(css) {\n    const element = document.createElement(\"style\");\n    element.appendChild(document.createTextNode(css));\n    document.body.appendChild(element);\n  }\n\n  const js_urls = [\"https://cdn.bokeh.org/bokeh/release/bokeh-3.4.1.min.js\", \"https://cdn.bokeh.org/bokeh/release/bokeh-gl-3.4.1.min.js\", \"https://cdn.bokeh.org/bokeh/release/bokeh-widgets-3.4.1.min.js\", \"https://cdn.bokeh.org/bokeh/release/bokeh-tables-3.4.1.min.js\", \"https://cdn.bokeh.org/bokeh/release/bokeh-mathjax-3.4.1.min.js\"];\n  const css_urls = [];\n\n  const inline_js = [    function(Bokeh) {\n      Bokeh.set_log_level(\"info\");\n    },\nfunction(Bokeh) {\n    }\n  ];\n\n  function run_inline_js() {\n    if (root.Bokeh !== undefined || force === true) {\n      try {\n            for (let i = 0; i < inline_js.length; i++) {\n      inline_js[i].call(root, root.Bokeh);\n    }\n\n      } catch (error) {display_loaded(error);throw error;\n      }if (force === true) {\n        display_loaded();\n      }} else if (Date.now() < root._bokeh_timeout) {\n      setTimeout(run_inline_js, 100);\n    } else if (!root._bokeh_failed_load) {\n      console.log(\"Bokeh: BokehJS failed to load within specified timeout.\");\n      root._bokeh_failed_load = true;\n    } else if (force !== true) {\n      const cell = $(document.getElementById(\"b4e5685b-5cb1-4e7a-889e-a8166411fb7b\")).parents('.cell').data().cell;\n      cell.output_area.append_execute_result(NB_LOAD_WARNING)\n    }\n  }\n\n  if (root._bokeh_is_loading === 0) {\n    console.debug(\"Bokeh: BokehJS loaded, going straight to plotting\");\n    run_inline_js();\n  } else {\n    load_libs(css_urls, js_urls, function() {\n      console.debug(\"Bokeh: BokehJS plotting callback run at\", now());\n      run_inline_js();\n    });\n  }\n}(window));",
      "application/vnd.bokehjs_load.v0+json": ""
     },
     "metadata": {},
     "output_type": "display_data"
    },
    {
     "name": "stdout",
     "output_type": "stream",
     "text": [
      "24/11/18 09:56:36 WARN NativeCodeLoader: Unable to load native-hadoop library for your platform... using builtin-java classes where applicable\n"
     ]
    },
    {
     "name": "stderr",
     "output_type": "stream",
     "text": [
      "Setting default log level to \"WARN\".\n",
      "To adjust logging level use sc.setLogLevel(newLevel). For SparkR, use setLogLevel(newLevel).\n",
      "pip-installed Hail requires additional configuration options in Spark referring\n",
      "  to the path to the Hail Python module directory HAIL_DIR,\n",
      "  e.g. /path/to/python/site-packages/hail:\n",
      "    spark.jars=HAIL_DIR/backend/hail-all-spark.jar\n",
      "    spark.driver.extraClassPath=HAIL_DIR/backend/hail-all-spark.jar\n",
      "    spark.executor.extraClassPath=./hail-all-spark.jarRunning on Apache Spark version 3.3.4\n",
      "SparkUI available at http://mib118093s:4040\n",
      "Welcome to\n",
      "     __  __     <>__\n",
      "    / /_/ /__  __/ /\n",
      "   / __  / _ `/ / /\n",
      "  /_/ /_/\\_,_/_/_/   version 0.2.127-bb535cd096c5\n",
      "LOGGING: writing to /dev/null\n"
     ]
    }
   ],
   "source": [
    "import os\n",
    "\n",
    "import hail as hl\n",
    "import numpy as np\n",
    "import pyspark.sql.functions as f\n",
    "from pyspark.sql import DataFrame\n",
    "\n",
    "from gentropy.common.session import Session\n",
    "from gentropy.dataset.study_index import StudyIndex\n",
    "from gentropy.dataset.summary_statistics import SummaryStatistics\n",
    "from gentropy.dataset.study_locus import StudyLocus\n",
    "from gentropy.susie_finemapper import SusieFineMapperStep\n",
    "\n",
    "hail_dir = os.path.dirname(hl.__file__)\n",
    "session = Session(hail_home=hail_dir, start_hail=True, extended_spark_conf={\n",
    "    \"spark.driver.memory\": \"12g\",\"spark.kryoserializer.buffer.max\": \"500m\",\"spark.driver.maxResultSize\":\"2g\",\n",
    "    'spark.hadoop.fs.gs.requester.pays.buckets': 'requester-pays-bucket1,requester-pays-bucket2',\n",
    "    'spark.hadoop.fs.gs.requester.pays.project.id': 'open-targets-genetics-dev',\n",
    "    \"spark.hadoop.fs.gs.requester.pays.mode\":\"AUTO\"})"
   ]
  },
  {
   "cell_type": "code",
   "execution_count": null,
   "metadata": {},
   "outputs": [],
   "source": []
  },
  {
   "cell_type": "code",
   "execution_count": 4,
   "metadata": {},
   "outputs": [],
   "source": [
    "def validate_pred(\n",
    "    valid_set,\n",
    "    prediction_set,\n",
    "    score_column,\n",
    "    gsp_colum,\n",
    "    positive,\n",
    "    score_thr,\n",
    "):\n",
    "    valid_set=valid_set.join(prediction_set, on=[\"studyLocusId\",\"geneId\"], how=\"left\").cache()\n",
    "    valid_set=valid_set.fillna(0)\n",
    "    df=(valid_set.select(score_column,gsp_colum)\n",
    "        .withColumn(\"gsp_status\", f.when(f.col(gsp_colum)==positive,1).otherwise(0))\n",
    "        .withColumn(\n",
    "        \"score_to_use\",\n",
    "        f.when(f.col(score_column) >= score_thr, 1).otherwise(0)\n",
    "        )\n",
    "        .drop(gsp_colum,score_column)\n",
    "        .cache())\n",
    "\n",
    "    counts_df = df.groupBy(\"gsp_status\", \"score_to_use\").agg(f.count(\"*\").alias(\"count\"))\n",
    "    counts = { (row.gsp_status, row.score_to_use): row['count'] for row in counts_df.collect() }\n",
    "    count_1_1 = counts.get((1, 1), 0)\n",
    "    count_1_0 = counts.get((1, 0), 0)\n",
    "    count_0_1 = counts.get((0, 1), 0)\n",
    "    count_0_0 = counts.get((0, 0), 0)\n",
    "    TP=count_1_1\n",
    "    FP=count_0_1\n",
    "    TN=count_0_0\n",
    "    FN=count_1_0\n",
    "    # Print the results\n",
    "    print(f\"Prec: {round(TP/(TP+FP),2)}\")\n",
    "    print(f\"Sens: {round(TP/(TP+FN),2)}\")\n",
    "    print(f\"Sele: {round(TN/(FP+TN),2)}\")"
   ]
  },
  {
   "cell_type": "code",
   "execution_count": null,
   "metadata": {},
   "outputs": [],
   "source": [
    "def MAIN(filtered_l2g,thr=0.5):\n",
    "\n",
    "    filtered_df = filtered_l2g.filter(f.col(\"score\") >= thr).select(\"studyLocusId\")\n",
    "\n",
    "    # Step 2: Group by studyLocusId and count occurrences\n",
    "    grouped_df = filtered_df.groupBy(\"studyLocusId\").count()\n",
    "\n",
    "    grouped_df=grouped_df.withColumnRenamed(\"count\",\"count_studyLocusId\")\n",
    "    # Step 3: Aggregate the counts\n",
    "    result_df = grouped_df.groupBy(\"count_studyLocusId\").count().cache()\n",
    "    # Show the results\n",
    "    #result_df.show(truncate=False)\n",
    "\n",
    "    # Calculate the number of instances\n",
    "    only_once = result_df.filter(f.col(\"count_studyLocusId\") == 1).select(f.sum(\"count\")).collect()[0][0]\n",
    "    twice = result_df.filter(f.col(\"count_studyLocusId\") == 2).select(f.sum(\"count\")).collect()[0][0]\n",
    "    more_than_twice = result_df.filter(f.col(\"count_studyLocusId\") > 2).select(f.sum(\"count\")).collect()[0][0]\n",
    "\n",
    "    # Print the results\n",
    "    print(f\"1 per cs: {only_once}\")\n",
    "    print(f\"2 per cs: {twice}\")\n",
    "    print(f\">2 per cs: {more_than_twice}\")\n",
    "\n",
    "    # INSAMPLE VALIDATION\n",
    "    print(\"\")\n",
    "    print(\"\")\n",
    "    print(\"training_v5_sum_col_string_filtered\")\n",
    "    path=\"gs://genetics-portal-dev-analysis/yt4/20241024_EGL_playground/training_set/training_v5_sum_col_string_filtered.json\"\n",
    "    valid_set=session.spark.read.json(path)\n",
    "    validate_pred(\n",
    "        valid_set=valid_set,\n",
    "        prediction_set=filtered_l2g,\n",
    "        score_column=\"score\",\n",
    "        gsp_colum=\"goldStandardSet\",\n",
    "        positive=\"positive\",\n",
    "        score_thr=thr,\n",
    "    )\n",
    "\n",
    "    print(\"\")\n",
    "    print(\"\")\n",
    "    # insample validation\n",
    "    print(\"training_v5_1_sum_col_string_filtered\")\n",
    "    path=\"gs://genetics-portal-dev-analysis/yt4/20241024_EGL_playground/training_set/training_v5_1_sum_col_string_filtered.tsv\"\n",
    "    valid_set=session.spark.read.csv(path,sep=\"\\t\",header=True)\n",
    "    valid_set_to_remove=valid_set.cache()\n",
    "    validate_pred(\n",
    "        valid_set=valid_set,\n",
    "        prediction_set=filtered_l2g,\n",
    "        score_column=\"score\",\n",
    "        gsp_colum=\"GSP\",\n",
    "        positive=1,\n",
    "        score_thr=thr,\n",
    "    )\n",
    "\n",
    "    print(\"\")\n",
    "    print(\"\")\n",
    "    # out-of-sample validation 1\n",
    "    print(\"training_v5_1_sum_col_string_filtered_full\")\n",
    "    path=\"gs://genetics-portal-dev-analysis/yt4/20241024_EGL_playground/training_set/training_v5_1_sum_col_string_filtered_full.tsv\"\n",
    "    valid_set=session.spark.read.csv(path,sep=\"\\t\",header=True)\n",
    "    validate_pred(\n",
    "        valid_set=valid_set,\n",
    "        prediction_set=filtered_l2g,\n",
    "        score_column=\"score\",\n",
    "        gsp_colum=\"GSP\",\n",
    "        positive=1,\n",
    "        score_thr=thr,\n",
    "    )\n",
    "\n",
    "    print(\"\")\n",
    "    print(\"\")\n",
    "    # out-of-sample validation 1\n",
    "    print(\"training_v5_1_sum_col_string_filtered_full - 5.1_train\")\n",
    "    path=\"gs://genetics-portal-dev-analysis/yt4/20241024_EGL_playground/training_set/training_v5_1_sum_col_string_filtered_full.tsv\"\n",
    "    valid_set=session.spark.read.csv(path,sep=\"\\t\",header=True)\n",
    "    filtered_valid_set = valid_set.join(\n",
    "        valid_set_to_remove.select(\"studyLocusId\", \"geneId\"),\n",
    "        on=[\"studyLocusId\", \"geneId\"],\n",
    "        how=\"left_anti\"\n",
    "    )   \n",
    "    validate_pred(\n",
    "        valid_set=filtered_valid_set,\n",
    "        prediction_set=filtered_l2g,\n",
    "        score_column=\"score\",\n",
    "        gsp_colum=\"GSP\",\n",
    "        positive=1,\n",
    "        score_thr=thr,\n",
    "    )\n",
    "\n",
    "    print(\"\")\n",
    "    print(\"\")\n",
    "    # out-of-sample validation 2\n",
    "    print(\"featureMatrix_12_72e1caafae1514639eeb\")\n",
    "    path=\"gs://genetics-portal-dev-analysis/yt4/20241024_EGL_playground/training_set/featureMatrix_12_72e1caafae1514639eeb.table.json\"\n",
    "    valid_set=session.spark.read.json(path)\n",
    "    columns = valid_set.select(\"columns\").first()[0]\n",
    "    data = valid_set.select(\"data\").first()[0]\n",
    "    new_df = session.spark.createDataFrame(data, schema=columns)\n",
    "    new_df.cache()\n",
    "    validate_pred(\n",
    "        valid_set=new_df,\n",
    "        prediction_set=filtered_l2g,\n",
    "        score_column=\"score\",\n",
    "        gsp_colum=\"goldStandardSet\",\n",
    "        positive=\"positive\",\n",
    "        score_thr=thr,\n",
    "    )\n",
    "\n",
    "    print(\"\")\n",
    "    print(\"\")\n",
    "    # out-of-sample validation 4\n",
    "    print(\"featureMatrix_12_72e1caafae1514639eeb -5.1_train\")\n",
    "    filtered_valid_set = new_df.join(\n",
    "        valid_set_to_remove.select(\"studyLocusId\", \"geneId\"),\n",
    "        on=[\"studyLocusId\", \"geneId\"],\n",
    "        how=\"left_anti\"\n",
    "    )\n",
    "    validate_pred(\n",
    "        valid_set=filtered_valid_set,\n",
    "        prediction_set=filtered_l2g,\n",
    "        score_column=\"score\",\n",
    "        gsp_colum=\"goldStandardSet\",\n",
    "        positive=\"positive\",\n",
    "        score_thr=thr,\n",
    "    )   \n",
    "\n",
    "    print(\"\")\n",
    "    print(\"\")\n",
    "    # out-of-sample validation 5\n",
    "    print(\"EGL_training_set_2410_freeze7_stringent_distribution_unbiased\")\n",
    "    path=\"gs://genetics-portal-dev-analysis/xg1/Chembl_l2g_goldstandards/EGL_training_set_2410_freeze7_stringent_distribution_unbiased.parquet\"\n",
    "    valid_set=session.spark.read.parquet(path)\n",
    "    validate_pred(\n",
    "        valid_set=valid_set,\n",
    "        prediction_set=filtered_l2g,\n",
    "        score_column=\"score\",\n",
    "        gsp_colum=\"Goldstandard_positive\",\n",
    "        positive=1,\n",
    "        score_thr=thr,\n",
    "    )   \n"
   ]
  },
  {
   "cell_type": "code",
   "execution_count": 7,
   "metadata": {},
   "outputs": [
    {
     "name": "stdout",
     "output_type": "stream",
     "text": [
      "1 per cs: 287451\n",
      "2 per cs: 29301\n",
      ">2 per cs: 2308\n",
      "\n",
      "\n",
      "training_v5_sum_col_string_filtered\n"
     ]
    },
    {
     "name": "stderr",
     "output_type": "stream",
     "text": [
      "                                                                                \r"
     ]
    },
    {
     "name": "stdout",
     "output_type": "stream",
     "text": [
      "Prec: 0.96\n",
      "Sens: 0.71\n",
      "Sele: 1.0\n",
      "\n",
      "\n",
      "training_v5_1_sum_col_string_filtered\n"
     ]
    },
    {
     "name": "stderr",
     "output_type": "stream",
     "text": [
      "                                                                                \r"
     ]
    },
    {
     "name": "stdout",
     "output_type": "stream",
     "text": [
      "Prec: 0.96\n",
      "Sens: 0.73\n",
      "Sele: 1.0\n",
      "\n",
      "\n",
      "training_v5_1_sum_col_string_filtered_full\n"
     ]
    },
    {
     "name": "stderr",
     "output_type": "stream",
     "text": [
      "[Stage 130:=============================================>       (172 + 8) / 200]\r"
     ]
    },
    {
     "name": "stdout",
     "output_type": "stream",
     "text": [
      "Prec: 0.79\n",
      "Sens: 0.55\n",
      "Sele: 0.99\n",
      "\n",
      "\n",
      "training_v5_1_sum_col_string_filtered_full - 5.1_train\n"
     ]
    },
    {
     "name": "stderr",
     "output_type": "stream",
     "text": [
      "[Stage 138:===========================================>         (164 + 9) / 200]\r"
     ]
    },
    {
     "name": "stdout",
     "output_type": "stream",
     "text": [
      "Prec: 0.78\n",
      "Sens: 0.54\n",
      "Sele: 0.99\n",
      "\n",
      "\n",
      "featureMatrix_12_72e1caafae1514639eeb\n"
     ]
    },
    {
     "name": "stderr",
     "output_type": "stream",
     "text": [
      "                                                                                \r"
     ]
    },
    {
     "name": "stdout",
     "output_type": "stream",
     "text": [
      "Prec: 0.84\n",
      "Sens: 0.57\n",
      "Sele: 0.98\n",
      "\n",
      "\n",
      "featureMatrix_12_72e1caafae1514639eeb -5.1_train\n"
     ]
    },
    {
     "name": "stderr",
     "output_type": "stream",
     "text": [
      "                                                                                \r"
     ]
    },
    {
     "name": "stdout",
     "output_type": "stream",
     "text": [
      "Prec: 0.84\n",
      "Sens: 0.55\n",
      "Sele: 0.98\n",
      "\n",
      "\n",
      "EGL_training_set_2410_freeze7_stringent_distribution_unbiased\n",
      "Prec: 0.57\n",
      "Sens: 0.4\n",
      "Sele: 0.93\n"
     ]
    },
    {
     "name": "stderr",
     "output_type": "stream",
     "text": [
      "                                                                                \r"
     ]
    }
   ],
   "source": [
    "l2g=session.spark.read.parquet(\"gs://ot_orchestration/benchmarks/l2g/fm0/gs_v5/locus_to_gene_predictions\")\n",
    "filtered_l2g = l2g.filter(f.col(\"locusToGeneFeatures\").getItem(\"isProteinCoding\") == 1).cache()\n",
    "filtered_l2g.count()\n",
    "\n",
    "MAIN(filtered_l2g)"
   ]
  },
  {
   "cell_type": "code",
   "execution_count": 8,
   "metadata": {},
   "outputs": [
    {
     "name": "stderr",
     "output_type": "stream",
     "text": [
      "                                                                                \r"
     ]
    },
    {
     "name": "stdout",
     "output_type": "stream",
     "text": [
      "1 per cs: 299915\n",
      "2 per cs: 29239\n",
      ">2 per cs: 4209\n",
      "\n",
      "\n",
      "training_v5_sum_col_string_filtered\n"
     ]
    },
    {
     "name": "stderr",
     "output_type": "stream",
     "text": [
      "                                                                                \r"
     ]
    },
    {
     "name": "stdout",
     "output_type": "stream",
     "text": [
      "Prec: 0.89\n",
      "Sens: 0.73\n",
      "Sele: 0.99\n",
      "\n",
      "\n",
      "training_v5_1_sum_col_string_filtered\n"
     ]
    },
    {
     "name": "stderr",
     "output_type": "stream",
     "text": [
      "                                                                                \r"
     ]
    },
    {
     "name": "stdout",
     "output_type": "stream",
     "text": [
      "Prec: 0.93\n",
      "Sens: 0.76\n",
      "Sele: 1.0\n",
      "\n",
      "\n",
      "training_v5_1_sum_col_string_filtered_full\n"
     ]
    },
    {
     "name": "stderr",
     "output_type": "stream",
     "text": [
      "                                                                                \r"
     ]
    },
    {
     "name": "stdout",
     "output_type": "stream",
     "text": [
      "Prec: 0.74\n",
      "Sens: 0.57\n",
      "Sele: 0.99\n",
      "\n",
      "\n",
      "training_v5_1_sum_col_string_filtered_full - 5.1_train\n"
     ]
    },
    {
     "name": "stderr",
     "output_type": "stream",
     "text": [
      "                                                                                \r"
     ]
    },
    {
     "name": "stdout",
     "output_type": "stream",
     "text": [
      "Prec: 0.73\n",
      "Sens: 0.56\n",
      "Sele: 0.99\n",
      "\n",
      "\n",
      "featureMatrix_12_72e1caafae1514639eeb\n"
     ]
    },
    {
     "name": "stderr",
     "output_type": "stream",
     "text": [
      "                                                                                \r"
     ]
    },
    {
     "name": "stdout",
     "output_type": "stream",
     "text": [
      "Prec: 0.82\n",
      "Sens: 0.57\n",
      "Sele: 0.97\n",
      "\n",
      "\n",
      "featureMatrix_12_72e1caafae1514639eeb -5.1_train\n"
     ]
    },
    {
     "name": "stderr",
     "output_type": "stream",
     "text": [
      "                                                                                \r"
     ]
    },
    {
     "name": "stdout",
     "output_type": "stream",
     "text": [
      "Prec: 0.81\n",
      "Sens: 0.54\n",
      "Sele: 0.97\n",
      "\n",
      "\n",
      "EGL_training_set_2410_freeze7_stringent_distribution_unbiased\n"
     ]
    },
    {
     "name": "stderr",
     "output_type": "stream",
     "text": [
      "[Stage 249:============================================>        (167 + 8) / 200]\r"
     ]
    },
    {
     "name": "stdout",
     "output_type": "stream",
     "text": [
      "Prec: 0.56\n",
      "Sens: 0.42\n",
      "Sele: 0.93\n"
     ]
    },
    {
     "name": "stderr",
     "output_type": "stream",
     "text": [
      "                                                                                \r"
     ]
    }
   ],
   "source": [
    "l2g=session.spark.read.parquet(\"gs://ot_orchestration/benchmarks/l2g/fm0/gs_v5.1/locus_to_gene_predictions\")\n",
    "filtered_l2g = l2g.filter(f.col(\"locusToGeneFeatures\").getItem(\"isProteinCoding\") == 1).cache()\n",
    "filtered_l2g.count()\n",
    "\n",
    "MAIN(filtered_l2g)"
   ]
  },
  {
   "cell_type": "code",
   "execution_count": 9,
   "metadata": {},
   "outputs": [
    {
     "name": "stderr",
     "output_type": "stream",
     "text": [
      "                                                                                \r"
     ]
    },
    {
     "name": "stdout",
     "output_type": "stream",
     "text": [
      "1 per cs: 240951\n",
      "2 per cs: 12794\n",
      ">2 per cs: 1014\n",
      "\n",
      "\n",
      "training_v5_sum_col_string_filtered\n"
     ]
    },
    {
     "name": "stderr",
     "output_type": "stream",
     "text": [
      "                                                                                \r"
     ]
    },
    {
     "name": "stdout",
     "output_type": "stream",
     "text": [
      "Prec: 0.82\n",
      "Sens: 0.45\n",
      "Sele: 0.99\n",
      "\n",
      "\n",
      "training_v5_1_sum_col_string_filtered\n"
     ]
    },
    {
     "name": "stderr",
     "output_type": "stream",
     "text": [
      "                                                                                \r"
     ]
    },
    {
     "name": "stdout",
     "output_type": "stream",
     "text": [
      "Prec: 0.83\n",
      "Sens: 0.47\n",
      "Sele: 0.99\n",
      "\n",
      "\n",
      "training_v5_1_sum_col_string_filtered_full\n"
     ]
    },
    {
     "name": "stderr",
     "output_type": "stream",
     "text": [
      "                                                                                \r"
     ]
    },
    {
     "name": "stdout",
     "output_type": "stream",
     "text": [
      "Prec: 0.95\n",
      "Sens: 0.7\n",
      "Sele: 1.0\n",
      "\n",
      "\n",
      "training_v5_1_sum_col_string_filtered_full - 5.1_train\n"
     ]
    },
    {
     "name": "stderr",
     "output_type": "stream",
     "text": [
      "                                                                                \r"
     ]
    },
    {
     "name": "stdout",
     "output_type": "stream",
     "text": [
      "Prec: 0.95\n",
      "Sens: 0.71\n",
      "Sele: 1.0\n",
      "\n",
      "\n",
      "featureMatrix_12_72e1caafae1514639eeb\n"
     ]
    },
    {
     "name": "stderr",
     "output_type": "stream",
     "text": [
      "                                                                                \r"
     ]
    },
    {
     "name": "stdout",
     "output_type": "stream",
     "text": [
      "Prec: 0.88\n",
      "Sens: 0.59\n",
      "Sele: 0.98\n",
      "\n",
      "\n",
      "featureMatrix_12_72e1caafae1514639eeb -5.1_train\n"
     ]
    },
    {
     "name": "stderr",
     "output_type": "stream",
     "text": [
      "                                                                                \r"
     ]
    },
    {
     "name": "stdout",
     "output_type": "stream",
     "text": [
      "Prec: 0.88\n",
      "Sens: 0.59\n",
      "Sele: 0.98\n",
      "\n",
      "\n",
      "EGL_training_set_2410_freeze7_stringent_distribution_unbiased\n"
     ]
    },
    {
     "name": "stderr",
     "output_type": "stream",
     "text": [
      "[Stage 334:===========================================>         (165 + 8) / 200]\r"
     ]
    },
    {
     "name": "stdout",
     "output_type": "stream",
     "text": [
      "Prec: 0.56\n",
      "Sens: 0.3\n",
      "Sele: 0.95\n"
     ]
    },
    {
     "name": "stderr",
     "output_type": "stream",
     "text": [
      "                                                                                \r"
     ]
    }
   ],
   "source": [
    "l2g=session.spark.read.parquet(\"gs://ot_orchestration/benchmarks/l2g/fm0/gs_v4/locus_to_gene_predictions\")\n",
    "filtered_l2g = l2g.filter(f.col(\"locusToGeneFeatures\").getItem(\"isProteinCoding\") == 1).cache()\n",
    "filtered_l2g.count()\n",
    "\n",
    "MAIN(filtered_l2g)"
   ]
  },
  {
   "cell_type": "code",
   "execution_count": 10,
   "metadata": {},
   "outputs": [
    {
     "name": "stderr",
     "output_type": "stream",
     "text": [
      "                                                                                \r"
     ]
    },
    {
     "name": "stdout",
     "output_type": "stream",
     "text": [
      "1 per cs: 283231\n",
      "2 per cs: 86768\n",
      ">2 per cs: 17696\n",
      "\n",
      "\n",
      "training_v5_sum_col_string_filtered\n"
     ]
    },
    {
     "name": "stderr",
     "output_type": "stream",
     "text": [
      "                                                                                \r"
     ]
    },
    {
     "name": "stdout",
     "output_type": "stream",
     "text": [
      "Prec: 0.55\n",
      "Sens: 0.53\n",
      "Sele: 0.97\n",
      "\n",
      "\n",
      "training_v5_1_sum_col_string_filtered\n"
     ]
    },
    {
     "name": "stderr",
     "output_type": "stream",
     "text": [
      "                                                                                \r"
     ]
    },
    {
     "name": "stdout",
     "output_type": "stream",
     "text": [
      "Prec: 0.57\n",
      "Sens: 0.55\n",
      "Sele: 0.97\n",
      "\n",
      "\n",
      "training_v5_1_sum_col_string_filtered_full\n"
     ]
    },
    {
     "name": "stderr",
     "output_type": "stream",
     "text": [
      "                                                                                \r"
     ]
    },
    {
     "name": "stdout",
     "output_type": "stream",
     "text": [
      "Prec: 0.6\n",
      "Sens: 0.63\n",
      "Sele: 0.97\n",
      "\n",
      "\n",
      "training_v5_1_sum_col_string_filtered_full - 5.1_train\n"
     ]
    },
    {
     "name": "stderr",
     "output_type": "stream",
     "text": [
      "                                                                                \r"
     ]
    },
    {
     "name": "stdout",
     "output_type": "stream",
     "text": [
      "Prec: 0.6\n",
      "Sens: 0.64\n",
      "Sele: 0.97\n",
      "\n",
      "\n",
      "featureMatrix_12_72e1caafae1514639eeb\n"
     ]
    },
    {
     "name": "stderr",
     "output_type": "stream",
     "text": [
      "                                                                                \r"
     ]
    },
    {
     "name": "stdout",
     "output_type": "stream",
     "text": [
      "Prec: 0.94\n",
      "Sens: 0.91\n",
      "Sele: 0.99\n",
      "\n",
      "\n",
      "featureMatrix_12_72e1caafae1514639eeb -5.1_train\n"
     ]
    },
    {
     "name": "stderr",
     "output_type": "stream",
     "text": [
      "                                                                                \r"
     ]
    },
    {
     "name": "stdout",
     "output_type": "stream",
     "text": [
      "Prec: 0.95\n",
      "Sens: 0.91\n",
      "Sele: 0.99\n",
      "\n",
      "\n",
      "EGL_training_set_2410_freeze7_stringent_distribution_unbiased\n"
     ]
    },
    {
     "name": "stderr",
     "output_type": "stream",
     "text": [
      "[Stage 419:========================================>            (152 + 8) / 200]\r"
     ]
    },
    {
     "name": "stdout",
     "output_type": "stream",
     "text": [
      "Prec: 0.37\n",
      "Sens: 0.37\n",
      "Sele: 0.86\n"
     ]
    },
    {
     "name": "stderr",
     "output_type": "stream",
     "text": [
      "                                                                                \r"
     ]
    }
   ],
   "source": [
    "l2g=session.spark.read.parquet(\"gs://ot-team/irene/l2g/13112024/locus_to_gene_predictions_0\")\n",
    "filtered_l2g = l2g.filter(f.col(\"locusToGeneFeatures\").getItem(\"isProteinCoding\") == 1).cache()\n",
    "filtered_l2g.count()\n",
    "\n",
    "MAIN(filtered_l2g)"
   ]
  },
  {
   "cell_type": "code",
   "execution_count": 11,
   "metadata": {},
   "outputs": [
    {
     "name": "stderr",
     "output_type": "stream",
     "text": [
      "                                                                                \r"
     ]
    },
    {
     "name": "stdout",
     "output_type": "stream",
     "text": [
      "1 per cs: 240906\n",
      "2 per cs: 17836\n",
      ">2 per cs: 1908\n",
      "\n",
      "\n",
      "training_v5_sum_col_string_filtered\n"
     ]
    },
    {
     "name": "stderr",
     "output_type": "stream",
     "text": [
      "                                                                                \r"
     ]
    },
    {
     "name": "stdout",
     "output_type": "stream",
     "text": [
      "Prec: 0.91\n",
      "Sens: 0.59\n",
      "Sele: 1.0\n",
      "\n",
      "\n",
      "training_v5_1_sum_col_string_filtered\n"
     ]
    },
    {
     "name": "stderr",
     "output_type": "stream",
     "text": [
      "                                                                                \r"
     ]
    },
    {
     "name": "stdout",
     "output_type": "stream",
     "text": [
      "Prec: 0.95\n",
      "Sens: 0.63\n",
      "Sele: 1.0\n",
      "\n",
      "\n",
      "training_v5_1_sum_col_string_filtered_full\n"
     ]
    },
    {
     "name": "stderr",
     "output_type": "stream",
     "text": [
      "                                                                                \r"
     ]
    },
    {
     "name": "stdout",
     "output_type": "stream",
     "text": [
      "Prec: 0.79\n",
      "Sens: 0.46\n",
      "Sele: 0.99\n",
      "\n",
      "\n",
      "training_v5_1_sum_col_string_filtered_full - 5.1_train\n"
     ]
    },
    {
     "name": "stderr",
     "output_type": "stream",
     "text": [
      "                                                                                \r"
     ]
    },
    {
     "name": "stdout",
     "output_type": "stream",
     "text": [
      "Prec: 0.78\n",
      "Sens: 0.45\n",
      "Sele: 0.99\n",
      "\n",
      "\n",
      "featureMatrix_12_72e1caafae1514639eeb\n"
     ]
    },
    {
     "name": "stderr",
     "output_type": "stream",
     "text": [
      "                                                                                \r"
     ]
    },
    {
     "name": "stdout",
     "output_type": "stream",
     "text": [
      "Prec: 0.87\n",
      "Sens: 0.45\n",
      "Sele: 0.99\n",
      "\n",
      "\n",
      "featureMatrix_12_72e1caafae1514639eeb -5.1_train\n"
     ]
    },
    {
     "name": "stderr",
     "output_type": "stream",
     "text": [
      "                                                                                \r"
     ]
    },
    {
     "name": "stdout",
     "output_type": "stream",
     "text": [
      "Prec: 0.87\n",
      "Sens: 0.43\n",
      "Sele: 0.99\n",
      "\n",
      "\n",
      "EGL_training_set_2410_freeze7_stringent_distribution_unbiased\n"
     ]
    },
    {
     "name": "stderr",
     "output_type": "stream",
     "text": [
      "[Stage 504:=============================================>       (173 + 8) / 200]\r"
     ]
    },
    {
     "name": "stdout",
     "output_type": "stream",
     "text": [
      "Prec: 0.7\n",
      "Sens: 0.36\n",
      "Sele: 0.96\n"
     ]
    },
    {
     "name": "stderr",
     "output_type": "stream",
     "text": [
      "                                                                                \r"
     ]
    }
   ],
   "source": [
    "l2g=session.spark.read.parquet(\"gs://ot_orchestration/benchmarks/l2g/fm0/gs_v1/locus_to_gene_predictions\")\n",
    "filtered_l2g = l2g.filter(f.col(\"locusToGeneFeatures\").getItem(\"isProteinCoding\") == 1).cache()\n",
    "filtered_l2g.count()\n",
    "\n",
    "MAIN(filtered_l2g)"
   ]
  },
  {
   "cell_type": "code",
   "execution_count": 12,
   "metadata": {},
   "outputs": [
    {
     "name": "stderr",
     "output_type": "stream",
     "text": [
      "                                                                                \r"
     ]
    },
    {
     "name": "stdout",
     "output_type": "stream",
     "text": [
      "1 per cs: 254898\n",
      "2 per cs: 15209\n",
      ">2 per cs: 1660\n",
      "\n",
      "\n",
      "training_v5_sum_col_string_filtered\n"
     ]
    },
    {
     "name": "stderr",
     "output_type": "stream",
     "text": [
      "                                                                                \r"
     ]
    },
    {
     "name": "stdout",
     "output_type": "stream",
     "text": [
      "Prec: 0.9\n",
      "Sens: 0.6\n",
      "Sele: 0.99\n",
      "\n",
      "\n",
      "training_v5_1_sum_col_string_filtered\n"
     ]
    },
    {
     "name": "stderr",
     "output_type": "stream",
     "text": [
      "                                                                                \r"
     ]
    },
    {
     "name": "stdout",
     "output_type": "stream",
     "text": [
      "Prec: 0.92\n",
      "Sens: 0.64\n",
      "Sele: 1.0\n",
      "\n",
      "\n",
      "training_v5_1_sum_col_string_filtered_full\n"
     ]
    },
    {
     "name": "stderr",
     "output_type": "stream",
     "text": [
      "                                                                                \r"
     ]
    },
    {
     "name": "stdout",
     "output_type": "stream",
     "text": [
      "Prec: 0.76\n",
      "Sens: 0.48\n",
      "Sele: 0.99\n",
      "\n",
      "\n",
      "training_v5_1_sum_col_string_filtered_full - 5.1_train\n"
     ]
    },
    {
     "name": "stderr",
     "output_type": "stream",
     "text": [
      "                                                                                \r"
     ]
    },
    {
     "name": "stdout",
     "output_type": "stream",
     "text": [
      "Prec: 0.75\n",
      "Sens: 0.48\n",
      "Sele: 0.99\n",
      "\n",
      "\n",
      "featureMatrix_12_72e1caafae1514639eeb\n"
     ]
    },
    {
     "name": "stderr",
     "output_type": "stream",
     "text": [
      "                                                                                \r"
     ]
    },
    {
     "name": "stdout",
     "output_type": "stream",
     "text": [
      "Prec: 0.83\n",
      "Sens: 0.49\n",
      "Sele: 0.98\n",
      "\n",
      "\n",
      "featureMatrix_12_72e1caafae1514639eeb -5.1_train\n"
     ]
    },
    {
     "name": "stderr",
     "output_type": "stream",
     "text": [
      "                                                                                \r"
     ]
    },
    {
     "name": "stdout",
     "output_type": "stream",
     "text": [
      "Prec: 0.83\n",
      "Sens: 0.47\n",
      "Sele: 0.98\n",
      "\n",
      "\n",
      "EGL_training_set_2410_freeze7_stringent_distribution_unbiased\n"
     ]
    },
    {
     "name": "stderr",
     "output_type": "stream",
     "text": [
      "[Stage 589:=============================================>       (171 + 8) / 200]\r"
     ]
    },
    {
     "name": "stdout",
     "output_type": "stream",
     "text": [
      "Prec: 0.6\n",
      "Sens: 0.36\n",
      "Sele: 0.95\n"
     ]
    },
    {
     "name": "stderr",
     "output_type": "stream",
     "text": [
      "                                                                                \r"
     ]
    }
   ],
   "source": [
    "l2g=session.spark.read.parquet(\"gs://ot_orchestration/benchmarks/l2g/fm1/v1/locus_to_gene_predictions\")\n",
    "filtered_l2g = l2g.filter(f.col(\"locusToGeneFeatures\").getItem(\"isProteinCoding\") == 1).cache()\n",
    "filtered_l2g.count()\n",
    "\n",
    "MAIN(filtered_l2g)"
   ]
  },
  {
   "cell_type": "code",
   "execution_count": 13,
   "metadata": {},
   "outputs": [
    {
     "name": "stderr",
     "output_type": "stream",
     "text": [
      "                                                                                \r"
     ]
    },
    {
     "name": "stdout",
     "output_type": "stream",
     "text": [
      "1 per cs: 39252\n",
      "2 per cs: 38972\n",
      ">2 per cs: 361762\n",
      "\n",
      "\n",
      "training_v5_sum_col_string_filtered\n"
     ]
    },
    {
     "name": "stderr",
     "output_type": "stream",
     "text": [
      "                                                                                \r"
     ]
    },
    {
     "name": "stdout",
     "output_type": "stream",
     "text": [
      "Prec: 0.05\n",
      "Sens: 0.51\n",
      "Sele: 0.27\n",
      "\n",
      "\n",
      "training_v5_1_sum_col_string_filtered\n"
     ]
    },
    {
     "name": "stderr",
     "output_type": "stream",
     "text": [
      "                                                                                \r"
     ]
    },
    {
     "name": "stdout",
     "output_type": "stream",
     "text": [
      "Prec: 0.05\n",
      "Sens: 0.51\n",
      "Sele: 0.26\n",
      "\n",
      "\n",
      "training_v5_1_sum_col_string_filtered_full\n"
     ]
    },
    {
     "name": "stderr",
     "output_type": "stream",
     "text": [
      "                                                                                \r"
     ]
    },
    {
     "name": "stdout",
     "output_type": "stream",
     "text": [
      "Prec: 0.04\n",
      "Sens: 0.39\n",
      "Sele: 0.25\n",
      "\n",
      "\n",
      "training_v5_1_sum_col_string_filtered_full - 5.1_train\n"
     ]
    },
    {
     "name": "stderr",
     "output_type": "stream",
     "text": [
      "                                                                                \r"
     ]
    },
    {
     "name": "stdout",
     "output_type": "stream",
     "text": [
      "Prec: 0.04\n",
      "Sens: 0.38\n",
      "Sele: 0.25\n",
      "\n",
      "\n",
      "featureMatrix_12_72e1caafae1514639eeb\n"
     ]
    },
    {
     "name": "stderr",
     "output_type": "stream",
     "text": [
      "                                                                                \r"
     ]
    },
    {
     "name": "stdout",
     "output_type": "stream",
     "text": [
      "Prec: 0.07\n",
      "Sens: 0.24\n",
      "Sele: 0.24\n",
      "\n",
      "\n",
      "featureMatrix_12_72e1caafae1514639eeb -5.1_train\n"
     ]
    },
    {
     "name": "stderr",
     "output_type": "stream",
     "text": [
      "                                                                                \r"
     ]
    },
    {
     "name": "stdout",
     "output_type": "stream",
     "text": [
      "Prec: 0.06\n",
      "Sens: 0.23\n",
      "Sele: 0.25\n",
      "\n",
      "\n",
      "EGL_training_set_2410_freeze7_stringent_distribution_unbiased\n"
     ]
    },
    {
     "name": "stderr",
     "output_type": "stream",
     "text": [
      "[Stage 674:===================================================> (193 + 7) / 200]\r"
     ]
    },
    {
     "name": "stdout",
     "output_type": "stream",
     "text": [
      "Prec: 0.3\n",
      "Sens: 0.61\n",
      "Sele: 0.68\n"
     ]
    },
    {
     "name": "stderr",
     "output_type": "stream",
     "text": [
      "                                                                                \r"
     ]
    }
   ],
   "source": [
    "l2g=session.spark.read.parquet(\"gs://ot_orchestration/benchmarks/l2g/fm0/gs_v6/locus_to_gene_predictions\")\n",
    "filtered_l2g = l2g.filter(f.col(\"locusToGeneFeatures\").getItem(\"isProteinCoding\") == 1).cache()\n",
    "filtered_l2g.count()\n",
    "\n",
    "MAIN(filtered_l2g)"
   ]
  },
  {
   "cell_type": "code",
   "execution_count": 14,
   "metadata": {},
   "outputs": [
    {
     "name": "stderr",
     "output_type": "stream",
     "text": [
      "                                                                                \r"
     ]
    },
    {
     "name": "stdout",
     "output_type": "stream",
     "text": [
      "1 per cs: 41473\n",
      "2 per cs: 42256\n",
      ">2 per cs: 347341\n",
      "\n",
      "\n",
      "training_v5_sum_col_string_filtered\n"
     ]
    },
    {
     "name": "stderr",
     "output_type": "stream",
     "text": [
      "                                                                                \r"
     ]
    },
    {
     "name": "stdout",
     "output_type": "stream",
     "text": [
      "Prec: 0.05\n",
      "Sens: 0.46\n",
      "Sele: 0.31\n",
      "\n",
      "\n",
      "training_v5_1_sum_col_string_filtered\n"
     ]
    },
    {
     "name": "stderr",
     "output_type": "stream",
     "text": [
      "                                                                                \r"
     ]
    },
    {
     "name": "stdout",
     "output_type": "stream",
     "text": [
      "Prec: 0.05\n",
      "Sens: 0.47\n",
      "Sele: 0.31\n",
      "\n",
      "\n",
      "training_v5_1_sum_col_string_filtered_full\n"
     ]
    },
    {
     "name": "stderr",
     "output_type": "stream",
     "text": [
      "                                                                                \r"
     ]
    },
    {
     "name": "stdout",
     "output_type": "stream",
     "text": [
      "Prec: 0.04\n",
      "Sens: 0.36\n",
      "Sele: 0.3\n",
      "\n",
      "\n",
      "training_v5_1_sum_col_string_filtered_full - 5.1_train\n"
     ]
    },
    {
     "name": "stderr",
     "output_type": "stream",
     "text": [
      "                                                                                \r"
     ]
    },
    {
     "name": "stdout",
     "output_type": "stream",
     "text": [
      "Prec: 0.04\n",
      "Sens: 0.35\n",
      "Sele: 0.3\n",
      "\n",
      "\n",
      "featureMatrix_12_72e1caafae1514639eeb\n"
     ]
    },
    {
     "name": "stderr",
     "output_type": "stream",
     "text": [
      "                                                                                \r"
     ]
    },
    {
     "name": "stdout",
     "output_type": "stream",
     "text": [
      "Prec: 0.05\n",
      "Sens: 0.17\n",
      "Sele: 0.3\n",
      "\n",
      "\n",
      "featureMatrix_12_72e1caafae1514639eeb -5.1_train\n"
     ]
    },
    {
     "name": "stderr",
     "output_type": "stream",
     "text": [
      "                                                                                \r"
     ]
    },
    {
     "name": "stdout",
     "output_type": "stream",
     "text": [
      "Prec: 0.05\n",
      "Sens: 0.16\n",
      "Sele: 0.3\n",
      "\n",
      "\n",
      "EGL_training_set_2410_freeze7_stringent_distribution_unbiased\n"
     ]
    },
    {
     "name": "stderr",
     "output_type": "stream",
     "text": [
      "[Stage 759:==================================================>  (192 + 8) / 200]\r"
     ]
    },
    {
     "name": "stdout",
     "output_type": "stream",
     "text": [
      "Prec: 0.33\n",
      "Sens: 0.56\n",
      "Sele: 0.74\n"
     ]
    },
    {
     "name": "stderr",
     "output_type": "stream",
     "text": [
      "                                                                                \r"
     ]
    }
   ],
   "source": [
    "l2g=session.spark.read.parquet(\"gs://ot_orchestration/benchmarks/l2g/fm0/gs_v7/locus_to_gene_predictions\")\n",
    "filtered_l2g = l2g.filter(f.col(\"locusToGeneFeatures\").getItem(\"isProteinCoding\") == 1).cache()\n",
    "filtered_l2g.count()\n",
    "\n",
    "MAIN(filtered_l2g)"
   ]
  },
  {
   "cell_type": "code",
   "execution_count": 15,
   "metadata": {},
   "outputs": [
    {
     "name": "stderr",
     "output_type": "stream",
     "text": [
      "                                                                                \r"
     ]
    },
    {
     "name": "stdout",
     "output_type": "stream",
     "text": [
      "1 per cs: 286370\n",
      "2 per cs: 28910\n",
      ">2 per cs: 3418\n",
      "\n",
      "\n",
      "training_v5_sum_col_string_filtered\n"
     ]
    },
    {
     "name": "stderr",
     "output_type": "stream",
     "text": [
      "                                                                                \r"
     ]
    },
    {
     "name": "stdout",
     "output_type": "stream",
     "text": [
      "Prec: 0.94\n",
      "Sens: 0.71\n",
      "Sele: 1.0\n",
      "\n",
      "\n",
      "training_v5_1_sum_col_string_filtered\n"
     ]
    },
    {
     "name": "stderr",
     "output_type": "stream",
     "text": [
      "                                                                                \r"
     ]
    },
    {
     "name": "stdout",
     "output_type": "stream",
     "text": [
      "Prec: 0.93\n",
      "Sens: 0.72\n",
      "Sele: 1.0\n",
      "\n",
      "\n",
      "training_v5_1_sum_col_string_filtered_full\n"
     ]
    },
    {
     "name": "stderr",
     "output_type": "stream",
     "text": [
      "                                                                                \r"
     ]
    },
    {
     "name": "stdout",
     "output_type": "stream",
     "text": [
      "Prec: 0.76\n",
      "Sens: 0.54\n",
      "Sele: 0.99\n",
      "\n",
      "\n",
      "training_v5_1_sum_col_string_filtered_full - 5.1_train\n"
     ]
    },
    {
     "name": "stderr",
     "output_type": "stream",
     "text": [
      "                                                                                \r"
     ]
    },
    {
     "name": "stdout",
     "output_type": "stream",
     "text": [
      "Prec: 0.75\n",
      "Sens: 0.53\n",
      "Sele: 0.99\n",
      "\n",
      "\n",
      "featureMatrix_12_72e1caafae1514639eeb\n"
     ]
    },
    {
     "name": "stderr",
     "output_type": "stream",
     "text": [
      "                                                                                \r"
     ]
    },
    {
     "name": "stdout",
     "output_type": "stream",
     "text": [
      "Prec: 0.87\n",
      "Sens: 0.57\n",
      "Sele: 0.98\n",
      "\n",
      "\n",
      "featureMatrix_12_72e1caafae1514639eeb -5.1_train\n"
     ]
    },
    {
     "name": "stderr",
     "output_type": "stream",
     "text": [
      "                                                                                \r"
     ]
    },
    {
     "name": "stdout",
     "output_type": "stream",
     "text": [
      "Prec: 0.86\n",
      "Sens: 0.55\n",
      "Sele: 0.98\n",
      "\n",
      "\n",
      "EGL_training_set_2410_freeze7_stringent_distribution_unbiased\n"
     ]
    },
    {
     "name": "stderr",
     "output_type": "stream",
     "text": [
      "[Stage 844:================================================>    (182 + 8) / 200]\r"
     ]
    },
    {
     "name": "stdout",
     "output_type": "stream",
     "text": [
      "Prec: 0.56\n",
      "Sens: 0.39\n",
      "Sele: 0.93\n"
     ]
    },
    {
     "name": "stderr",
     "output_type": "stream",
     "text": [
      "                                                                                \r"
     ]
    }
   ],
   "source": [
    "l2g=session.spark.read.parquet(\"gs://ot_orchestration/benchmarks/l2g/fm1/v5/locus_to_gene_predictions\")\n",
    "filtered_l2g = l2g.filter(f.col(\"locusToGeneFeatures\").getItem(\"isProteinCoding\") == 1).cache()\n",
    "filtered_l2g.count()\n",
    "\n",
    "MAIN(filtered_l2g)"
   ]
  },
  {
   "cell_type": "code",
   "execution_count": 6,
   "metadata": {},
   "outputs": [
    {
     "name": "stderr",
     "output_type": "stream",
     "text": [
      "                                                                                \r"
     ]
    },
    {
     "name": "stdout",
     "output_type": "stream",
     "text": [
      "1 per cs: 250753\n",
      "2 per cs: 14485\n",
      ">2 per cs: 2441\n",
      "\n",
      "\n",
      "training_v5_sum_col_string_filtered\n"
     ]
    },
    {
     "name": "stderr",
     "output_type": "stream",
     "text": [
      "                                                                                \r"
     ]
    },
    {
     "name": "stdout",
     "output_type": "stream",
     "text": [
      "Prec: 0.84\n",
      "Sens: 0.47\n",
      "Sele: 0.99\n",
      "\n",
      "\n",
      "training_v5_1_sum_col_string_filtered\n"
     ]
    },
    {
     "name": "stderr",
     "output_type": "stream",
     "text": [
      "                                                                                \r"
     ]
    },
    {
     "name": "stdout",
     "output_type": "stream",
     "text": [
      "Prec: 0.86\n",
      "Sens: 0.49\n",
      "Sele: 0.99\n",
      "\n",
      "\n",
      "training_v5_1_sum_col_string_filtered_full\n"
     ]
    },
    {
     "name": "stderr",
     "output_type": "stream",
     "text": [
      "                                                                                \r"
     ]
    },
    {
     "name": "stdout",
     "output_type": "stream",
     "text": [
      "Prec: 0.94\n",
      "Sens: 0.7\n",
      "Sele: 1.0\n",
      "\n",
      "\n",
      "training_v5_1_sum_col_string_filtered_full - 5.1_train\n"
     ]
    },
    {
     "name": "stderr",
     "output_type": "stream",
     "text": [
      "                                                                                \r"
     ]
    },
    {
     "name": "stdout",
     "output_type": "stream",
     "text": [
      "Prec: 0.95\n",
      "Sens: 0.71\n",
      "Sele: 1.0\n",
      "\n",
      "\n",
      "featureMatrix_12_72e1caafae1514639eeb\n"
     ]
    },
    {
     "name": "stderr",
     "output_type": "stream",
     "text": [
      "                                                                                \r"
     ]
    },
    {
     "name": "stdout",
     "output_type": "stream",
     "text": [
      "Prec: 0.86\n",
      "Sens: 0.58\n",
      "Sele: 0.98\n",
      "\n",
      "\n",
      "featureMatrix_12_72e1caafae1514639eeb -5.1_train\n"
     ]
    },
    {
     "name": "stderr",
     "output_type": "stream",
     "text": [
      "                                                                                \r"
     ]
    },
    {
     "name": "stdout",
     "output_type": "stream",
     "text": [
      "Prec: 0.87\n",
      "Sens: 0.58\n",
      "Sele: 0.98\n",
      "\n",
      "\n",
      "EGL_training_set_2410_freeze7_stringent_distribution_unbiased\n"
     ]
    },
    {
     "name": "stderr",
     "output_type": "stream",
     "text": [
      "[Stage 80:=======================================>              (147 + 8) / 200]\r"
     ]
    },
    {
     "name": "stdout",
     "output_type": "stream",
     "text": [
      "Prec: 0.6\n",
      "Sens: 0.33\n",
      "Sele: 0.95\n"
     ]
    },
    {
     "name": "stderr",
     "output_type": "stream",
     "text": [
      "                                                                                \r"
     ]
    }
   ],
   "source": [
    "l2g=session.spark.read.parquet(\"gs://ot_orchestration/benchmarks/l2g/fm0/gs_v8/locus_to_gene_predictions\")\n",
    "filtered_l2g = l2g.filter(f.col(\"locusToGeneFeatures\").getItem(\"isProteinCoding\") == 1).cache()\n",
    "filtered_l2g.count()\n",
    "\n",
    "MAIN(filtered_l2g)"
   ]
  },
  {
   "cell_type": "code",
   "execution_count": 7,
   "metadata": {},
   "outputs": [
    {
     "name": "stderr",
     "output_type": "stream",
     "text": [
      "                                                                                \r"
     ]
    },
    {
     "name": "stdout",
     "output_type": "stream",
     "text": [
      "1 per cs: 310153\n",
      "2 per cs: 27580\n",
      ">2 per cs: 3077\n",
      "\n",
      "\n",
      "training_v5_sum_col_string_filtered\n"
     ]
    },
    {
     "name": "stderr",
     "output_type": "stream",
     "text": [
      "                                                                                \r"
     ]
    },
    {
     "name": "stdout",
     "output_type": "stream",
     "text": [
      "Prec: 0.9\n",
      "Sens: 0.71\n",
      "Sele: 0.99\n",
      "\n",
      "\n",
      "training_v5_1_sum_col_string_filtered\n"
     ]
    },
    {
     "name": "stderr",
     "output_type": "stream",
     "text": [
      "                                                                                \r"
     ]
    },
    {
     "name": "stdout",
     "output_type": "stream",
     "text": [
      "Prec: 0.93\n",
      "Sens: 0.75\n",
      "Sele: 1.0\n",
      "\n",
      "\n",
      "training_v5_1_sum_col_string_filtered_full\n"
     ]
    },
    {
     "name": "stderr",
     "output_type": "stream",
     "text": [
      "                                                                                \r"
     ]
    },
    {
     "name": "stdout",
     "output_type": "stream",
     "text": [
      "Prec: 0.75\n",
      "Sens: 0.61\n",
      "Sele: 0.99\n",
      "\n",
      "\n",
      "training_v5_1_sum_col_string_filtered_full - 5.1_train\n"
     ]
    },
    {
     "name": "stderr",
     "output_type": "stream",
     "text": [
      "                                                                                \r"
     ]
    },
    {
     "name": "stdout",
     "output_type": "stream",
     "text": [
      "Prec: 0.75\n",
      "Sens: 0.6\n",
      "Sele: 0.99\n",
      "\n",
      "\n",
      "featureMatrix_12_72e1caafae1514639eeb\n"
     ]
    },
    {
     "name": "stderr",
     "output_type": "stream",
     "text": [
      "                                                                                \r"
     ]
    },
    {
     "name": "stdout",
     "output_type": "stream",
     "text": [
      "Prec: 0.84\n",
      "Sens: 0.62\n",
      "Sele: 0.97\n",
      "\n",
      "\n",
      "featureMatrix_12_72e1caafae1514639eeb -5.1_train\n"
     ]
    },
    {
     "name": "stderr",
     "output_type": "stream",
     "text": [
      "                                                                                \r"
     ]
    },
    {
     "name": "stdout",
     "output_type": "stream",
     "text": [
      "Prec: 0.84\n",
      "Sens: 0.61\n",
      "Sele: 0.97\n",
      "\n",
      "\n",
      "EGL_training_set_2410_freeze7_stringent_distribution_unbiased\n"
     ]
    },
    {
     "name": "stderr",
     "output_type": "stream",
     "text": [
      "[Stage 165:================================================>    (182 + 8) / 200]\r"
     ]
    },
    {
     "name": "stdout",
     "output_type": "stream",
     "text": [
      "Prec: 0.56\n",
      "Sens: 0.43\n",
      "Sele: 0.93\n"
     ]
    },
    {
     "name": "stderr",
     "output_type": "stream",
     "text": [
      "                                                                                \r"
     ]
    }
   ],
   "source": [
    "l2g=session.spark.read.parquet(\"gs://ot_orchestration/benchmarks/l2g/fm1/v5.1/locus_to_gene_predictions\")\n",
    "filtered_l2g = l2g.filter(f.col(\"locusToGeneFeatures\").getItem(\"isProteinCoding\") == 1).cache()\n",
    "filtered_l2g.count()\n",
    "\n",
    "MAIN(filtered_l2g)"
   ]
  },
  {
   "cell_type": "code",
   "execution_count": null,
   "metadata": {},
   "outputs": [],
   "source": []
  }
 ],
 "metadata": {
  "kernelspec": {
   "display_name": "gentropy-krNFZEZg-py3.10",
   "language": "python",
   "name": "python3"
  },
  "language_info": {
   "codemirror_mode": {
    "name": "ipython",
    "version": 3
   },
   "file_extension": ".py",
   "mimetype": "text/x-python",
   "name": "python",
   "nbconvert_exporter": "python",
   "pygments_lexer": "ipython3",
   "version": "3.10.8"
  }
 },
 "nbformat": 4,
 "nbformat_minor": 2
}
