{
 "cells": [
  {
   "cell_type": "markdown",
   "metadata": {},
   "source": [
    "## Benchmarking L2G predictions\n",
    "\n",
    "The objective of this notebook is to compare the new implementation of L2G with the last results we display in production (22.09.1).\n",
    "\n",
    "The notebook is divided in 3 parts:\n",
    "1. Data preparation\n",
    "2. Describe the data\n",
    "3. Compare the results\n"
   ]
  },
  {
   "cell_type": "code",
   "execution_count": 1,
   "metadata": {},
   "outputs": [
    {
     "name": "stderr",
     "output_type": "stream",
     "text": [
      "Setting default log level to \"WARN\".\n",
      "To adjust logging level use sc.setLogLevel(newLevel). For SparkR, use setLogLevel(newLevel).\n"
     ]
    },
    {
     "name": "stdout",
     "output_type": "stream",
     "text": [
      "23/12/11 16:18:49 WARN NativeCodeLoader: Unable to load native-hadoop library for your platform... using builtin-java classes where applicable\n"
     ]
    }
   ],
   "source": [
    "from datetime import datetime\n",
    "\n",
    "import pyspark.sql.functions as f\n",
    "import wandb\n",
    "from pyspark.sql import DataFrame\n",
    "\n",
    "from gentropy.common.session import Session\n",
    "from gentropy.dataset.l2g_prediction import L2GPrediction\n",
    "from gentropy.dataset.study_locus import StudyLocus\n",
    "\n",
    "%matplotlib inline\n",
    "\n",
    "session = Session(spark_uri=\"local[*]\")"
   ]
  },
  {
   "cell_type": "markdown",
   "metadata": {},
   "source": [
    "## Data preparation"
   ]
  },
  {
   "cell_type": "code",
   "execution_count": 6,
   "metadata": {},
   "outputs": [],
   "source": [
    "def prepare_predictions(credible_set: StudyLocus, predictions: L2GPrediction) -> DataFrame:\n",
    "        \"\"\"Prepares predictions dataframe for testing and comparison.\"\"\"\n",
    "        return (\n",
    "                credible_set.df\n",
    "                .select(\"studyLocusId\", \"variantId\", \"studyId\").distinct()\n",
    "                .join(\n",
    "                        predictions.df, on=\"studyLocusId\"\n",
    "                )\n",
    "                .select(\"studyLocusId\", \"variantId\", \"studyId\", \"geneId\", \"score\")\n",
    "                .distinct()\n",
    "        )\n",
    "\n",
    "def prepare_production_predictions(old_predictions: DataFrame) -> DataFrame:\n",
    "        \"\"\"Prepares L2G predictions for testing and comparison.\"\"\"\n",
    "        return (\n",
    "                old_predictions\n",
    "                .select(\n",
    "                        f.col(\"study_id\").alias(\"studyId\"),\n",
    "                        f.concat_ws(\"_\", f.col(\"chrom\"), f.col(\"pos\"), f.col(\"ref\"), f.col(\"alt\")).alias(\"variantId\"),\n",
    "                        f.col(\"gene_id\").alias(\"geneId\"),\n",
    "                        f.col(\"y_proba_full_model\").alias(\"score\"),\n",
    "                )\n",
    "                .withColumn(\"studyLocusId\", StudyLocus.assign_study_locus_id(f.col(\"studyId\"), f.col(\"variantId\")))\n",
    "                .distinct()\n",
    "        )"
   ]
  },
  {
   "cell_type": "code",
   "execution_count": 2,
   "metadata": {},
   "outputs": [
    {
     "name": "stderr",
     "output_type": "stream",
     "text": [
      "                                                                                \r"
     ]
    }
   ],
   "source": [
    "# RAW DATA\n",
    "credible_set_path = \"gs://genetics_etl_python_playground/output/python_etl/parquet/XX.XX/credible_set\"\n",
    "predictions_path = \"gs://genetics_etl_python_playground/output/python_etl/parquet/XX.XX/l2g_predictions\"\n",
    "old_predictions_path = \"gs://genetics-portal-dev-data/22.09.1/outputs/l2g\"\n",
    "\n",
    "predictions = L2GPrediction.from_parquet(session, predictions_path)\n",
    "old_predictions = session.spark.read.parquet(old_predictions_path)\n",
    "credible_set = StudyLocus.from_parquet(session, credible_set_path, recursiveFileLookup=True)"
   ]
  },
  {
   "cell_type": "code",
   "execution_count": 7,
   "metadata": {},
   "outputs": [],
   "source": [
    "predictions_prepared = prepare_predictions(credible_set, predictions).persist()\n",
    "old_predictions_prepared = prepare_production_predictions(old_predictions).persist()\n",
    "\n",
    "joining_cols = [\"studyLocusId\", \"geneId\", \"variantId\", \"studyId\"]\n",
    "comparison_df = (\n",
    "                predictions_prepared.selectExpr(*joining_cols, \"score as new_score\")\n",
    "                .join(\n",
    "                        old_predictions_prepared.selectExpr(*joining_cols, \"score as old_score\"), on=joining_cols, how=\"inner\"\n",
    "                )\n",
    "                .distinct()\n",
    "                .persist()\n",
    "        )\n",
    "\n",
    "comparison_output_path = f\"gs://ot-team/irene/l2g_results_comparison-{datetime.today().strftime('%Y-%m-%d')}\"\n",
    "# comparison_df.write.parquet(\"gs://ot-team/irene/l2g_results_comparison\")"
   ]
  },
  {
   "cell_type": "markdown",
   "metadata": {},
   "source": [
    "## Data description\n",
    "\n",
    "Note: Comparison_df is the result of intersecting the L2G datasets with both the production and the new implementation."
   ]
  },
  {
   "cell_type": "code",
   "execution_count": 8,
   "metadata": {},
   "outputs": [
    {
     "name": "stdout",
     "output_type": "stream",
     "text": [
      "COUNT PER DATASET\n"
     ]
    },
    {
     "name": "stderr",
     "output_type": "stream",
     "text": [
      "                                                                                \r"
     ]
    },
    {
     "name": "stdout",
     "output_type": "stream",
     "text": [
      "predictions_prepared: 9061746\n"
     ]
    },
    {
     "name": "stderr",
     "output_type": "stream",
     "text": [
      "                                                                                \r"
     ]
    },
    {
     "name": "stdout",
     "output_type": "stream",
     "text": [
      "old_predictions_prepared: 4083797\n"
     ]
    },
    {
     "name": "stderr",
     "output_type": "stream",
     "text": [
      "[Stage 23:====================================================> (196 + 4) / 200]\r"
     ]
    },
    {
     "name": "stdout",
     "output_type": "stream",
     "text": [
      "comparison_df: 2194371\n"
     ]
    },
    {
     "name": "stderr",
     "output_type": "stream",
     "text": [
      "                                                                                \r"
     ]
    }
   ],
   "source": [
    "## 1. L2G predicted credible sets count\n",
    "\n",
    "datasets = {\n",
    "    \"predictions_prepared\": predictions_prepared,\n",
    "    \"old_predictions_prepared\": old_predictions_prepared,\n",
    "    \"comparison_df\": comparison_df\n",
    "}\n",
    "\n",
    "print(\"COUNT PER DATASET\")\n",
    "for dataset in datasets.items():\n",
    "    print(f\"{dataset[0]}: {dataset[1].count()}\")\n"
   ]
  },
  {
   "cell_type": "code",
   "execution_count": 19,
   "metadata": {},
   "outputs": [
    {
     "name": "stdout",
     "output_type": "stream",
     "text": [
      "AVERAGE SCORES PER DATASET\n"
     ]
    },
    {
     "name": "stderr",
     "output_type": "stream",
     "text": [
      "                                                                                \r"
     ]
    },
    {
     "name": "stdout",
     "output_type": "stream",
     "text": [
      "predictions_prepared: 0.20072320074989783\n"
     ]
    },
    {
     "name": "stderr",
     "output_type": "stream",
     "text": [
      "                                                                                \r"
     ]
    },
    {
     "name": "stdout",
     "output_type": "stream",
     "text": [
      "old_predictions_prepared: 0.0720378814046517\n",
      "MEDIAN SCORE PER DATASET\n"
     ]
    },
    {
     "name": "stderr",
     "output_type": "stream",
     "text": [
      "                                                                                \r"
     ]
    },
    {
     "name": "stdout",
     "output_type": "stream",
     "text": [
      "predictions_prepared: 0.023215007036924362\n"
     ]
    },
    {
     "name": "stderr",
     "output_type": "stream",
     "text": [
      "[Stage 74:==============================================>       (171 + 8) / 200]\r"
     ]
    },
    {
     "name": "stdout",
     "output_type": "stream",
     "text": [
      "old_predictions_prepared: 0.012324056588113308\n"
     ]
    },
    {
     "name": "stderr",
     "output_type": "stream",
     "text": [
      "                                                                                \r"
     ]
    }
   ],
   "source": [
    "## 2. Descriptive stats for L2G scores\n",
    "\n",
    "print(\"AVERAGE SCORES PER DATASET\")\n",
    "for dataset in datasets.items():\n",
    "    if dataset[0] != \"comparison_df\":\n",
    "        print(f\"{dataset[0]}: {dataset[1].agg(f.avg('score')).collect()[0][0]}\")\n",
    "\n",
    "print(\"MEDIAN SCORE PER DATASET\")\n",
    "for dataset in datasets.items():\n",
    "    if dataset[0] != \"comparison_df\":\n",
    "        print(f\"{dataset[0]}: {dataset[1].approxQuantile('score',[0.5],0.1)[0]}\")\n"
   ]
  },
  {
   "cell_type": "code",
   "execution_count": 20,
   "metadata": {},
   "outputs": [
    {
     "name": "stdout",
     "output_type": "stream",
     "text": [
      "# OF ASSOCIATIONS WITH SCORE > 0.9\n"
     ]
    },
    {
     "name": "stderr",
     "output_type": "stream",
     "text": [
      "                                                                                \r"
     ]
    },
    {
     "name": "stdout",
     "output_type": "stream",
     "text": [
      "predictions_prepared: 5275 (0.06 from total)\n",
      "old_predictions_prepared: 3942 (0.1 from total)\n"
     ]
    }
   ],
   "source": [
    "## How many associations with a score > 0.9\n",
    "\n",
    "print(\"# OF ASSOCIATIONS WITH SCORE > 0.9\")\n",
    "for dataset in datasets.items():\n",
    "    if dataset[0] != \"comparison_df\":\n",
    "        print(f\"{dataset[0]}: {dataset[1].filter(f.col('score') >= 0.9).count()} ({round(dataset[1].filter(f.col('score') >= 0.9).count()/dataset[1].count() * 100, 2)} from total)\")\n"
   ]
  },
  {
   "cell_type": "markdown",
   "metadata": {},
   "source": [
    "## Results comparison\n",
    "\n",
    "The comparisons dataset represents the intersection of the predictions of the production and the new implementation. The objective is to compare the L2G scores of both implementations for the same studyLoci."
   ]
  },
  {
   "cell_type": "code",
   "execution_count": 27,
   "metadata": {},
   "outputs": [
    {
     "name": "stderr",
     "output_type": "stream",
     "text": [
      "                                                                                \r"
     ]
    },
    {
     "data": {
      "text/html": [
       "<div>\n",
       "<style scoped>\n",
       "    .dataframe tbody tr th:only-of-type {\n",
       "        vertical-align: middle;\n",
       "    }\n",
       "\n",
       "    .dataframe tbody tr th {\n",
       "        vertical-align: top;\n",
       "    }\n",
       "\n",
       "    .dataframe thead th {\n",
       "        text-align: right;\n",
       "    }\n",
       "</style>\n",
       "<table border=\"1\" class=\"dataframe\">\n",
       "  <thead>\n",
       "    <tr style=\"text-align: right;\">\n",
       "      <th></th>\n",
       "      <th>studyLocusId</th>\n",
       "      <th>geneId</th>\n",
       "      <th>variantId</th>\n",
       "      <th>studyId</th>\n",
       "      <th>new_score</th>\n",
       "      <th>old_score</th>\n",
       "    </tr>\n",
       "  </thead>\n",
       "  <tbody>\n",
       "    <tr>\n",
       "      <th>0</th>\n",
       "      <td>-9221872607204368224</td>\n",
       "      <td>ENSG00000065717</td>\n",
       "      <td>19_3414090_G_A</td>\n",
       "      <td>GCST010241</td>\n",
       "      <td>0.001887</td>\n",
       "      <td>0.008250</td>\n",
       "    </tr>\n",
       "    <tr>\n",
       "      <th>1</th>\n",
       "      <td>-9219397145747036852</td>\n",
       "      <td>ENSG00000168056</td>\n",
       "      <td>11_65619907_T_A</td>\n",
       "      <td>GCST007234</td>\n",
       "      <td>0.038177</td>\n",
       "      <td>0.014908</td>\n",
       "    </tr>\n",
       "    <tr>\n",
       "      <th>2</th>\n",
       "      <td>-9219397145747036852</td>\n",
       "      <td>ENSG00000175376</td>\n",
       "      <td>11_65619907_T_A</td>\n",
       "      <td>GCST007234</td>\n",
       "      <td>0.015846</td>\n",
       "      <td>0.011380</td>\n",
       "    </tr>\n",
       "    <tr>\n",
       "      <th>3</th>\n",
       "      <td>-9217975156633736203</td>\n",
       "      <td>ENSG00000187475</td>\n",
       "      <td>6_26325235_T_C</td>\n",
       "      <td>GCST009456</td>\n",
       "      <td>0.039668</td>\n",
       "      <td>0.010985</td>\n",
       "    </tr>\n",
       "    <tr>\n",
       "      <th>4</th>\n",
       "      <td>-9216978755013122322</td>\n",
       "      <td>ENSG00000157617</td>\n",
       "      <td>21_41816125_G_A</td>\n",
       "      <td>GCST005945</td>\n",
       "      <td>0.271009</td>\n",
       "      <td>0.024520</td>\n",
       "    </tr>\n",
       "  </tbody>\n",
       "</table>\n",
       "</div>"
      ],
      "text/plain": [
       "          studyLocusId           geneId        variantId     studyId  \\\n",
       "0 -9221872607204368224  ENSG00000065717   19_3414090_G_A  GCST010241   \n",
       "1 -9219397145747036852  ENSG00000168056  11_65619907_T_A  GCST007234   \n",
       "2 -9219397145747036852  ENSG00000175376  11_65619907_T_A  GCST007234   \n",
       "3 -9217975156633736203  ENSG00000187475   6_26325235_T_C  GCST009456   \n",
       "4 -9216978755013122322  ENSG00000157617  21_41816125_G_A  GCST005945   \n",
       "\n",
       "   new_score  old_score  \n",
       "0   0.001887   0.008250  \n",
       "1   0.038177   0.014908  \n",
       "2   0.015846   0.011380  \n",
       "3   0.039668   0.010985  \n",
       "4   0.271009   0.024520  "
      ]
     },
     "execution_count": 27,
     "metadata": {},
     "output_type": "execute_result"
    }
   ],
   "source": [
    "comparison_pdf = comparison_df.toPandas()\n",
    "comparison_pdf.head()"
   ]
  },
  {
   "cell_type": "code",
   "execution_count": 36,
   "metadata": {},
   "outputs": [
    {
     "name": "stdout",
     "output_type": "stream",
     "text": [
      "SCORES CORRELATION 0.3968047070256464\n",
      "Split by chromosome...\n",
      "Chromosome 1: 0.4283002148537705\n",
      "Chromosome 10: 0.4548083324805242\n",
      "Chromosome 11: 0.3952137911268187\n",
      "Chromosome 12: 0.4185634370780096\n",
      "Chromosome 13: 0.42117917239984404\n",
      "Chromosome 14: 0.39845735792304493\n",
      "Chromosome 15: 0.40346861517903765\n",
      "Chromosome 16: 0.39846240000598415\n",
      "Chromosome 17: 0.395304979654295\n",
      "Chromosome 18: 0.41437506238370103\n",
      "Chromosome 19: 0.4425118135710343\n",
      "Chromosome 2: 0.3889598461816933\n",
      "Chromosome 20: 0.43686865328167446\n",
      "Chromosome 21: 0.3849138600053731\n",
      "Chromosome 22: 0.43046292359639526\n",
      "Chromosome 3: 0.4111657046267522\n",
      "Chromosome 4: 0.4291713768129795\n",
      "Chromosome 5: 0.39581618467547613\n",
      "Chromosome 6: 0.37446130946623823\n",
      "Chromosome 7: 0.4059565003311735\n",
      "Chromosome 8: 0.44203370064434944\n",
      "Chromosome 9: 0.40815294157407295\n",
      "Chromosome X: 0.12625008528673395\n"
     ]
    }
   ],
   "source": [
    "## Correlation between old and new scores\n",
    "\n",
    "overall_corr = comparison_pdf[\"old_score\"].corr(comparison_pdf[\"new_score\"])\n",
    "print(\"SCORES CORRELATION\", overall_corr)\n",
    "\n",
    "print(\"Split by chromosome...\")\n",
    "\n",
    "comparison_pdf[\"chromosome\"] = comparison_pdf[\"variantId\"].str.split(\"_\", expand=True)[0]\n",
    "\n",
    "for group in comparison_pdf.sort_values(\"chromosome\").groupby(\"chromosome\"):\n",
    "    corr = group[1][\"old_score\"].corr(group[1][\"new_score\"])\n",
    "    print(f\"Chromosome {group[0]}: {corr}\")"
   ]
  },
  {
   "cell_type": "code",
   "execution_count": null,
   "metadata": {},
   "outputs": [],
   "source": [
    "## Add correlation coefficient to finished run in W&B\n",
    "# See dashboard here to find run ID: https://wandb.ai/open-targets/otg_l2g/table?workspace=user-opentargets\n",
    "my_run = \"4cyi1qvz\"\n",
    "\n",
    "wandb.init(id=my_run, project=\"otg_l2g\", resume=True)\n",
    "wandb.log({\"correlationProduction\": overall_corr})\n",
    "wandb.finish()"
   ]
  },
  {
   "cell_type": "code",
   "execution_count": 30,
   "metadata": {},
   "outputs": [
    {
     "data": {
      "text/plain": [
       "<Axes: title={'center': 'Distribution of L2G scores'}, xlabel='new_score', ylabel='old_score'>"
      ]
     },
     "execution_count": 30,
     "metadata": {},
     "output_type": "execute_result"
    },
    {
     "data": {
      "image/png": "[encoded data removed]",
      "text/plain": [
       "<Figure size 640x480 with 1 Axes>"
      ]
     },
     "metadata": {},
     "output_type": "display_data"
    }
   ],
   "source": [
    "comparison_pdf.plot.scatter(\n",
    "    x=\"new_score\",\n",
    "    y=\"old_score\",\n",
    "    title=\"Distribution of L2G scores\",\n",
    ")"
   ]
  }
 ],
 "metadata": {
  "kernelspec": {
   "display_name": ".venv",
   "language": "python",
   "name": "python3"
  },
  "language_info": {
   "codemirror_mode": {
    "name": "ipython",
    "version": 3
   },
   "file_extension": ".py",
   "mimetype": "text/x-python",
   "name": "python",
   "nbconvert_exporter": "python",
   "pygments_lexer": "ipython3",
   "version": "3.10.8"
  }
 },
 "nbformat": 4,
 "nbformat_minor": 2
}
