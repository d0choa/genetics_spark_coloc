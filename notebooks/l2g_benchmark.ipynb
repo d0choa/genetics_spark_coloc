{
  "cells": [
    {
      "cell_type": "markdown",
      "id": "86ecc4c9-8741-4a6b-ba3f-9b8a5c298036",
      "metadata": {},
      "source": "# Run L2G for FinnGen fine mapping results\n"
    },
    {
      "cell_type": "code",
      "execution_count": null,
      "id": "492df9b2-341d-4ef5-853e-05ba52cbf7c6",
      "metadata": {},
      "outputs": [],
      "source": "!pip3 install wandb # TODO: check toml"
    },
    {
      "cell_type": "code",
      "execution_count": 1,
      "id": "62ba001c-8b4e-49d8-903e-5bbe577a6fb0",
      "metadata": {},
      "outputs": [],
      "source": "import pyspark.sql.functions as f\nfrom pyspark.sql.types import DoubleType, IntegerType, StringType\n\nfrom xgboost.spark import SparkXGBClassifier\n\nfrom otg.common.session import Session\nfrom otg.config import LocusToGeneConfig\nfrom otg.dataset.colocalisation import Colocalisation\nfrom otg.dataset.l2g.feature_matrix import L2GFeatureMatrix\nfrom otg.dataset.l2g.gold_standard import L2GGoldStandard\nfrom otg.dataset.l2g.predictions import L2GPredictions\nfrom otg.dataset.study_index import StudyIndex\nfrom otg.dataset.study_locus import StudyLocus\nfrom otg.dataset.study_locus_overlap import StudyLocusOverlap\nfrom otg.dataset.v2g import V2G\nfrom otg.method.locus_to_gene import LocusToGeneModel, LocusToGeneTrainer"
    },
    {
      "cell_type": "code",
      "execution_count": null,
      "id": "04ba6142-ba49-4203-a7ad-552f19ebb36e",
      "metadata": {},
      "outputs": [],
      "source": "session = Session()"
    },
    {
      "cell_type": "markdown",
      "id": "979a3eac-1ff0-4885-a721-c2c1561a5a26",
      "metadata": {
        "tags": []
      },
      "source": "## Read data and initialise respective datasets"
    },
    {
      "cell_type": "code",
      "execution_count": 3,
      "id": "c8702741-4316-4c32-be6d-8b8c0be7faaa",
      "metadata": {},
      "outputs": [],
      "source": "finngen_assocs_path = \"gs://ot-team/dsuveges/finngen/2023.10.06_PICSed\"\nv2g_path = \"gs://genetics_etl_python_playground/XX.XX/output/python_etl/parquet/v2g\" # old v2g\ngold_standards_path = \"gs://genetics_etl_python_playground/input/l2g/gold_standard/curation.json\"\noverlaps_path = \"gs://genetics_etl_python_playground/output/python_etl/parquet/XX.XX/study_locus_overlap\"\ninteractions_path = \"gs://genetics_etl_python_playground/input/l2g/interaction\" # 23.09 data\n# paths to data that is not used (related to coloc feature factory)\nstudies_path = \"gs://genetics_etl_python_playground/output/python_etl/parquet/XX.XX/catalog_study_index\"\ncoloc_path = \"gs://genetics_etl_python_playground/XX.XX/output/python_etl/parquet/coloc_ecaviar_all\""
    },
    {
      "cell_type": "code",
      "execution_count": 4,
      "id": "166887f4-e040-45f0-814a-903171ac84e9",
      "metadata": {},
      "outputs": [
        {
          "name": "stderr",
          "output_type": "stream",
          "text": "[Stage 0:>                                                          (0 + 1) / 1]\r"
        },
        {
          "name": "stdout",
          "output_type": "stream",
          "text": "-RECORD 0---------------------------------------------------------------\n studyLocusId                     | 5242723067793949472                 \n variantId                        | 20_35437976_G_A                     \n chromosome                       | 20                                  \n position                         | 35437976                            \n studyId                          | FINNGEN_R9_HEIGHT_IRN               \n beta                             | -0.0551669                          \n oddsRatio                        | null                                \n oddsRatioConfidenceIntervalLower | null                                \n oddsRatioConfidenceIntervalUpper | null                                \n betaConfidenceIntervalLower      | -0.057027749999999995               \n betaConfidenceIntervalUpper      | -0.05330605                         \n pValueMantissa                   | 3.811                               \n pValueExponent                   | -193                                \n effectAlleleFrequencyFromSource  | 0.5599                              \n standardError                    | 0.00186085                          \n subStudyDescription              | null                                \n qualityControls                  | [Variant not found in LD reference] \n finemappingMethod                | null                                \n ldSet                            | null                                \n locus                            | null                                \nonly showing top 1 row\n\n"
        },
        {
          "name": "stderr",
          "output_type": "stream",
          "text": "                                                                                \r"
        }
      ],
      "source": "sl = StudyLocus.from_parquet(session, finngen_assocs_path)\nsl.df.show(1, False, True)"
    },
    {
      "cell_type": "code",
      "execution_count": 6,
      "id": "7fa6ad78-a18a-4cdd-bdb1-b76114a03bec",
      "metadata": {},
      "outputs": [
        {
          "name": "stderr",
          "output_type": "stream",
          "text": "[Stage 3:============================================>              (3 + 1) / 4]\r"
        },
        {
          "name": "stdout",
          "output_type": "stream",
          "text": "-RECORD 0-----------------------------------------\n geneId                         | ENSG00000279973 \n variantId                      | 22_10633788_G_A \n distance                       | 432630          \n datatypeId                     | distance        \n datasourceId                   | canonical_tss   \n score                          | 0.136           \n pmid                           | null            \n biofeature                     | null            \n resourceScore                  | null            \n position                       | null            \n label                          | null            \n variantFunctionalConsequenceId | null            \n isHighQualityPlof              | null            \n chromosome                     | null            \nonly showing top 1 row\n\n"
        },
        {
          "name": "stderr",
          "output_type": "stream",
          "text": "                                                                                \r"
        }
      ],
      "source": "# v2g data is old, i need to slightly convert it to conform to the schema\n\nv2g_df = (\n    session.spark.read.parquet(v2g_path)\n    .withColumn(\"resourceScore\", f.col(\"resourceScore\").cast(DoubleType()))\n    .withColumn(\"position\", f.col(\"resourceScore\").cast(IntegerType()))\n    .withColumn(\"chromosome\", f.col(\"resourceScore\").cast(StringType()))\n)\n\nv2g = V2G(_df=v2g_df, _schema=V2G.get_schema())\nv2g.df.show(1, False, True)"
    },
    {
      "cell_type": "code",
      "execution_count": 8,
      "id": "d9e038f6-e112-476b-91de-144e69d4ec4c",
      "metadata": {},
      "outputs": [
        {
          "name": "stderr",
          "output_type": "stream",
          "text": "[Stage 46:===================================================>     (9 + 1) / 10]\r"
        },
        {
          "name": "stdout",
          "output_type": "stream",
          "text": "-RECORD 0-------------------------------\n studyLocusId    | -4063386906864236882 \n geneId          | ENSG00000100344      \n goldStandardSet | positive             \nonly showing top 1 row\n\n"
        },
        {
          "name": "stderr",
          "output_type": "stream",
          "text": "                                                                                \r"
        }
      ],
      "source": "## PARSING GOLD STANDARDS\n\nstudy_locus_overlap = StudyLocusOverlap.from_parquet(\n                session, overlaps_path\n            )\ninteractions = session.spark.read.parquet(interactions_path)\ngs_curation = session.spark.read.json(gold_standards_path)\n\ngold_standards = L2GGoldStandard.from_curation(\n                gold_standard_curation=gs_curation,\n                v2g=v2g,\n                study_locus_overlap=study_locus_overlap,\n                interactions=interactions,\n            )\n\ngold_standards.df.show(1, False, True)"
    },
    {
      "cell_type": "code",
      "execution_count": 16,
      "id": "56acdfe2-8f01-409e-a150-4180f25a807e",
      "metadata": {},
      "outputs": [
        {
          "name": "stderr",
          "output_type": "stream",
          "text": "                                                                                \r"
        },
        {
          "name": "stdout",
          "output_type": "stream",
          "text": "root\n |-- studyLocusId: long (nullable = true)\n |-- geneId: string (nullable = true)\n |-- distanceTssMean: float (nullable = true)\n |-- distanceTssMinimum: float (nullable = true)\n\n"
        },
        {
          "name": "stderr",
          "output_type": "stream",
          "text": "[Stage 210:==================================================>     (9 + 1) / 10]\r"
        },
        {
          "name": "stdout",
          "output_type": "stream",
          "text": "-RECORD 0----------------------------------\n studyLocusId       | -6495574247332038438 \n geneId             | ENSG00000100249      \n distanceTssMean    | 253151.0             \n distanceTssMinimum | 253151.0             \nonly showing top 1 row\n\n"
        },
        {
          "name": "stderr",
          "output_type": "stream",
          "text": "                                                                                \r"
        }
      ],
      "source": "## CREATING FEATURE MATRIX\n\nstudies = StudyIndex.from_parquet(session, studies_path)\ncoloc = Colocalisation.from_parquet(session, coloc_path)\n\nfm = L2GFeatureMatrix.generate_features(\n                study_locus=sl,\n                study_index=studies,\n                variant_gene=v2g,\n                colocalisation=coloc,\n            )\n\nfm.df.filter(~f.col(\"distanceTssMean\").isNull()).show(1, False, True)"
    },
    {
      "cell_type": "markdown",
      "id": "d74cdff4-62c0-4318-8a82-4c4476ba9855",
      "metadata": {},
      "source": "## Join gold standard with feature matrix\n\nGold standard: Curated pairs of study/locus/gene pairs.\nFeature matrix: Our study locus associations enriched with functional genomics features\n\nWe build a feature matrix based on all associations in OTG.\nThis is joined with the Gold Standard, which is supposed to be a subset of the associations dataset."
    },
    {
      "cell_type": "code",
      "execution_count": 17,
      "id": "593398c5-09de-4fde-a0f3-f45e14b6fee9",
      "metadata": {},
      "outputs": [
        {
          "name": "stderr",
          "output_type": "stream",
          "text": "[Stage 224:>                                                        (0 + 1) / 1]\r"
        },
        {
          "name": "stdout",
          "output_type": "stream",
          "text": "(0 rows)\n\n"
        },
        {
          "name": "stderr",
          "output_type": "stream",
          "text": "                                                                                \r"
        }
      ],
      "source": "data = L2GFeatureMatrix(\n                _df=gold_standards.df.join(\n                    fm.df, on=[\"studyLocusId\", \"geneId\"], how=\"inner\"\n                ).transform(L2GFeatureMatrix.fill_na),\n                _schema=L2GFeatureMatrix.get_schema(),\n            )\n\ndata.df.show(1, False, True)"
    },
    {
      "cell_type": "code",
      "execution_count": 18,
      "id": "67564067-1fcc-453d-a2a4-0857f6639d08",
      "metadata": {},
      "outputs": [
        {
          "name": "stdout",
          "output_type": "stream",
          "text": "root\n |-- studyLocusId: long (nullable = false)\n |-- geneId: string (nullable = true)\n |-- goldStandardSet: string (nullable = false)\n |-- distanceTssMean: float (nullable = false)\n |-- distanceTssMinimum: float (nullable = false)\n\n"
        }
      ],
      "source": "data.df.printSchema()"
    },
    {
      "cell_type": "code",
      "execution_count": null,
      "id": "7e15dfe1-7333-4409-bbe1-ed758773805e",
      "metadata": {},
      "outputs": [],
      "source": ""
    },
    {
      "cell_type": "markdown",
      "id": "0c6cfc19-ce60-4767-b6fb-449f06f65cec",
      "metadata": {},
      "source": "## Train XGBoost"
    },
    {
      "cell_type": "code",
      "execution_count": null,
      "id": "06ef9dab-cc31-4693-87eb-f98c68a3ef6d",
      "metadata": {},
      "outputs": [],
      "source": ""
    }
  ],
  "metadata": {
    "kernelspec": {
      "display_name": "Python 3",
      "language": "python",
      "name": "python3"
    },
    "language_info": {
      "codemirror_mode": {
        "name": "ipython",
        "version": 3
      },
      "file_extension": ".py",
      "mimetype": "text/x-python",
      "name": "python",
      "nbconvert_exporter": "python",
      "pygments_lexer": "ipython3",
      "version": "3.10.8"
    }
  },
  "nbformat": 4,
  "nbformat_minor": 5
}
